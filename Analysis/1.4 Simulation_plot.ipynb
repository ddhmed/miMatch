{
 "cells": [
  {
   "cell_type": "code",
   "execution_count": 1,
   "id": "6dc72633",
   "metadata": {
    "collapsed": true,
    "jupyter": {
     "outputs_hidden": true
    }
   },
   "outputs": [
    {
     "name": "stderr",
     "output_type": "stream",
     "text": [
      "Warning message:\n",
      "\"package 'ggplot2' was built under R version 4.2.2\"\n",
      "\n",
      "Attaching package: 'cowplot'\n",
      "\n",
      "\n",
      "The following object is masked from 'package:ggpubr':\n",
      "\n",
      "    get_legend\n",
      "\n",
      "\n",
      "Warning message:\n",
      "\"package 'stringr' was built under R version 4.2.2\"\n"
     ]
    }
   ],
   "source": [
    "setwd('E:/notebook/miMatch')\n",
    "library(ggplot2)\n",
    "library(ggpubr)\n",
    "library(cowplot)\n",
    "library(stringr)\n",
    "library(repr)"
   ]
  },
  {
   "cell_type": "markdown",
   "id": "0cdd52bf",
   "metadata": {},
   "source": [
    "# differential taxa "
   ]
  },
  {
   "cell_type": "code",
   "execution_count": 2,
   "id": "7b30786a",
   "metadata": {},
   "outputs": [
    {
     "data": {
      "text/plain": [
       " Taxa         num       \n",
       " W1:10   Min.   : 0.00  \n",
       " W2:10   1st Qu.: 0.00  \n",
       " W3:10   Median : 3.00  \n",
       " W4:10   Mean   :19.72  \n",
       " W5:10   3rd Qu.:46.75  \n",
       "         Max.   :50.00  "
      ]
     },
     "metadata": {},
     "output_type": "display_data"
    },
    {
     "name": "stderr",
     "output_type": "stream",
     "text": [
      "Warning message:\n",
      "\"\u001b[1m\u001b[22mUsing `size` aesthetic for lines was deprecated in ggplot2 3.4.0.\n",
      "\u001b[36mℹ\u001b[39m Please use `linewidth` instead.\"\n"
     ]
    },
    {
     "data": {
      "image/png": "[encoded data removed]",
      "text/plain": [
       "plot without title"
      ]
     },
     "metadata": {
      "image/png": {
       "height": 420,
       "width": 420
      }
     },
     "output_type": "display_data"
    }
   ],
   "source": [
    "diffTaxa<-read.csv(\"simuData/differentialTaxa.csv\",stringsAsFactors = F)\n",
    "diffTaxa$Taxa<-factor(diffTaxa$Taxa)\n",
    "summary(diffTaxa)\n",
    "seData=aggregate(diffTaxa$num, \n",
    "                 by=list(Taxa=diffTaxa$Taxa),mean_se)\n",
    "pdata<-data.frame(Taxa=seData$Taxa,\n",
    "                  ymean=as.numeric(seData$x[,'y']),\n",
    "                  ymin=as.numeric(seData$x[,'ymin']),\n",
    "                  ymax=as.numeric(seData$x[,'ymax']) ) \n",
    "\n",
    "ggplot(pdata,aes(x=Taxa,y=ymean,fill=Taxa))+ \n",
    "  geom_bar(position=\"dodge\", \n",
    "           stat=\"identity\", \n",
    "           width = 0.7)+  \n",
    "  geom_errorbar(aes(x = Taxa,ymin = ymin, ymax = ymax), \n",
    "                width = 0.1, \n",
    "                color = 'black',\n",
    "                size=0.8)+ \n",
    "  xlab(\"\")+ylab(\"Numbers of Differential Taxa\")+\n",
    "  theme_bw() + theme(panel.grid=element_blank())"
   ]
  },
  {
   "cell_type": "markdown",
   "id": "ab9b1ba4",
   "metadata": {},
   "source": [
    "# 1. differece between case vs. control"
   ]
  },
  {
   "cell_type": "code",
   "execution_count": 3,
   "id": "56af278c",
   "metadata": {},
   "outputs": [],
   "source": [
    "NE_NA_NS<-read.csv(\"simuData/NE_NA_NS_changed.csv\",stringsAsFactors = F,row.names = 1)\n",
    "path = \"E:/notebook/miMatch/simuData\"\n",
    "fileName = dir(path)\n",
    "sindex<-grep(\"SE_SA_SS_changed*\",fileName)\n",
    "sfileName = fileName[sindex]\n",
    "hindex<-grep(\"HE_HA_HS_changed*\",fileName)\n",
    "hfileName = fileName[hindex]"
   ]
  },
  {
   "cell_type": "code",
   "execution_count": 4,
   "id": "41cf4913",
   "metadata": {},
   "outputs": [
    {
     "data": {
      "text/plain": [
       "    Accuracy        Precision          Recall             F1        \n",
       " Min.   :0.4900   Min.   :0.4949   Min.   :0.8000   Min.   :0.6577  \n",
       " 1st Qu.:0.5300   1st Qu.:0.5155   1st Qu.:0.9800   1st Qu.:0.6803  \n",
       " Median :0.7450   Median :0.6644   Median :1.0000   Median :0.7952  \n",
       " Mean   :0.7409   Mean   :0.7251   Mean   :0.9784   Mean   :0.8131  \n",
       " 3rd Qu.:0.9500   3rd Qu.:0.9799   3rd Qu.:1.0000   3rd Qu.:0.9519  \n",
       " Max.   :1.0000   Max.   :1.0000   Max.   :1.0000   Max.   :1.0000  \n",
       "                                                                    \n",
       "  psm.Accuracy    psm.Precision      psm.Recall         psm.F1      \n",
       " Min.   :0.1500   Min.   :0.2308   Min.   :0.3000   Min.   :0.2609  \n",
       " 1st Qu.:0.9000   1st Qu.:0.9800   1st Qu.:0.8400   1st Qu.:0.8889  \n",
       " Median :0.9500   Median :1.0000   Median :0.9200   Median :0.9474  \n",
       " Mean   :0.8912   Mean   :0.9346   Mean   :0.8854   Mean   :0.8998  \n",
       " 3rd Qu.:0.9700   3rd Qu.:1.0000   3rd Qu.:0.9800   3rd Qu.:0.9703  \n",
       " Max.   :1.0000   Max.   :1.0000   Max.   :1.0000   Max.   :1.0000  \n",
       "                                                                    \n",
       "     Group    \n",
       " 0      : 50  \n",
       " 0.02   : 50  \n",
       " 0.04   : 50  \n",
       " 0.06   : 50  \n",
       " 0.08   : 50  \n",
       " 0.1    : 50  \n",
       " (Other):250  "
      ]
     },
     "metadata": {},
     "output_type": "display_data"
    }
   ],
   "source": [
    "sfilePath <- sapply(sfileName, function(x){ \n",
    "  paste(path,x,sep=\"/\")})   \n",
    "#list meta\n",
    "data <- lapply(sfilePath, function(x){\n",
    "  read.csv(x, header=T,row.names = 1)}) \n",
    "#list to dataframe\n",
    "SE_SA_SS=data[[1]]\n",
    "for (i in 2:length(data)) {\n",
    "  SE_SA_SS<-rbind(SE_SA_SS,data[[i]])\n",
    "}\n",
    "\n",
    "hfilePath <- sapply(hfileName, function(x){ \n",
    "  paste(path,x,sep=\"/\")})   \n",
    "\n",
    "data <- lapply(hfilePath, function(x){\n",
    "  read.csv(x, header=T,row.names = 1)})  \n",
    "\n",
    "HE_HA_HS=data[[1]]\n",
    "for (i in 2:length(data)) {\n",
    "  HE_HA_HS<-rbind(HE_HA_HS,data[[i]])\n",
    "}\n",
    "\n",
    "#all data\n",
    "data<-rbind(NE_NA_NS,SE_SA_SS,HE_HA_HS)\n",
    "data$Group = rep( seq(from = 0, to = 0.2, by =0.02),each=50) \n",
    "data$Group<-factor(data$Group)\n",
    "summary(data)"
   ]
  },
  {
   "cell_type": "code",
   "execution_count": 5,
   "id": "7d465215",
   "metadata": {},
   "outputs": [
    {
     "data": {
      "text/html": [
       "<table class=\"dataframe\">\n",
       "<caption>A data.frame: 22 × 5</caption>\n",
       "<thead>\n",
       "\t<tr><th scope=col>Group</th><th scope=col>Difference</th><th scope=col>x</th><th scope=col>ymin</th><th scope=col>ymax</th></tr>\n",
       "\t<tr><th scope=col>&lt;fct&gt;</th><th scope=col>&lt;fct&gt;</th><th scope=col>&lt;dbl&gt;</th><th scope=col>&lt;dbl&gt;</th><th scope=col>&lt;dbl&gt;</th></tr>\n",
       "</thead>\n",
       "<tbody>\n",
       "\t<tr><td>Unmatched</td><td>0   </td><td>0.9616</td><td>0.9580965</td><td>0.9651035</td></tr>\n",
       "\t<tr><td>Matched  </td><td>0   </td><td>0.9490</td><td>0.9424146</td><td>0.9555854</td></tr>\n",
       "\t<tr><td>Unmatched</td><td>0.02</td><td>0.9688</td><td>0.9662343</td><td>0.9713657</td></tr>\n",
       "\t<tr><td>Matched  </td><td>0.02</td><td>0.9276</td><td>0.9162088</td><td>0.9389912</td></tr>\n",
       "\t<tr><td>Unmatched</td><td>0.04</td><td>0.9654</td><td>0.9611988</td><td>0.9696012</td></tr>\n",
       "\t<tr><td>Matched  </td><td>0.04</td><td>0.9384</td><td>0.9274405</td><td>0.9493595</td></tr>\n",
       "\t<tr><td>Unmatched</td><td>0.06</td><td>0.9260</td><td>0.9172682</td><td>0.9347318</td></tr>\n",
       "\t<tr><td>Matched  </td><td>0.06</td><td>0.9456</td><td>0.9351718</td><td>0.9560282</td></tr>\n",
       "\t<tr><td>Unmatched</td><td>0.08</td><td>0.8298</td><td>0.8142384</td><td>0.8453616</td></tr>\n",
       "\t<tr><td>Matched  </td><td>0.08</td><td>0.9182</td><td>0.9019000</td><td>0.9345000</td></tr>\n",
       "\t<tr><td>Unmatched</td><td>0.1 </td><td>0.7434</td><td>0.7265220</td><td>0.7602780</td></tr>\n",
       "\t<tr><td>Matched  </td><td>0.1 </td><td>0.9208</td><td>0.9018052</td><td>0.9397948</td></tr>\n",
       "\t<tr><td>Unmatched</td><td>0.12</td><td>0.6478</td><td>0.6338664</td><td>0.6617336</td></tr>\n",
       "\t<tr><td>Matched  </td><td>0.12</td><td>0.9346</td><td>0.9257603</td><td>0.9434397</td></tr>\n",
       "\t<tr><td>Unmatched</td><td>0.14</td><td>0.5576</td><td>0.5519971</td><td>0.5632029</td></tr>\n",
       "\t<tr><td>Matched  </td><td>0.14</td><td>0.8572</td><td>0.8274623</td><td>0.8869377</td></tr>\n",
       "\t<tr><td>Unmatched</td><td>0.16</td><td>0.5294</td><td>0.5253553</td><td>0.5334447</td></tr>\n",
       "\t<tr><td>Matched  </td><td>0.16</td><td>0.8338</td><td>0.8045022</td><td>0.8630978</td></tr>\n",
       "\t<tr><td>Unmatched</td><td>0.18</td><td>0.5116</td><td>0.5096757</td><td>0.5135243</td></tr>\n",
       "\t<tr><td>Matched  </td><td>0.18</td><td>0.7960</td><td>0.7628929</td><td>0.8291071</td></tr>\n",
       "\t<tr><td>Unmatched</td><td>0.2 </td><td>0.5080</td><td>0.5063340</td><td>0.5096660</td></tr>\n",
       "\t<tr><td>Matched  </td><td>0.2 </td><td>0.7820</td><td>0.7505442</td><td>0.8134558</td></tr>\n",
       "</tbody>\n",
       "</table>\n"
      ],
      "text/latex": [
       "A data.frame: 22 × 5\n",
       "\\begin{tabular}{lllll}\n",
       " Group & Difference & x & ymin & ymax\\\\\n",
       " <fct> & <fct> & <dbl> & <dbl> & <dbl>\\\\\n",
       "\\hline\n",
       "\t Unmatched & 0    & 0.9616 & 0.9580965 & 0.9651035\\\\\n",
       "\t Matched   & 0    & 0.9490 & 0.9424146 & 0.9555854\\\\\n",
       "\t Unmatched & 0.02 & 0.9688 & 0.9662343 & 0.9713657\\\\\n",
       "\t Matched   & 0.02 & 0.9276 & 0.9162088 & 0.9389912\\\\\n",
       "\t Unmatched & 0.04 & 0.9654 & 0.9611988 & 0.9696012\\\\\n",
       "\t Matched   & 0.04 & 0.9384 & 0.9274405 & 0.9493595\\\\\n",
       "\t Unmatched & 0.06 & 0.9260 & 0.9172682 & 0.9347318\\\\\n",
       "\t Matched   & 0.06 & 0.9456 & 0.9351718 & 0.9560282\\\\\n",
       "\t Unmatched & 0.08 & 0.8298 & 0.8142384 & 0.8453616\\\\\n",
       "\t Matched   & 0.08 & 0.9182 & 0.9019000 & 0.9345000\\\\\n",
       "\t Unmatched & 0.1  & 0.7434 & 0.7265220 & 0.7602780\\\\\n",
       "\t Matched   & 0.1  & 0.9208 & 0.9018052 & 0.9397948\\\\\n",
       "\t Unmatched & 0.12 & 0.6478 & 0.6338664 & 0.6617336\\\\\n",
       "\t Matched   & 0.12 & 0.9346 & 0.9257603 & 0.9434397\\\\\n",
       "\t Unmatched & 0.14 & 0.5576 & 0.5519971 & 0.5632029\\\\\n",
       "\t Matched   & 0.14 & 0.8572 & 0.8274623 & 0.8869377\\\\\n",
       "\t Unmatched & 0.16 & 0.5294 & 0.5253553 & 0.5334447\\\\\n",
       "\t Matched   & 0.16 & 0.8338 & 0.8045022 & 0.8630978\\\\\n",
       "\t Unmatched & 0.18 & 0.5116 & 0.5096757 & 0.5135243\\\\\n",
       "\t Matched   & 0.18 & 0.7960 & 0.7628929 & 0.8291071\\\\\n",
       "\t Unmatched & 0.2  & 0.5080 & 0.5063340 & 0.5096660\\\\\n",
       "\t Matched   & 0.2  & 0.7820 & 0.7505442 & 0.8134558\\\\\n",
       "\\end{tabular}\n"
      ],
      "text/markdown": [
       "\n",
       "A data.frame: 22 × 5\n",
       "\n",
       "| Group &lt;fct&gt; | Difference &lt;fct&gt; | x &lt;dbl&gt; | ymin &lt;dbl&gt; | ymax &lt;dbl&gt; |\n",
       "|---|---|---|---|---|\n",
       "| Unmatched | 0    | 0.9616 | 0.9580965 | 0.9651035 |\n",
       "| Matched   | 0    | 0.9490 | 0.9424146 | 0.9555854 |\n",
       "| Unmatched | 0.02 | 0.9688 | 0.9662343 | 0.9713657 |\n",
       "| Matched   | 0.02 | 0.9276 | 0.9162088 | 0.9389912 |\n",
       "| Unmatched | 0.04 | 0.9654 | 0.9611988 | 0.9696012 |\n",
       "| Matched   | 0.04 | 0.9384 | 0.9274405 | 0.9493595 |\n",
       "| Unmatched | 0.06 | 0.9260 | 0.9172682 | 0.9347318 |\n",
       "| Matched   | 0.06 | 0.9456 | 0.9351718 | 0.9560282 |\n",
       "| Unmatched | 0.08 | 0.8298 | 0.8142384 | 0.8453616 |\n",
       "| Matched   | 0.08 | 0.9182 | 0.9019000 | 0.9345000 |\n",
       "| Unmatched | 0.1  | 0.7434 | 0.7265220 | 0.7602780 |\n",
       "| Matched   | 0.1  | 0.9208 | 0.9018052 | 0.9397948 |\n",
       "| Unmatched | 0.12 | 0.6478 | 0.6338664 | 0.6617336 |\n",
       "| Matched   | 0.12 | 0.9346 | 0.9257603 | 0.9434397 |\n",
       "| Unmatched | 0.14 | 0.5576 | 0.5519971 | 0.5632029 |\n",
       "| Matched   | 0.14 | 0.8572 | 0.8274623 | 0.8869377 |\n",
       "| Unmatched | 0.16 | 0.5294 | 0.5253553 | 0.5334447 |\n",
       "| Matched   | 0.16 | 0.8338 | 0.8045022 | 0.8630978 |\n",
       "| Unmatched | 0.18 | 0.5116 | 0.5096757 | 0.5135243 |\n",
       "| Matched   | 0.18 | 0.7960 | 0.7628929 | 0.8291071 |\n",
       "| Unmatched | 0.2  | 0.5080 | 0.5063340 | 0.5096660 |\n",
       "| Matched   | 0.2  | 0.7820 | 0.7505442 | 0.8134558 |\n",
       "\n"
      ],
      "text/plain": [
       "   Group     Difference x      ymin      ymax     \n",
       "1  Unmatched 0          0.9616 0.9580965 0.9651035\n",
       "2  Matched   0          0.9490 0.9424146 0.9555854\n",
       "3  Unmatched 0.02       0.9688 0.9662343 0.9713657\n",
       "4  Matched   0.02       0.9276 0.9162088 0.9389912\n",
       "5  Unmatched 0.04       0.9654 0.9611988 0.9696012\n",
       "6  Matched   0.04       0.9384 0.9274405 0.9493595\n",
       "7  Unmatched 0.06       0.9260 0.9172682 0.9347318\n",
       "8  Matched   0.06       0.9456 0.9351718 0.9560282\n",
       "9  Unmatched 0.08       0.8298 0.8142384 0.8453616\n",
       "10 Matched   0.08       0.9182 0.9019000 0.9345000\n",
       "11 Unmatched 0.1        0.7434 0.7265220 0.7602780\n",
       "12 Matched   0.1        0.9208 0.9018052 0.9397948\n",
       "13 Unmatched 0.12       0.6478 0.6338664 0.6617336\n",
       "14 Matched   0.12       0.9346 0.9257603 0.9434397\n",
       "15 Unmatched 0.14       0.5576 0.5519971 0.5632029\n",
       "16 Matched   0.14       0.8572 0.8274623 0.8869377\n",
       "17 Unmatched 0.16       0.5294 0.5253553 0.5334447\n",
       "18 Matched   0.16       0.8338 0.8045022 0.8630978\n",
       "19 Unmatched 0.18       0.5116 0.5096757 0.5135243\n",
       "20 Matched   0.18       0.7960 0.7628929 0.8291071\n",
       "21 Unmatched 0.2        0.5080 0.5063340 0.5096660\n",
       "22 Matched   0.2        0.7820 0.7505442 0.8134558"
      ]
     },
     "metadata": {},
     "output_type": "display_data"
    }
   ],
   "source": [
    "#accuracy\n",
    "AccData<-data.frame(Accuracy=c(data$Accuracy,data$psm.Accuracy),\n",
    "                    Group=rep(c('Unmatched','Matched'),each=nrow(data)),\n",
    "                    Difference=rep(data$Group,2)) \n",
    "AccData$Group<-factor(AccData$Group,levels = c('Unmatched','Matched'))\n",
    "AccData$Difference<-factor(AccData$Difference)\n",
    "#summary(AccData)\n",
    "meanAccData=aggregate(AccData$Accuracy , \n",
    "            by=list(Group=AccData$Group,\n",
    "                  Difference=AccData$Difference),mean)\n",
    "seAccData=aggregate(AccData$Accuracy , \n",
    "                      by=list(Group=AccData$Group,\n",
    "                              Difference=AccData$Difference),mean_se)\n",
    "meanAccData$ymin<-as.numeric(seAccData$x[,'ymin']) \n",
    "meanAccData$ymax<-as.numeric(seAccData$x[,'ymax']) \n",
    "meanAccData"
   ]
  },
  {
   "cell_type": "code",
   "execution_count": 6,
   "id": "03dfbf76",
   "metadata": {},
   "outputs": [
    {
     "name": "stderr",
     "output_type": "stream",
     "text": [
      "Warning message:\n",
      "\"\u001b[1m\u001b[22mThe `size` argument of `element_rect()` is deprecated as of ggplot2 3.4.0.\n",
      "\u001b[36mℹ\u001b[39m Please use the `linewidth` argument instead.\"\n"
     ]
    },
    {
     "data": {
      "image/png": "[encoded data removed]",
      "text/plain": [
       "plot without title"
      ]
     },
     "metadata": {
      "image/png": {
       "height": 240,
       "width": 360
      }
     },
     "output_type": "display_data"
    }
   ],
   "source": [
    "#summary(meanAccData)\n",
    "options(repr.plot.width=6,repr.plot.height=4)\n",
    "p<-ggplot(meanAccData,aes(factor(Difference),x,\n",
    "                     color=Group,group=Group))+\n",
    "      geom_line(cex=1.3)+\n",
    "      geom_point(size=4)+\n",
    "      geom_errorbar(aes(ymin=ymin, ymax=ymax),colour=\"#393E46\", width=.1,size=1.3)+\n",
    "      scale_y_continuous(limits = c(0.4,1),expand = c(0,0))+\n",
    "      labs(title = \"\", y=\"Accuracy\", x = \"Difference between cases and controls\")+\n",
    "      scale_color_manual(values = c('#ff8c3e','#245c00'))+\n",
    "      theme_test(base_size = 20)+\n",
    "      theme(legend.position = 'none',\n",
    "            panel.border = element_rect(size=2,fill = 'transparent'),\n",
    "            axis.text = element_text(color='black'))\n",
    "p\n",
    "#pdf(\"./Results/Results1/diffAccuracy.pdf\",width = 6,height = 4)\n",
    "#p\n",
    "#dev.off()"
   ]
  },
  {
   "cell_type": "markdown",
   "id": "e6e6a73d",
   "metadata": {},
   "source": [
    "## boxplot"
   ]
  },
  {
   "cell_type": "code",
   "execution_count": 8,
   "id": "0d7757ab",
   "metadata": {},
   "outputs": [
    {
     "name": "stderr",
     "output_type": "stream",
     "text": [
      "Warning message:\n",
      "\"\u001b[1m\u001b[22mThe `size` argument of `element_line()` is deprecated as of ggplot2 3.4.0.\n",
      "\u001b[36mℹ\u001b[39m Please use the `linewidth` argument instead.\"\n"
     ]
    }
   ],
   "source": [
    "# No differece\n",
    "Npdata<-AccData[which(AccData$Difference=='0'),]\n",
    "p1<-ggplot(Npdata,aes(Group,Accuracy))+\n",
    "  stat_summary(aes(fill = Group),fun=\"mean\",geom = \"bar\",\n",
    "               fun.args = list(mult=1),width=0.7)+\n",
    "  scale_fill_manual(values = c(\"#FDBF6F\",\"#33A02C\"))+\n",
    "  stat_summary(fun.data=mean_sdl,fun.args = list(mult=1),\n",
    "               geom=\"errorbar\",width=0.2)+\n",
    "  stat_compare_means(label = \"p.format\",method = \"wilcox.test\")+\n",
    "  geom_jitter(position = position_jitter(0.2),shape=21,\n",
    "              size = 2,alpha=0.9)+\n",
    "  labs(x = \"\",y = \"Accuracy\")+\n",
    "  #scale_y_continuous(expand = c(0,0),limits = c(0,2))+\n",
    "  theme_classic()+\n",
    "  theme(panel.background=element_rect(fill=\"white\",colour=\"black\",size=0.25), \n",
    "        axis.line=element_line(colour=\"black\",size=0.25), \n",
    "        axis.title=element_text(size=13,color=\"black\"), \n",
    "        axis.text = element_text(size=12,color=\"black\"), \n",
    "        legend.position=\"none\") \n",
    "\n",
    "#0.1 difference\n",
    "pdata1<-AccData[which(AccData$Difference=='0.1'),]\n",
    "p2<-ggplot(pdata1,aes(Group,Accuracy))+\n",
    "  stat_summary(aes(fill = Group),fun=\"mean\",geom = \"bar\",\n",
    "               fun.args = list(mult=1),width=0.7)+\n",
    "  scale_fill_manual(values = c(\"#FDBF6F\",\"#33A02C\"))+\n",
    "  stat_summary(fun.data=mean_sdl,fun.args = list(mult=1),\n",
    "               geom=\"errorbar\",width=0.2)+\n",
    "  stat_compare_means(label = \"p.format\",method = \"wilcox.test\")+\n",
    "  geom_jitter(position = position_jitter(0.2),shape=21,\n",
    "              size = 2,alpha=0.9)+\n",
    "  labs(x = \"\",y = \"Accuracy\")+\n",
    "  #scale_y_continuous(expand = c(0,0),limits = c(0,2))+\n",
    "  theme_classic()+\n",
    "  theme(panel.background=element_rect(fill=\"white\",colour=\"black\",size=0.25), \n",
    "        axis.line=element_line(colour=\"black\",size=0.25), \n",
    "        axis.title=element_text(size=13,color=\"black\"), \n",
    "        axis.text = element_text(size=12,color=\"black\"), \n",
    "        legend.position=\"none\") # 不显示图例\n",
    "\n",
    "# 0.2 difference\n",
    "pdata2<-AccData[which(AccData$Difference=='0.2'),]\n",
    "p3<-ggplot(pdata2,aes(Group,Accuracy))+\n",
    "  stat_summary(aes(fill = Group),fun=\"mean\",geom = \"bar\",\n",
    "               fun.args = list(mult=1),width=0.7)+\n",
    "  scale_fill_manual(values = c(\"#FDBF6F\",\"#33A02C\"))+\n",
    "  stat_summary(fun.data=mean_sdl,fun.args = list(mult=1),\n",
    "               geom=\"errorbar\",width=0.2)+\n",
    "  stat_compare_means(label = \"p.format\",method = \"wilcox.test\")+\n",
    "  geom_jitter(position = position_jitter(0.2),shape=21,\n",
    "              size = 2,alpha=0.9)+\n",
    "  labs(x = \"\",y = \"Accuracy\")+\n",
    "  #scale_y_continuous(expand = c(0,0),limits = c(0,2))+\n",
    "  theme_classic()+\n",
    "  theme(panel.background=element_rect(fill=\"white\",colour=\"black\",size=0.25), \n",
    "        axis.line=element_line(colour=\"black\",size=0.25), \n",
    "        axis.title=element_text(size=13,color=\"black\"), \n",
    "        axis.text = element_text(size=12,color=\"black\"), \n",
    "        legend.position=\"none\") \n",
    "\n"
   ]
  },
  {
   "cell_type": "code",
   "execution_count": 9,
   "id": "e33cdf9c",
   "metadata": {},
   "outputs": [
    {
     "name": "stderr",
     "output_type": "stream",
     "text": [
      "Warning message:\n",
      "\"\u001b[1m\u001b[22mThe dot-dot notation (`..p.format..`) was deprecated in ggplot2 3.4.0.\n",
      "\u001b[36mℹ\u001b[39m Please use `after_stat(p.format)` instead.\"\n"
     ]
    },
    {
     "data": {
      "text/html": [
       "<strong>png:</strong> 2"
      ],
      "text/latex": [
       "\\textbf{png:} 2"
      ],
      "text/markdown": [
       "**png:** 2"
      ],
      "text/plain": [
       "png \n",
       "  2 "
      ]
     },
     "metadata": {},
     "output_type": "display_data"
    },
    {
     "data": {
      "image/png": "[encoded data removed]",
      "text/plain": [
       "plot without title"
      ]
     },
     "metadata": {
      "image/png": {
       "height": 240,
       "width": 360
      }
     },
     "output_type": "display_data"
    }
   ],
   "source": [
    "options(repr.plot.width=6,repr.plot.height=4)\n",
    "p<-plot_grid(p1,p2,p3, nrow = 1, align = \"v\")\n",
    "p\n",
    "pdf(\"./Results/Results1/diffBoxPlot.pdf\",width = 6,height = 4)\n",
    "p\n",
    "dev.off()"
   ]
  },
  {
   "cell_type": "markdown",
   "id": "8fc53f5b",
   "metadata": {},
   "source": [
    "# 2. linear relationship "
   ]
  },
  {
   "cell_type": "code",
   "execution_count": 16,
   "id": "72aeb29e",
   "metadata": {},
   "outputs": [
    {
     "data": {
      "text/html": [
       "<table class=\"dataframe\">\n",
       "<caption>A data.frame: 12 × 3</caption>\n",
       "<thead>\n",
       "\t<tr><th scope=col>Group</th><th scope=col>Relationship</th><th scope=col>x</th></tr>\n",
       "\t<tr><th scope=col>&lt;fct&gt;</th><th scope=col>&lt;fct&gt;</th><th scope=col>&lt;list[,3]&gt;</th></tr>\n",
       "</thead>\n",
       "<tbody>\n",
       "\t<tr><td>Unmatched</td><td>0   </td><td>0.7434, 0.726522, 0.760278</td></tr>\n",
       "\t<tr><td>Matched  </td><td>0   </td><td>0.9208, 0.9018052, 0.9397948</td></tr>\n",
       "\t<tr><td>Unmatched</td><td>0.02</td><td>0.6402, 0.6252511, 0.6551489</td></tr>\n",
       "\t<tr><td>Matched  </td><td>0.02</td><td>0.8994, 0.8828843, 0.9159157</td></tr>\n",
       "\t<tr><td>Unmatched</td><td>0.04</td><td>0.5672, 0.5605236, 0.5738764</td></tr>\n",
       "\t<tr><td>Matched  </td><td>0.04</td><td>0.9238, 0.9090065, 0.9385935</td></tr>\n",
       "\t<tr><td>Unmatched</td><td>0.06</td><td>0.5274, 0.5234741, 0.5313259</td></tr>\n",
       "\t<tr><td>Matched  </td><td>0.06</td><td>0.8792, 0.8570856, 0.9013144</td></tr>\n",
       "\t<tr><td>Unmatched</td><td>0.08</td><td>0.5094, 0.507676, 0.511124</td></tr>\n",
       "\t<tr><td>Matched  </td><td>0.08</td><td>0.893, 0.8703685, 0.9156315</td></tr>\n",
       "\t<tr><td>Unmatched</td><td>0.1 </td><td>0.5034, 0.5026118, 0.5041882</td></tr>\n",
       "\t<tr><td>Matched  </td><td>0.1 </td><td>0.7574, 0.7206973, 0.7941027</td></tr>\n",
       "</tbody>\n",
       "</table>\n"
      ],
      "text/latex": [
       "A data.frame: 12 × 3\n",
       "\\begin{tabular}{lll}\n",
       " Group & Relationship & x\\\\\n",
       " <fct> & <fct> & <list{[},3{]}>\\\\\n",
       "\\hline\n",
       "\t Unmatched & 0    & 0.7434, 0.726522, 0.760278\\\\\n",
       "\t Matched   & 0    & 0.9208, 0.9018052, 0.9397948\\\\\n",
       "\t Unmatched & 0.02 & 0.6402, 0.6252511, 0.6551489\\\\\n",
       "\t Matched   & 0.02 & 0.8994, 0.8828843, 0.9159157\\\\\n",
       "\t Unmatched & 0.04 & 0.5672, 0.5605236, 0.5738764\\\\\n",
       "\t Matched   & 0.04 & 0.9238, 0.9090065, 0.9385935\\\\\n",
       "\t Unmatched & 0.06 & 0.5274, 0.5234741, 0.5313259\\\\\n",
       "\t Matched   & 0.06 & 0.8792, 0.8570856, 0.9013144\\\\\n",
       "\t Unmatched & 0.08 & 0.5094, 0.507676, 0.511124\\\\\n",
       "\t Matched   & 0.08 & 0.893, 0.8703685, 0.9156315\\\\\n",
       "\t Unmatched & 0.1  & 0.5034, 0.5026118, 0.5041882\\\\\n",
       "\t Matched   & 0.1  & 0.7574, 0.7206973, 0.7941027\\\\\n",
       "\\end{tabular}\n"
      ],
      "text/markdown": [
       "\n",
       "A data.frame: 12 × 3\n",
       "\n",
       "| Group &lt;fct&gt; | Relationship &lt;fct&gt; | x &lt;list[,3]&gt; |\n",
       "|---|---|---|\n",
       "| Unmatched | 0    | 0.7434, 0.726522, 0.760278 |\n",
       "| Matched   | 0    | 0.9208, 0.9018052, 0.9397948 |\n",
       "| Unmatched | 0.02 | 0.6402, 0.6252511, 0.6551489 |\n",
       "| Matched   | 0.02 | 0.8994, 0.8828843, 0.9159157 |\n",
       "| Unmatched | 0.04 | 0.5672, 0.5605236, 0.5738764 |\n",
       "| Matched   | 0.04 | 0.9238, 0.9090065, 0.9385935 |\n",
       "| Unmatched | 0.06 | 0.5274, 0.5234741, 0.5313259 |\n",
       "| Matched   | 0.06 | 0.8792, 0.8570856, 0.9013144 |\n",
       "| Unmatched | 0.08 | 0.5094, 0.507676, 0.511124 |\n",
       "| Matched   | 0.08 | 0.893, 0.8703685, 0.9156315 |\n",
       "| Unmatched | 0.1  | 0.5034, 0.5026118, 0.5041882 |\n",
       "| Matched   | 0.1  | 0.7574, 0.7206973, 0.7941027 |\n",
       "\n"
      ],
      "text/plain": [
       "   Group     Relationship x                           \n",
       "1  Unmatched 0            0.7434, 0.726522, 0.760278  \n",
       "2  Matched   0            0.9208, 0.9018052, 0.9397948\n",
       "3  Unmatched 0.02         0.6402, 0.6252511, 0.6551489\n",
       "4  Matched   0.02         0.8994, 0.8828843, 0.9159157\n",
       "5  Unmatched 0.04         0.5672, 0.5605236, 0.5738764\n",
       "6  Matched   0.04         0.9238, 0.9090065, 0.9385935\n",
       "7  Unmatched 0.06         0.5274, 0.5234741, 0.5313259\n",
       "8  Matched   0.06         0.8792, 0.8570856, 0.9013144\n",
       "9  Unmatched 0.08         0.5094, 0.507676, 0.511124  \n",
       "10 Matched   0.08         0.893, 0.8703685, 0.9156315 \n",
       "11 Unmatched 0.1          0.5034, 0.5026118, 0.5041882\n",
       "12 Matched   0.1          0.7574, 0.7206973, 0.7941027"
      ]
     },
     "metadata": {},
     "output_type": "display_data"
    }
   ],
   "source": [
    "lindex<-grep(\"LE_LA_LS_changed*\",fileName)\n",
    "lfileName = fileName[lindex]\n",
    "#lfileName\n",
    "lfilePath <- sapply(lfileName, function(x){ \n",
    "  paste(path,x,sep=\"/\")})   \n",
    "data <- lapply(lfilePath, function(x){\n",
    "  read.csv(x, header=T,row.names = 1)})  \n",
    "LE_LA_LS=data[[1]]\n",
    "for (i in 2:length(data)) {\n",
    "  LE_LA_LS<-rbind(LE_LA_LS,data[[i]])\n",
    "}\n",
    "\n",
    "#all data accuracy\n",
    "LE_LA_LS$Relationship = rep( seq(from = 0.02, to = 0.1, by =0.02),each=50) \n",
    "AccLinear<-data.frame(Accuracy=c(LE_LA_LS$Accuracy,LE_LA_LS$psm.Accuracy),\n",
    "                    Group=rep(c('Unmatched','Matched'),each=nrow(LE_LA_LS)),\n",
    "                    Relationship=rep(LE_LA_LS$Relationship,2)) \n",
    "linear0<-AccData[which(AccData$Difference=='0.1'),1:2]\n",
    "linear0$Relationship<-'0'\n",
    "AccLinear<-rbind(linear0,AccLinear)\n",
    "\n",
    "AccLinear$Group<-factor(AccLinear$Group,levels = c('Unmatched','Matched'))\n",
    "AccLinear$Relationship<-factor(AccLinear$Relationship)\n",
    "#summary(AccLinear)\n",
    "meanAccLinear=aggregate(AccLinear$Accuracy , \n",
    "                      by=list(Group=AccLinear$Group,\n",
    "                              Relationship=AccLinear$Relationship),mean_se)\n",
    "meanAccLinear\n",
    "x<-data.frame(ymean=as.numeric(meanAccLinear$x[,'y']),\n",
    "              ymin=as.numeric(meanAccLinear$x[,'ymin']),\n",
    "              ymax=as.numeric(meanAccLinear$x[,'ymax']))\n",
    "\n",
    "meanAccLinear<-cbind(meanAccLinear[,1:2],x) "
   ]
  },
  {
   "cell_type": "code",
   "execution_count": 17,
   "id": "a98d22fc",
   "metadata": {},
   "outputs": [
    {
     "data": {
      "text/html": [
       "<strong>png:</strong> 2"
      ],
      "text/latex": [
       "\\textbf{png:} 2"
      ],
      "text/markdown": [
       "**png:** 2"
      ],
      "text/plain": [
       "png \n",
       "  2 "
      ]
     },
     "metadata": {},
     "output_type": "display_data"
    },
    {
     "data": {
      "image/png": "[encoded data removed]",
      "text/plain": [
       "plot without title"
      ]
     },
     "metadata": {
      "image/png": {
       "height": 240,
       "width": 360
      }
     },
     "output_type": "display_data"
    }
   ],
   "source": [
    "#summary(meanAccLinear)\n",
    "options(repr.plot.width=6,repr.plot.height=4)\n",
    "p<-ggplot(meanAccLinear,aes(Relationship,ymean,\n",
    "                           color=Group,group=Group))+\n",
    "      geom_line(cex=1.3)+\n",
    "      geom_point(size=4)+\n",
    "      geom_errorbar(aes(ymin=ymin, ymax=ymax),colour=\"#393E46\", width=.1,size=1.3)+\n",
    "      scale_y_continuous(limits = c(0.4,1),expand = c(0,0))+\n",
    "      labs(title = \"\", y=\"Accuracy\", x = \"Relationship between confunders and diseases\")+\n",
    "      scale_color_manual(values = c('#ff8c3e','#245c00'))+\n",
    "      theme_test(base_size = 20)+\n",
    "      theme(legend.position = 'none',\n",
    "            panel.border = element_rect(size=2,fill = 'transparent'),\n",
    "            axis.text = element_text(color='black'))\n",
    "p\n",
    "pdf(\"./Results/Results1/LinearAccuracy.pdf\",width = 6,height = 4)\n",
    "p\n",
    "dev.off()"
   ]
  },
  {
   "cell_type": "code",
   "execution_count": 12,
   "id": "89de5b16",
   "metadata": {},
   "outputs": [],
   "source": [
    "Lpdata<-AccLinear[which(AccLinear$Relationship=='0.02'),] \n",
    "p4<-ggplot(Lpdata,aes(Group,Accuracy))+\n",
    "  stat_summary(aes(fill = Group),fun=\"mean\",geom = \"bar\",\n",
    "               fun.args = list(mult=1),width=0.7)+\n",
    "  scale_fill_manual(values = c(\"#FDBF6F\",\"#33A02C\"))+\n",
    "  stat_summary(fun.data=mean_sdl,fun.args = list(mult=1),\n",
    "               geom=\"errorbar\",width=0.2)+\n",
    "  stat_compare_means(label = \"p.format\",method = \"wilcox.test\")+\n",
    "  geom_jitter(position = position_jitter(0.2),shape=21,\n",
    "              size = 2,alpha=0.9)+\n",
    "  labs(x = \"\",y = \"Accuracy\")+\n",
    "  theme_classic()+\n",
    "  theme(panel.background=element_rect(fill=\"white\",colour=\"black\",size=0.25), \n",
    "        axis.line=element_line(colour=\"black\",size=0.25),\n",
    "        axis.title=element_text(size=13,color=\"black\"), \n",
    "        axis.text = element_text(size=12,color=\"black\"), \n",
    "        legend.position=\"none\") \n",
    "\n",
    "Lpdata2<-AccLinear[which(AccLinear$Relationship=='0.06'),] \n",
    "p5<-ggplot(Lpdata2,aes(Group,Accuracy))+\n",
    "  stat_summary(aes(fill = Group),fun=\"mean\",geom = \"bar\",\n",
    "               fun.args = list(mult=1),width=0.7)+\n",
    "  scale_fill_manual(values = c(\"#FDBF6F\",\"#33A02C\"))+\n",
    "  stat_summary(fun.data=mean_sdl,fun.args = list(mult=1),\n",
    "               geom=\"errorbar\",width=0.2)+\n",
    "  stat_compare_means(label = \"p.format\",method = \"wilcox.test\")+\n",
    "  geom_jitter(position = position_jitter(0.2),shape=21,\n",
    "              size = 2,alpha=0.9)+\n",
    "  labs(x = \"\",y = \"Accuracy\")+\n",
    "  theme_classic()+\n",
    "  theme(panel.background=element_rect(fill=\"white\",colour=\"black\",size=0.25), \n",
    "        axis.line=element_line(colour=\"black\",size=0.25), \n",
    "        axis.title=element_text(size=13,color=\"black\"),\n",
    "        axis.text = element_text(size=12,color=\"black\"),\n",
    "        legend.position=\"none\")\n",
    "\n",
    "Lpdata3<-AccLinear[which(AccLinear$Relationship=='0.1'),] \n",
    "p6<-ggplot(Lpdata3,aes(Group,Accuracy))+\n",
    "  stat_summary(aes(fill = Group),fun=\"mean\",geom = \"bar\",\n",
    "               fun.args = list(mult=1),width=0.7)+\n",
    "  scale_fill_manual(values = c(\"#FDBF6F\",\"#33A02C\"))+\n",
    "  stat_summary(fun.data=mean_sdl,fun.args = list(mult=1),\n",
    "               geom=\"errorbar\",width=0.2)+\n",
    "  stat_compare_means(label = \"p.format\",method = \"wilcox.test\")+\n",
    "  geom_jitter(position = position_jitter(0.2),shape=21,\n",
    "              size = 2,alpha=0.9)+\n",
    "  labs(x = \"\",y = \"Accuracy\")+\n",
    "  theme_classic()+\n",
    "  theme(panel.background=element_rect(fill=\"white\",colour=\"black\",size=0.25), \n",
    "        axis.line=element_line(colour=\"black\",size=0.25), \n",
    "        axis.title=element_text(size=13,color=\"black\"),\n",
    "        axis.text = element_text(size=12,color=\"black\"), \n",
    "        legend.position=\"none\") \n",
    "\n"
   ]
  },
  {
   "cell_type": "code",
   "execution_count": 14,
   "id": "b6d5adbb",
   "metadata": {},
   "outputs": [
    {
     "data": {
      "text/html": [
       "<strong>png:</strong> 2"
      ],
      "text/latex": [
       "\\textbf{png:} 2"
      ],
      "text/markdown": [
       "**png:** 2"
      ],
      "text/plain": [
       "png \n",
       "  2 "
      ]
     },
     "metadata": {},
     "output_type": "display_data"
    },
    {
     "data": {
      "image/png": "[encoded data removed]",
      "text/plain": [
       "plot without title"
      ]
     },
     "metadata": {
      "image/png": {
       "height": 240,
       "width": 360
      }
     },
     "output_type": "display_data"
    }
   ],
   "source": [
    "options(repr.plot.width=6,repr.plot.height=4)\n",
    "p<-plot_grid(p4,p5,p6, nrow = 1, align = \"v\")\n",
    "p\n",
    "pdf(\"./Results/Results1/linearBoxplot.pdf\",width = 6,height = 4)\n",
    "p\n",
    "dev.off()"
   ]
  },
  {
   "cell_type": "markdown",
   "id": "75337f76",
   "metadata": {},
   "source": [
    "# microbiomine abundence"
   ]
  },
  {
   "cell_type": "code",
   "execution_count": 16,
   "id": "900cfab5",
   "metadata": {},
   "outputs": [
    {
     "data": {
      "text/html": [
       "0.507688247973483"
      ],
      "text/latex": [
       "0.507688247973483"
      ],
      "text/markdown": [
       "0.507688247973483"
      ],
      "text/plain": [
       "[1] 0.5076882"
      ]
     },
     "metadata": {},
     "output_type": "display_data"
    },
    {
     "data": {
      "text/html": [
       "1.50947488412353"
      ],
      "text/latex": [
       "1.50947488412353"
      ],
      "text/markdown": [
       "1.50947488412353"
      ],
      "text/plain": [
       "[1] 1.509475"
      ]
     },
     "metadata": {},
     "output_type": "display_data"
    },
    {
     "data": {
      "text/plain": [
       "\n",
       "0.5-0.6 0.6-0.7 0.7-0.8 0.8-0.9 0.9-1.0 1.0-1.1 1.1-1.2 1.2-1.3 1.3-1.4 1.4-1.5 \n",
       "    200     197     229     201     193     212     186     182     197     180 \n",
       "1.5-1.6 \n",
       "     23 "
      ]
     },
     "metadata": {},
     "output_type": "display_data"
    },
    {
     "data": {
      "image/png": "[encoded data removed]",
      "text/plain": [
       "Plot with title \"Histogram of dat$MicroMean\""
      ]
     },
     "metadata": {
      "image/png": {
       "height": 420,
       "width": 420
      }
     },
     "output_type": "display_data"
    }
   ],
   "source": [
    "dat<-read.csv(\"simuData/abundence.csv\",row.names = 1)\n",
    "ph<-hist(dat$MicroMean)\n",
    "min(dat$MicroMean)\n",
    "max(dat$MicroMean)\n",
    "dat$type=\"0.5-0.6\"\n",
    "dat$type[which(dat$MicroMean>0.6&dat$MicroMean<=0.7)]=\"0.6-0.7\"\n",
    "dat$type[which(dat$MicroMean>0.7&dat$MicroMean<=0.8)]=\"0.7-0.8\"\n",
    "dat$type[which(dat$MicroMean>0.8&dat$MicroMean<=0.9)]=\"0.8-0.9\"\n",
    "dat$type[which(dat$MicroMean>0.9&dat$MicroMean<=1)]=\"0.9-1.0\"\n",
    "dat$type[which(dat$MicroMean>1&dat$MicroMean<=1.1)]=\"1.0-1.1\"\n",
    "dat$type[which(dat$MicroMean>1.1&dat$MicroMean<=1.2)]=\"1.1-1.2\"\n",
    "dat$type[which(dat$MicroMean>1.2&dat$MicroMean<=1.3)]=\"1.2-1.3\"\n",
    "dat$type[which(dat$MicroMean>1.3&dat$MicroMean<=1.4)]=\"1.3-1.4\"\n",
    "dat$type[which(dat$MicroMean>1.4&dat$MicroMean<=1.5)]=\"1.4-1.5\"\n",
    "dat$type[which(dat$MicroMean>1.5)]=\"1.5-1.6\"\n",
    "\n",
    "table(dat$type)"
   ]
  },
  {
   "cell_type": "code",
   "execution_count": 17,
   "id": "c4848bf7",
   "metadata": {},
   "outputs": [
    {
     "name": "stderr",
     "output_type": "stream",
     "text": [
      "\u001b[1m\u001b[22mNo summary function supplied, defaulting to `mean_se()`\n"
     ]
    },
    {
     "data": {
      "image/png": "[encoded data removed]",
      "text/plain": [
       "plot without title"
      ]
     },
     "metadata": {
      "image/png": {
       "height": 420,
       "width": 420
      }
     },
     "output_type": "display_data"
    }
   ],
   "source": [
    "rAt=aggregate(dat$p.value.raw., by=list(type=dat$type),length)\n",
    "#rDt=aggregate(rawDiffTax$p.value.raw., by=list(type=rawDiffTax$type),length)\n",
    "dat=dat[order(dat$type),]\n",
    "n=0\n",
    "Astr=''\n",
    "for (i in rAt$x) {\n",
    "  tdata=dat[(n+1):(n+i),]\n",
    "  n=n+i\n",
    "  TrueDiffTax=rownames(tdata)[grep(\"W2\",rownames(tdata))]\n",
    "  TrueOtherTax=rownames(tdata)[grep(\"W1\",rownames(tdata))]\n",
    "  diffTax=rownames(tdata[which(tdata$p.value.raw.<0.05),])\n",
    "  otherTax=setdiff(rownames(tdata),diffTax)\n",
    "  TP=length(intersect(diffTax,TrueDiffTax))\n",
    "  TN=length(intersect(otherTax,TrueOtherTax))\n",
    "  FP=length(diffTax)-TP\n",
    "  FN=length(otherTax)-TN\n",
    "  Accuracy=(TP+TN)/(TP+FN+FP+TN)\n",
    "  Astr=c(Astr,Accuracy)\n",
    "}\n",
    "rAt$rawAcc=as.numeric(Astr[-1]) \n",
    "\n",
    "n=0\n",
    "Astr=''\n",
    "for (i in rAt$x) {\n",
    "  tdata=dat[(n+1):(n+i),]\n",
    "  n=n+i\n",
    "  TrueDiffTax=rownames(tdata)[grep(\"W2\",rownames(tdata))]\n",
    "  TrueOtherTax=rownames(tdata)[grep(\"W1\",rownames(tdata))]\n",
    "  diffTax=rownames(tdata[which(tdata$p.value.PSM.<0.05),])\n",
    "  otherTax=setdiff(rownames(tdata),diffTax)\n",
    "  TP=length(intersect(diffTax,TrueDiffTax))\n",
    "  TN=length(intersect(otherTax,TrueOtherTax))\n",
    "  FP=length(diffTax)-TP\n",
    "  FN=length(otherTax)-TN\n",
    "  Accuracy=(TP+TN)/(TP+FN+FP+TN)\n",
    "  Astr=c(Astr,Accuracy)\n",
    "}\n",
    "rAt$PSMAcc=as.numeric(Astr[-1])\n",
    "colnames(rAt)=c(\"type\",\"Num\",\"rawAcc\",\"PSMAcc\")\n",
    "\n",
    "ggplot(rAt)+\n",
    "  geom_bar(aes(x=type,y=Num),\n",
    "           position=position_dodge(),\n",
    "           stat=\"summary\",\n",
    "           width=0.8)+\n",
    "  \n",
    "  labs(title = \"\", y=\"Numbers\", x = \"Microbiome abundence\")+\n",
    "  scale_y_continuous(sec.axis=sec_axis(~./200, name=\"Accuracy\", labels=scales::percent))+\n",
    "  geom_point(aes(factor(type),rawAcc*200,\n",
    "                 color='#ff8c3e'),\n",
    "             size=4)+\n",
    "  geom_line(aes(factor(type),rawAcc*200,\n",
    "                color='#ff8c3e',group='#ff8c3e'),\n",
    "            cex=1.3)+\n",
    "  geom_point(aes(factor(type),PSMAcc*200,\n",
    "                 color='#245c00'),\n",
    "             size=4)+\n",
    "  geom_line(aes(factor(type),PSMAcc*200,\n",
    "                color='#245c00',group='#ff8c3e'),\n",
    "            cex=1.3)+\n",
    "  theme_classic()+\n",
    "  theme(panel.background=element_rect(fill=\"white\",colour=\"black\",size=0.25), \n",
    "        axis.line=element_line(colour=\"black\",size=0.25),\n",
    "        axis.title=element_text(size=13,color=\"black\"), \n",
    "        axis.text = element_text(size=12,color=\"black\")) \n"
   ]
  },
  {
   "cell_type": "markdown",
   "id": "59138b06",
   "metadata": {},
   "source": [
    "# disease weight "
   ]
  },
  {
   "cell_type": "code",
   "execution_count": 7,
   "id": "2964c093",
   "metadata": {},
   "outputs": [
    {
     "data": {
      "text/plain": [
       " DiseaseWeight         value              group   \n",
       " Min.   :0.00100   Min.   :  0.00   unmatched:80  \n",
       " 1st Qu.:0.00875   1st Qu.: 26.75   matched  :80  \n",
       " Median :0.03000   Median : 75.00                 \n",
       " Mean   :0.03950   Mean   : 61.71                 \n",
       " 3rd Qu.:0.06500   3rd Qu.: 95.00                 \n",
       " Max.   :0.10000   Max.   :100.00                 "
      ]
     },
     "metadata": {},
     "output_type": "display_data"
    }
   ],
   "source": [
    "Rdata<-read.csv(\"simuData/DiseaseWeight/Results.csv\")\n",
    "#colnames(Rdata)\n",
    "pdata<-data.frame(DiseaseWeight=rep(Rdata$DiseaseWeight,2),\n",
    "                  value=c(Rdata$rawDiffNum,Rdata$psmDiffNum),\n",
    "                  group=rep(c(\"unmatched\",\"matched\"),each=80))\n",
    "\n",
    "\n",
    "pdata$group<-factor(pdata$group,levels = c('unmatched','matched'))\n",
    "#pdata$DiseaseWeight<-factor(pdata$DiseaseWeight)\n",
    "summary(pdata)"
   ]
  },
  {
   "cell_type": "code",
   "execution_count": 12,
   "id": "56d3fe4a",
   "metadata": {},
   "outputs": [
    {
     "data": {
      "text/html": [
       "<strong>png:</strong> 2"
      ],
      "text/latex": [
       "\\textbf{png:} 2"
      ],
      "text/markdown": [
       "**png:** 2"
      ],
      "text/plain": [
       "png \n",
       "  2 "
      ]
     },
     "metadata": {},
     "output_type": "display_data"
    },
    {
     "data": {
      "image/png": "[encoded data removed]",
      "text/plain": [
       "plot without title"
      ]
     },
     "metadata": {
      "image/png": {
       "height": 240,
       "width": 480
      }
     },
     "output_type": "display_data"
    }
   ],
   "source": [
    "options(repr.plot.width=8,repr.plot.height=4)\n",
    "p_dw<-ggplot(pdata, aes( x = DiseaseWeight, y = value, color = group)) +\n",
    "          geom_point(size=2)+ \n",
    "          scale_color_manual(values = c(\"#FDBF6F\",\"#33A02C\"))+\n",
    "          scale_x_continuous(limits = c(-0.01,0.11),\n",
    "                             breaks = c(0.001,0.005,0.01,0.02,0.04,0.06,0.08,0.1),expand = c(0,0))+\n",
    "          geom_smooth(method = 'lm', formula = y ~ x, se = T)+\n",
    "          theme_test(base_size = 20)+\n",
    "          theme(panel.border = element_rect(size=2,fill = 'transparent'),\n",
    "                axis.text.x = element_text(angle = 45, vjust = 0.6),\n",
    "                axis.text = element_text(color='black'))\n",
    "p_dw\n",
    "#pdf(\"./Results/Results1/DiseaseWeight1.pdf\",width = 8,height = 4)\n",
    "#p_dw\n",
    "#dev.off()"
   ]
  },
  {
   "cell_type": "code",
   "execution_count": 13,
   "id": "e83d6450",
   "metadata": {},
   "outputs": [],
   "source": [
    "meanAccLinear=aggregate(pdata$value , \n",
    "                        by=list(DiseaseWeight=pdata$DiseaseWeight,\n",
    "                                group=pdata$group),mean_se)\n",
    "x<-data.frame(ymean=as.numeric(meanAccLinear$x[,'y']),\n",
    "              ymin=as.numeric(meanAccLinear$x[,'ymin']),\n",
    "              ymax=as.numeric(meanAccLinear$x[,'ymax']))\n",
    "\n",
    "meanAccLinear<-cbind(meanAccLinear[,1:2],x) "
   ]
  },
  {
   "cell_type": "code",
   "execution_count": 15,
   "id": "9aa6a2e4",
   "metadata": {},
   "outputs": [
    {
     "data": {
      "text/html": [
       "<strong>png:</strong> 2"
      ],
      "text/latex": [
       "\\textbf{png:} 2"
      ],
      "text/markdown": [
       "**png:** 2"
      ],
      "text/plain": [
       "png \n",
       "  2 "
      ]
     },
     "metadata": {},
     "output_type": "display_data"
    },
    {
     "data": {
      "image/png": "[encoded data removed]",
      "text/plain": [
       "plot without title"
      ]
     },
     "metadata": {
      "image/png": {
       "height": 240,
       "width": 480
      }
     },
     "output_type": "display_data"
    }
   ],
   "source": [
    "options(repr.plot.width=8,repr.plot.height=4)\n",
    "p_dw<-ggplot(meanAccLinear,aes(DiseaseWeight,ymean,\n",
    "                         color=group,group=group))+\n",
    "      geom_line(cex=1.3)+\n",
    "      geom_point(size=4)+\n",
    "      geom_errorbar(aes(ymin=ymin, ymax=ymax),colour=\"#393E46\", linewidth=0.2)+\n",
    "      scale_x_continuous(limits = c(-0.01,0.11),\n",
    "        breaks = c(0.001,0.005,0.01,0.02,0.04,0.06,0.08,0.1),expand = c(0,0))+\n",
    "      labs(title = \"\", y=\"Diff taxa numbers\", x = \"Treatment Weight\")+\n",
    "      scale_color_manual(values = c(\"#FDBF6F\",\"#33A02C\"))+\n",
    "      theme_test(base_size = 20)+\n",
    "      theme(panel.border = element_rect(size=2,fill = 'transparent'),\n",
    "            axis.text.x = element_text(angle = 45, vjust = 0.6),\n",
    "            axis.text = element_text(color='black'))\n",
    "p_dw\n",
    "#pdf(\"./Results/Results1/DiseaseWeight2.pdf\",width = 6,height = 4)\n",
    "#p_dw\n",
    "#dev.off()"
   ]
  },
  {
   "cell_type": "code",
   "execution_count": null,
   "id": "e834bf3b",
   "metadata": {},
   "outputs": [],
   "source": []
  },
  {
   "cell_type": "code",
   "execution_count": null,
   "id": "de1f17ee",
   "metadata": {},
   "outputs": [],
   "source": []
  },
  {
   "cell_type": "code",
   "execution_count": null,
   "id": "6eb80aa2",
   "metadata": {},
   "outputs": [],
   "source": []
  }
 ],
 "metadata": {
  "kernelspec": {
   "display_name": "R",
   "language": "R",
   "name": "ir"
  },
  "language_info": {
   "codemirror_mode": "r",
   "file_extension": ".r",
   "mimetype": "text/x-r-source",
   "name": "R",
   "pygments_lexer": "r",
   "version": "4.1.3"
  }
 },
 "nbformat": 4,
 "nbformat_minor": 5
}
