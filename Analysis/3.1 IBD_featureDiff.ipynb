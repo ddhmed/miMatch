{
 "cells": [
  {
   "cell_type": "code",
   "execution_count": 1,
   "id": "4b8306cb",
   "metadata": {
    "collapsed": true
   },
   "outputs": [
    {
     "name": "stderr",
     "output_type": "stream",
     "text": [
      "Warning message:\n",
      "\"package 'plyr' was built under R version 4.2.2\"\n",
      "Warning message:\n",
      "\"package 'ggplot2' was built under R version 4.2.2\"\n",
      "\n",
      "Attaching package: 'ggpubr'\n",
      "\n",
      "\n",
      "The following object is masked from 'package:plyr':\n",
      "\n",
      "    mutate\n",
      "\n",
      "\n",
      "── \u001b[1mAttaching packages\u001b[22m ─────────────────────────────────────── tidyverse 1.3.2 ──\n",
      "\u001b[32m✔\u001b[39m \u001b[34mtibble \u001b[39m 3.1.8      \u001b[32m✔\u001b[39m \u001b[34mdplyr  \u001b[39m 1.0.10\n",
      "\u001b[32m✔\u001b[39m \u001b[34mtidyr  \u001b[39m 1.2.1      \u001b[32m✔\u001b[39m \u001b[34mstringr\u001b[39m 1.5.0 \n",
      "\u001b[32m✔\u001b[39m \u001b[34mreadr  \u001b[39m 2.1.4      \u001b[32m✔\u001b[39m \u001b[34mforcats\u001b[39m 0.5.2 \n",
      "\u001b[32m✔\u001b[39m \u001b[34mpurrr  \u001b[39m 0.3.4      \n",
      "Warning message:\n",
      "\"package 'readr' was built under R version 4.2.2\"\n",
      "Warning message:\n",
      "\"package 'stringr' was built under R version 4.2.2\"\n",
      "── \u001b[1mConflicts\u001b[22m ────────────────────────────────────────── tidyverse_conflicts() ──\n",
      "\u001b[31m✖\u001b[39m \u001b[34mdplyr\u001b[39m::\u001b[32marrange()\u001b[39m   masks \u001b[34mplyr\u001b[39m::arrange()\n",
      "\u001b[31m✖\u001b[39m \u001b[34mpurrr\u001b[39m::\u001b[32mcompact()\u001b[39m   masks \u001b[34mplyr\u001b[39m::compact()\n",
      "\u001b[31m✖\u001b[39m \u001b[34mdplyr\u001b[39m::\u001b[32mcount()\u001b[39m     masks \u001b[34mplyr\u001b[39m::count()\n",
      "\u001b[31m✖\u001b[39m \u001b[34mdplyr\u001b[39m::\u001b[32mfailwith()\u001b[39m  masks \u001b[34mplyr\u001b[39m::failwith()\n",
      "\u001b[31m✖\u001b[39m \u001b[34mdplyr\u001b[39m::\u001b[32mfilter()\u001b[39m    masks \u001b[34mstats\u001b[39m::filter()\n",
      "\u001b[31m✖\u001b[39m \u001b[34mdplyr\u001b[39m::\u001b[32mid()\u001b[39m        masks \u001b[34mplyr\u001b[39m::id()\n",
      "\u001b[31m✖\u001b[39m \u001b[34mdplyr\u001b[39m::\u001b[32mlag()\u001b[39m       masks \u001b[34mstats\u001b[39m::lag()\n",
      "\u001b[31m✖\u001b[39m \u001b[34mdplyr\u001b[39m::\u001b[32mmutate()\u001b[39m    masks \u001b[34mggpubr\u001b[39m::mutate(), \u001b[34mplyr\u001b[39m::mutate()\n",
      "\u001b[31m✖\u001b[39m \u001b[34mdplyr\u001b[39m::\u001b[32mrename()\u001b[39m    masks \u001b[34mplyr\u001b[39m::rename()\n",
      "\u001b[31m✖\u001b[39m \u001b[34mdplyr\u001b[39m::\u001b[32msummarise()\u001b[39m masks \u001b[34mplyr\u001b[39m::summarise()\n",
      "\u001b[31m✖\u001b[39m \u001b[34mdplyr\u001b[39m::\u001b[32msummarize()\u001b[39m masks \u001b[34mplyr\u001b[39m::summarize()\n",
      "\n",
      "Attaching package: 'cowplot'\n",
      "\n",
      "\n",
      "The following object is masked from 'package:ggpubr':\n",
      "\n",
      "    get_legend\n",
      "\n",
      "\n"
     ]
    }
   ],
   "source": [
    "setwd('E:/notebook/miMatch')\n",
    "library(plyr) \n",
    "library(ggplot2)\n",
    "library(ggpubr)\n",
    "library(tidyverse)\n",
    "library(cowplot)"
   ]
  },
  {
   "cell_type": "markdown",
   "id": "c1fec0c3",
   "metadata": {},
   "source": [
    "# Find IBD studies"
   ]
  },
  {
   "cell_type": "code",
   "execution_count": 2,
   "id": "cf7fe15f",
   "metadata": {},
   "outputs": [
    {
     "data": {
      "text/html": [
       "<style>\n",
       ".list-inline {list-style: none; margin:0; padding: 0}\n",
       ".list-inline>li {display: inline-block}\n",
       ".list-inline>li:not(:last-child)::after {content: \"\\00b7\"; padding: 0 .5ex}\n",
       "</style>\n",
       "<ol class=list-inline><li>'27'</li><li>'36'</li><li>'38'</li><li>'48_1'</li><li>'59'</li></ol>\n"
      ],
      "text/latex": [
       "\\begin{enumerate*}\n",
       "\\item '27'\n",
       "\\item '36'\n",
       "\\item '38'\n",
       "\\item '48\\_1'\n",
       "\\item '59'\n",
       "\\end{enumerate*}\n"
      ],
      "text/markdown": [
       "1. '27'\n",
       "2. '36'\n",
       "3. '38'\n",
       "4. '48_1'\n",
       "5. '59'\n",
       "\n",
       "\n"
      ],
      "text/plain": [
       "[1] \"27\"   \"36\"   \"38\"   \"48_1\" \"59\"  "
      ]
     },
     "metadata": {},
     "output_type": "display_data"
    },
    {
     "data": {
      "text/html": [
       "<style>\n",
       ".list-inline {list-style: none; margin:0; padding: 0}\n",
       ".list-inline>li {display: inline-block}\n",
       ".list-inline>li:not(:last-child)::after {content: \"\\00b7\"; padding: 0 .5ex}\n",
       "</style>\n",
       "<ol class=list-inline><li>'27'</li><li>'36'</li><li>'38'</li><li>'48_1'</li><li>'59'</li></ol>\n"
      ],
      "text/latex": [
       "\\begin{enumerate*}\n",
       "\\item '27'\n",
       "\\item '36'\n",
       "\\item '38'\n",
       "\\item '48\\_1'\n",
       "\\item '59'\n",
       "\\end{enumerate*}\n"
      ],
      "text/markdown": [
       "1. '27'\n",
       "2. '36'\n",
       "3. '38'\n",
       "4. '48_1'\n",
       "5. '59'\n",
       "\n",
       "\n"
      ],
      "text/plain": [
       "[1] \"27\"   \"36\"   \"38\"   \"48_1\" \"59\"  "
      ]
     },
     "metadata": {},
     "output_type": "display_data"
    }
   ],
   "source": [
    "data<-read.csv(\"Label/fenzu.csv\",stringsAsFactors = F,row.names = 1)\n",
    "IBD<-data[which(data$condition2==\"IBD\"),]\n",
    "rownames(IBD)\n",
    "path = \"E:/notebook/miMatch/Temp\"\n",
    "fileName = dir(path)\n",
    "fileName = fileName[which(fileName%in%rownames(IBD))]\n",
    "fileName"
   ]
  },
  {
   "cell_type": "code",
   "execution_count": 3,
   "id": "88952db6",
   "metadata": {},
   "outputs": [
    {
     "data": {
      "text/html": [
       "<table class=\"dataframe\">\n",
       "<caption>A data.frame: 6 × 36</caption>\n",
       "<thead>\n",
       "\t<tr><th></th><th scope=col>study_name</th><th scope=col>sample_id</th><th scope=col>subject_id</th><th scope=col>body_site</th><th scope=col>antibiotics_current_use</th><th scope=col>study_condition</th><th scope=col>disease</th><th scope=col>age</th><th scope=col>age_category</th><th scope=col>gender</th><th scope=col>⋯</th><th scope=col>visit_number</th><th scope=col>disease_subtype</th><th scope=col>treatment</th><th scope=col>disease_location</th><th scope=col>calprotectin</th><th scope=col>HBI</th><th scope=col>SCCAI</th><th scope=col>remission</th><th scope=col>mgs_richness</th><th scope=col>ferm_milk_prod_consumer</th></tr>\n",
       "\t<tr><th></th><th scope=col>&lt;chr&gt;</th><th scope=col>&lt;chr&gt;</th><th scope=col>&lt;chr&gt;</th><th scope=col>&lt;chr&gt;</th><th scope=col>&lt;chr&gt;</th><th scope=col>&lt;chr&gt;</th><th scope=col>&lt;chr&gt;</th><th scope=col>&lt;dbl&gt;</th><th scope=col>&lt;chr&gt;</th><th scope=col>&lt;chr&gt;</th><th scope=col>⋯</th><th scope=col>&lt;int&gt;</th><th scope=col>&lt;chr&gt;</th><th scope=col>&lt;chr&gt;</th><th scope=col>&lt;chr&gt;</th><th scope=col>&lt;dbl&gt;</th><th scope=col>&lt;dbl&gt;</th><th scope=col>&lt;dbl&gt;</th><th scope=col>&lt;chr&gt;</th><th scope=col>&lt;dbl&gt;</th><th scope=col>&lt;chr&gt;</th></tr>\n",
       "</thead>\n",
       "<tbody>\n",
       "\t<tr><th scope=row>1</th><td>HallAB_2017</td><td>SKST006_6_G102964</td><td>SKST006</td><td>stool</td><td>NA</td><td>IBD</td><td>IBD</td><td>NA</td><td>adult</td><td>NA</td><td>⋯</td><td>6</td><td>UC</td><td>NA</td><td>NA</td><td>NA</td><td>NA</td><td>NA</td><td>NA</td><td>NA</td><td>NA</td></tr>\n",
       "\t<tr><th scope=row>2</th><td>HallAB_2017</td><td>SKST006_7_G102965</td><td>SKST006</td><td>stool</td><td>NA</td><td>IBD</td><td>IBD</td><td>NA</td><td>adult</td><td>NA</td><td>⋯</td><td>7</td><td>UC</td><td>NA</td><td>NA</td><td>NA</td><td>NA</td><td>NA</td><td>NA</td><td>NA</td><td>NA</td></tr>\n",
       "\t<tr><th scope=row>3</th><td>HallAB_2017</td><td>SKST006_4_G102962</td><td>SKST006</td><td>stool</td><td>NA</td><td>IBD</td><td>IBD</td><td>NA</td><td>adult</td><td>NA</td><td>⋯</td><td>4</td><td>UC</td><td>NA</td><td>NA</td><td>NA</td><td>NA</td><td>NA</td><td>NA</td><td>NA</td><td>NA</td></tr>\n",
       "\t<tr><th scope=row>4</th><td>HallAB_2017</td><td>SKST006_5_G102963</td><td>SKST006</td><td>stool</td><td>NA</td><td>IBD</td><td>IBD</td><td>NA</td><td>adult</td><td>NA</td><td>⋯</td><td>5</td><td>UC</td><td>NA</td><td>NA</td><td>NA</td><td>NA</td><td>NA</td><td>NA</td><td>NA</td><td>NA</td></tr>\n",
       "\t<tr><th scope=row>5</th><td>HallAB_2017</td><td>SKST006_2_G102960</td><td>SKST006</td><td>stool</td><td>NA</td><td>IBD</td><td>IBD</td><td>NA</td><td>adult</td><td>NA</td><td>⋯</td><td>2</td><td>UC</td><td>NA</td><td>NA</td><td>NA</td><td>NA</td><td>NA</td><td>NA</td><td>NA</td><td>NA</td></tr>\n",
       "\t<tr><th scope=row>6</th><td>HallAB_2017</td><td>SKST006_3_G102961</td><td>SKST006</td><td>stool</td><td>NA</td><td>IBD</td><td>IBD</td><td>NA</td><td>adult</td><td>NA</td><td>⋯</td><td>3</td><td>UC</td><td>NA</td><td>NA</td><td>NA</td><td>NA</td><td>NA</td><td>NA</td><td>NA</td><td>NA</td></tr>\n",
       "</tbody>\n",
       "</table>\n"
      ],
      "text/latex": [
       "A data.frame: 6 × 36\n",
       "\\begin{tabular}{r|lllllllllllllllllllll}\n",
       "  & study\\_name & sample\\_id & subject\\_id & body\\_site & antibiotics\\_current\\_use & study\\_condition & disease & age & age\\_category & gender & ⋯ & visit\\_number & disease\\_subtype & treatment & disease\\_location & calprotectin & HBI & SCCAI & remission & mgs\\_richness & ferm\\_milk\\_prod\\_consumer\\\\\n",
       "  & <chr> & <chr> & <chr> & <chr> & <chr> & <chr> & <chr> & <dbl> & <chr> & <chr> & ⋯ & <int> & <chr> & <chr> & <chr> & <dbl> & <dbl> & <dbl> & <chr> & <dbl> & <chr>\\\\\n",
       "\\hline\n",
       "\t1 & HallAB\\_2017 & SKST006\\_6\\_G102964 & SKST006 & stool & NA & IBD & IBD & NA & adult & NA & ⋯ & 6 & UC & NA & NA & NA & NA & NA & NA & NA & NA\\\\\n",
       "\t2 & HallAB\\_2017 & SKST006\\_7\\_G102965 & SKST006 & stool & NA & IBD & IBD & NA & adult & NA & ⋯ & 7 & UC & NA & NA & NA & NA & NA & NA & NA & NA\\\\\n",
       "\t3 & HallAB\\_2017 & SKST006\\_4\\_G102962 & SKST006 & stool & NA & IBD & IBD & NA & adult & NA & ⋯ & 4 & UC & NA & NA & NA & NA & NA & NA & NA & NA\\\\\n",
       "\t4 & HallAB\\_2017 & SKST006\\_5\\_G102963 & SKST006 & stool & NA & IBD & IBD & NA & adult & NA & ⋯ & 5 & UC & NA & NA & NA & NA & NA & NA & NA & NA\\\\\n",
       "\t5 & HallAB\\_2017 & SKST006\\_2\\_G102960 & SKST006 & stool & NA & IBD & IBD & NA & adult & NA & ⋯ & 2 & UC & NA & NA & NA & NA & NA & NA & NA & NA\\\\\n",
       "\t6 & HallAB\\_2017 & SKST006\\_3\\_G102961 & SKST006 & stool & NA & IBD & IBD & NA & adult & NA & ⋯ & 3 & UC & NA & NA & NA & NA & NA & NA & NA & NA\\\\\n",
       "\\end{tabular}\n"
      ],
      "text/markdown": [
       "\n",
       "A data.frame: 6 × 36\n",
       "\n",
       "| <!--/--> | study_name &lt;chr&gt; | sample_id &lt;chr&gt; | subject_id &lt;chr&gt; | body_site &lt;chr&gt; | antibiotics_current_use &lt;chr&gt; | study_condition &lt;chr&gt; | disease &lt;chr&gt; | age &lt;dbl&gt; | age_category &lt;chr&gt; | gender &lt;chr&gt; | ⋯ ⋯ | visit_number &lt;int&gt; | disease_subtype &lt;chr&gt; | treatment &lt;chr&gt; | disease_location &lt;chr&gt; | calprotectin &lt;dbl&gt; | HBI &lt;dbl&gt; | SCCAI &lt;dbl&gt; | remission &lt;chr&gt; | mgs_richness &lt;dbl&gt; | ferm_milk_prod_consumer &lt;chr&gt; |\n",
       "|---|---|---|---|---|---|---|---|---|---|---|---|---|---|---|---|---|---|---|---|---|---|\n",
       "| 1 | HallAB_2017 | SKST006_6_G102964 | SKST006 | stool | NA | IBD | IBD | NA | adult | NA | ⋯ | 6 | UC | NA | NA | NA | NA | NA | NA | NA | NA |\n",
       "| 2 | HallAB_2017 | SKST006_7_G102965 | SKST006 | stool | NA | IBD | IBD | NA | adult | NA | ⋯ | 7 | UC | NA | NA | NA | NA | NA | NA | NA | NA |\n",
       "| 3 | HallAB_2017 | SKST006_4_G102962 | SKST006 | stool | NA | IBD | IBD | NA | adult | NA | ⋯ | 4 | UC | NA | NA | NA | NA | NA | NA | NA | NA |\n",
       "| 4 | HallAB_2017 | SKST006_5_G102963 | SKST006 | stool | NA | IBD | IBD | NA | adult | NA | ⋯ | 5 | UC | NA | NA | NA | NA | NA | NA | NA | NA |\n",
       "| 5 | HallAB_2017 | SKST006_2_G102960 | SKST006 | stool | NA | IBD | IBD | NA | adult | NA | ⋯ | 2 | UC | NA | NA | NA | NA | NA | NA | NA | NA |\n",
       "| 6 | HallAB_2017 | SKST006_3_G102961 | SKST006 | stool | NA | IBD | IBD | NA | adult | NA | ⋯ | 3 | UC | NA | NA | NA | NA | NA | NA | NA | NA |\n",
       "\n"
      ],
      "text/plain": [
       "  study_name  sample_id         subject_id body_site antibiotics_current_use\n",
       "1 HallAB_2017 SKST006_6_G102964 SKST006    stool     NA                     \n",
       "2 HallAB_2017 SKST006_7_G102965 SKST006    stool     NA                     \n",
       "3 HallAB_2017 SKST006_4_G102962 SKST006    stool     NA                     \n",
       "4 HallAB_2017 SKST006_5_G102963 SKST006    stool     NA                     \n",
       "5 HallAB_2017 SKST006_2_G102960 SKST006    stool     NA                     \n",
       "6 HallAB_2017 SKST006_3_G102961 SKST006    stool     NA                     \n",
       "  study_condition disease age age_category gender ⋯ visit_number\n",
       "1 IBD             IBD     NA  adult        NA     ⋯ 6           \n",
       "2 IBD             IBD     NA  adult        NA     ⋯ 7           \n",
       "3 IBD             IBD     NA  adult        NA     ⋯ 4           \n",
       "4 IBD             IBD     NA  adult        NA     ⋯ 5           \n",
       "5 IBD             IBD     NA  adult        NA     ⋯ 2           \n",
       "6 IBD             IBD     NA  adult        NA     ⋯ 3           \n",
       "  disease_subtype treatment disease_location calprotectin HBI SCCAI remission\n",
       "1 UC              NA        NA               NA           NA  NA    NA       \n",
       "2 UC              NA        NA               NA           NA  NA    NA       \n",
       "3 UC              NA        NA               NA           NA  NA    NA       \n",
       "4 UC              NA        NA               NA           NA  NA    NA       \n",
       "5 UC              NA        NA               NA           NA  NA    NA       \n",
       "6 UC              NA        NA               NA           NA  NA    NA       \n",
       "  mgs_richness ferm_milk_prod_consumer\n",
       "1 NA           NA                     \n",
       "2 NA           NA                     \n",
       "3 NA           NA                     \n",
       "4 NA           NA                     \n",
       "5 NA           NA                     \n",
       "6 NA           NA                     "
      ]
     },
     "metadata": {},
     "output_type": "display_data"
    }
   ],
   "source": [
    "filePath <- sapply(fileName, function(x){ \n",
    "  paste(path,x,\"Metadata.csv\",sep=\"/\")})   \n",
    "data <- lapply(filePath, function(x){\n",
    "  read.csv(x, header=T)}) \n",
    "#list to dataframe\n",
    "metadata=data[[1]]\n",
    "for (i in 2:length(data)) {\n",
    "  metadata<-rbind(metadata,data[[i]])\n",
    "}\n",
    "#NA delete\n",
    "metadata=metadata[, apply(metadata, 2, function(y) any(!is.na(y)))]\n",
    "#colnames(metadata)\n",
    "head(metadata)\n",
    "#write.csv(metadata,\"Temp/IBDmetadata.csv\",row.names = F)"
   ]
  },
  {
   "cell_type": "code",
   "execution_count": 8,
   "id": "fc8f4aa0",
   "metadata": {
    "scrolled": true
   },
   "outputs": [
    {
     "data": {
      "text/html": [
       "<table class=\"dataframe\">\n",
       "<caption>A data.frame: 2023 × 2</caption>\n",
       "<thead>\n",
       "\t<tr><th></th><th scope=col>Case</th><th scope=col>Control</th></tr>\n",
       "\t<tr><th></th><th scope=col>&lt;chr&gt;</th><th scope=col>&lt;chr&gt;</th></tr>\n",
       "</thead>\n",
       "<tbody>\n",
       "\t<tr><th scope=row>0</th><td>SKST006_6_G102964</td><td>SKST007_6_G102995 </td></tr>\n",
       "\t<tr><th scope=row>1</th><td>SKST006_6_G102964</td><td>SKST010_1_G102968 </td></tr>\n",
       "\t<tr><th scope=row>2</th><td>SKST006_6_G102964</td><td>SKST041_3_G103028 </td></tr>\n",
       "\t<tr><th scope=row>3</th><td>SKST006_7_G102965</td><td>SKST037_2_G103023 </td></tr>\n",
       "\t<tr><th scope=row>4</th><td>SKST006_7_G102965</td><td>p9223_mo6         </td></tr>\n",
       "\t<tr><th scope=row>5</th><td>SKST006_7_G102965</td><td>p9281_mo5         </td></tr>\n",
       "\t<tr><th scope=row>6</th><td>SKST006_4_G102962</td><td>SKST012_6_G102997 </td></tr>\n",
       "\t<tr><th scope=row>7</th><td>SKST006_4_G102962</td><td>SKST036_3_G103025 </td></tr>\n",
       "\t<tr><th scope=row>8</th><td>SKST006_4_G102962</td><td>SKST010_8_G102998 </td></tr>\n",
       "\t<tr><th scope=row>9</th><td>SKST006_5_G102963</td><td>SKST010_6_G103004 </td></tr>\n",
       "\t<tr><th scope=row>10</th><td>SKST006_5_G102963</td><td>SKST024_7_G103022 </td></tr>\n",
       "\t<tr><th scope=row>11</th><td>SKST006_5_G102963</td><td>SKST012_4_G102954 </td></tr>\n",
       "\t<tr><th scope=row>12</th><td>SKST006_2_G102960</td><td>SKST006_10_G102994</td></tr>\n",
       "\t<tr><th scope=row>13</th><td>SKST006_2_G102960</td><td>SKST037_3_G103026 </td></tr>\n",
       "\t<tr><th scope=row>14</th><td>SKST006_2_G102960</td><td>p9281_mo1         </td></tr>\n",
       "\t<tr><th scope=row>15</th><td>SKST006_3_G102961</td><td>SKST006_10_G102994</td></tr>\n",
       "\t<tr><th scope=row>16</th><td>SKST006_3_G102961</td><td>SKST037_3_G103026 </td></tr>\n",
       "\t<tr><th scope=row>17</th><td>SKST006_3_G102961</td><td>p9281_mo1         </td></tr>\n",
       "\t<tr><th scope=row>18</th><td>SKST006_1_G102959</td><td>SKST012_3_G102950 </td></tr>\n",
       "\t<tr><th scope=row>19</th><td>SKST006_1_G102959</td><td>SKST007_8_G102999 </td></tr>\n",
       "\t<tr><th scope=row>20</th><td>SKST006_1_G102959</td><td>SKST012_5_G102992 </td></tr>\n",
       "\t<tr><th scope=row>21</th><td>SKST006_9_G103014</td><td>SKST011_5_G102993 </td></tr>\n",
       "\t<tr><th scope=row>22</th><td>SKST006_9_G103014</td><td>SKST011_4_G102952 </td></tr>\n",
       "\t<tr><th scope=row>23</th><td>SKST006_9_G103014</td><td>SKST011_3_G102973 </td></tr>\n",
       "\t<tr><th scope=row>24</th><td>SKST027_3_G102945</td><td>SKST012_4_G102954 </td></tr>\n",
       "\t<tr><th scope=row>25</th><td>SKST027_3_G102945</td><td>SKST024_7_G103022 </td></tr>\n",
       "\t<tr><th scope=row>26</th><td>SKST027_3_G102945</td><td>SKST010_6_G103004 </td></tr>\n",
       "\t<tr><th scope=row>27</th><td>SKST027_4_G102958</td><td>SKST010_8_G102998 </td></tr>\n",
       "\t<tr><th scope=row>28</th><td>SKST027_4_G102958</td><td>SKST012_4_G102954 </td></tr>\n",
       "\t<tr><th scope=row>29</th><td>SKST027_4_G102958</td><td>SKST012_6_G102997 </td></tr>\n",
       "\t<tr><th scope=row>⋮</th><td>⋮</td><td>⋮</td></tr>\n",
       "\t<tr><th scope=row>11811</th><td>V1_UC26_4</td><td>V1_UC62_0</td></tr>\n",
       "\t<tr><th scope=row>11910</th><td>V1_UC3_0 </td><td>O2_UC57_2</td></tr>\n",
       "\t<tr><th scope=row>1205</th><td>V1_UC3_2 </td><td>V1_CD42_0</td></tr>\n",
       "\t<tr><th scope=row>1213</th><td>V1_UC31_0</td><td>V1_UC33_0</td></tr>\n",
       "\t<tr><th scope=row>1223</th><td>V1_UC31_4</td><td>V1_UC34_0</td></tr>\n",
       "\t<tr><th scope=row>1232</th><td>V1_UC35_0</td><td>V1_UC61_0</td></tr>\n",
       "\t<tr><th scope=row>1242</th><td>V1_UC35_4</td><td>MH0073   </td></tr>\n",
       "\t<tr><th scope=row>1251</th><td>V1_UC38_0</td><td>V1_UC61_0</td></tr>\n",
       "\t<tr><th scope=row>1262</th><td>V1_UC39_0</td><td>O2_UC50_2</td></tr>\n",
       "\t<tr><th scope=row>1272</th><td>V1_UC4_0 </td><td>MH0184   </td></tr>\n",
       "\t<tr><th scope=row>1283</th><td>V1_UC4_5 </td><td>V1_UC32_0</td></tr>\n",
       "\t<tr><th scope=row>1293</th><td>V1_UC40_0</td><td>MH0067   </td></tr>\n",
       "\t<tr><th scope=row>1302</th><td>V1_UC45_0</td><td>MH0003   </td></tr>\n",
       "\t<tr><th scope=row>1312</th><td>V1_UC47_0</td><td>MH0073   </td></tr>\n",
       "\t<tr><th scope=row>1323</th><td>V1_UC49_0</td><td>O2_UC54_0</td></tr>\n",
       "\t<tr><th scope=row>1332</th><td>V1_UC49_1</td><td>MH0140   </td></tr>\n",
       "\t<tr><th scope=row>1343</th><td>V1_UC5_0 </td><td>MH0093   </td></tr>\n",
       "\t<tr><th scope=row>1353</th><td>V1_UC5_3 </td><td>V1_UC32_0</td></tr>\n",
       "\t<tr><th scope=row>1362</th><td>V1_UC50_1</td><td>V1_UC24_0</td></tr>\n",
       "\t<tr><th scope=row>1372</th><td>V1_UC51_0</td><td>V1_UC61_0</td></tr>\n",
       "\t<tr><th scope=row>1383</th><td>V1_UC51_4</td><td>MH0137   </td></tr>\n",
       "\t<tr><th scope=row>1392</th><td>V1_UC52_0</td><td>O2_UC57_2</td></tr>\n",
       "\t<tr><th scope=row>1402</th><td>V1_UC52_1</td><td>MH0186   </td></tr>\n",
       "\t<tr><th scope=row>1414</th><td>V1_UC53_0</td><td>MH0170   </td></tr>\n",
       "\t<tr><th scope=row>1423</th><td>V1_UC53_4</td><td>MH0110   </td></tr>\n",
       "\t<tr><th scope=row>1432</th><td>V1_UC54_0</td><td>MH0093   </td></tr>\n",
       "\t<tr><th scope=row>1442</th><td>V1_UC55_0</td><td>V1_UC61_0</td></tr>\n",
       "\t<tr><th scope=row>1452</th><td>V1_UC55_4</td><td>MH0122   </td></tr>\n",
       "\t<tr><th scope=row>1463</th><td>V1_UC56_0</td><td>O2_UC56_0</td></tr>\n",
       "\t<tr><th scope=row>1471</th><td>V1_UC58_0</td><td>O2_UC49_2</td></tr>\n",
       "</tbody>\n",
       "</table>\n"
      ],
      "text/latex": [
       "A data.frame: 2023 × 2\n",
       "\\begin{tabular}{r|ll}\n",
       "  & Case & Control\\\\\n",
       "  & <chr> & <chr>\\\\\n",
       "\\hline\n",
       "\t0 & SKST006\\_6\\_G102964 & SKST007\\_6\\_G102995 \\\\\n",
       "\t1 & SKST006\\_6\\_G102964 & SKST010\\_1\\_G102968 \\\\\n",
       "\t2 & SKST006\\_6\\_G102964 & SKST041\\_3\\_G103028 \\\\\n",
       "\t3 & SKST006\\_7\\_G102965 & SKST037\\_2\\_G103023 \\\\\n",
       "\t4 & SKST006\\_7\\_G102965 & p9223\\_mo6         \\\\\n",
       "\t5 & SKST006\\_7\\_G102965 & p9281\\_mo5         \\\\\n",
       "\t6 & SKST006\\_4\\_G102962 & SKST012\\_6\\_G102997 \\\\\n",
       "\t7 & SKST006\\_4\\_G102962 & SKST036\\_3\\_G103025 \\\\\n",
       "\t8 & SKST006\\_4\\_G102962 & SKST010\\_8\\_G102998 \\\\\n",
       "\t9 & SKST006\\_5\\_G102963 & SKST010\\_6\\_G103004 \\\\\n",
       "\t10 & SKST006\\_5\\_G102963 & SKST024\\_7\\_G103022 \\\\\n",
       "\t11 & SKST006\\_5\\_G102963 & SKST012\\_4\\_G102954 \\\\\n",
       "\t12 & SKST006\\_2\\_G102960 & SKST006\\_10\\_G102994\\\\\n",
       "\t13 & SKST006\\_2\\_G102960 & SKST037\\_3\\_G103026 \\\\\n",
       "\t14 & SKST006\\_2\\_G102960 & p9281\\_mo1         \\\\\n",
       "\t15 & SKST006\\_3\\_G102961 & SKST006\\_10\\_G102994\\\\\n",
       "\t16 & SKST006\\_3\\_G102961 & SKST037\\_3\\_G103026 \\\\\n",
       "\t17 & SKST006\\_3\\_G102961 & p9281\\_mo1         \\\\\n",
       "\t18 & SKST006\\_1\\_G102959 & SKST012\\_3\\_G102950 \\\\\n",
       "\t19 & SKST006\\_1\\_G102959 & SKST007\\_8\\_G102999 \\\\\n",
       "\t20 & SKST006\\_1\\_G102959 & SKST012\\_5\\_G102992 \\\\\n",
       "\t21 & SKST006\\_9\\_G103014 & SKST011\\_5\\_G102993 \\\\\n",
       "\t22 & SKST006\\_9\\_G103014 & SKST011\\_4\\_G102952 \\\\\n",
       "\t23 & SKST006\\_9\\_G103014 & SKST011\\_3\\_G102973 \\\\\n",
       "\t24 & SKST027\\_3\\_G102945 & SKST012\\_4\\_G102954 \\\\\n",
       "\t25 & SKST027\\_3\\_G102945 & SKST024\\_7\\_G103022 \\\\\n",
       "\t26 & SKST027\\_3\\_G102945 & SKST010\\_6\\_G103004 \\\\\n",
       "\t27 & SKST027\\_4\\_G102958 & SKST010\\_8\\_G102998 \\\\\n",
       "\t28 & SKST027\\_4\\_G102958 & SKST012\\_4\\_G102954 \\\\\n",
       "\t29 & SKST027\\_4\\_G102958 & SKST012\\_6\\_G102997 \\\\\n",
       "\t⋮ & ⋮ & ⋮\\\\\n",
       "\t11811 & V1\\_UC26\\_4 & V1\\_UC62\\_0\\\\\n",
       "\t11910 & V1\\_UC3\\_0  & O2\\_UC57\\_2\\\\\n",
       "\t1205 & V1\\_UC3\\_2  & V1\\_CD42\\_0\\\\\n",
       "\t1213 & V1\\_UC31\\_0 & V1\\_UC33\\_0\\\\\n",
       "\t1223 & V1\\_UC31\\_4 & V1\\_UC34\\_0\\\\\n",
       "\t1232 & V1\\_UC35\\_0 & V1\\_UC61\\_0\\\\\n",
       "\t1242 & V1\\_UC35\\_4 & MH0073   \\\\\n",
       "\t1251 & V1\\_UC38\\_0 & V1\\_UC61\\_0\\\\\n",
       "\t1262 & V1\\_UC39\\_0 & O2\\_UC50\\_2\\\\\n",
       "\t1272 & V1\\_UC4\\_0  & MH0184   \\\\\n",
       "\t1283 & V1\\_UC4\\_5  & V1\\_UC32\\_0\\\\\n",
       "\t1293 & V1\\_UC40\\_0 & MH0067   \\\\\n",
       "\t1302 & V1\\_UC45\\_0 & MH0003   \\\\\n",
       "\t1312 & V1\\_UC47\\_0 & MH0073   \\\\\n",
       "\t1323 & V1\\_UC49\\_0 & O2\\_UC54\\_0\\\\\n",
       "\t1332 & V1\\_UC49\\_1 & MH0140   \\\\\n",
       "\t1343 & V1\\_UC5\\_0  & MH0093   \\\\\n",
       "\t1353 & V1\\_UC5\\_3  & V1\\_UC32\\_0\\\\\n",
       "\t1362 & V1\\_UC50\\_1 & V1\\_UC24\\_0\\\\\n",
       "\t1372 & V1\\_UC51\\_0 & V1\\_UC61\\_0\\\\\n",
       "\t1383 & V1\\_UC51\\_4 & MH0137   \\\\\n",
       "\t1392 & V1\\_UC52\\_0 & O2\\_UC57\\_2\\\\\n",
       "\t1402 & V1\\_UC52\\_1 & MH0186   \\\\\n",
       "\t1414 & V1\\_UC53\\_0 & MH0170   \\\\\n",
       "\t1423 & V1\\_UC53\\_4 & MH0110   \\\\\n",
       "\t1432 & V1\\_UC54\\_0 & MH0093   \\\\\n",
       "\t1442 & V1\\_UC55\\_0 & V1\\_UC61\\_0\\\\\n",
       "\t1452 & V1\\_UC55\\_4 & MH0122   \\\\\n",
       "\t1463 & V1\\_UC56\\_0 & O2\\_UC56\\_0\\\\\n",
       "\t1471 & V1\\_UC58\\_0 & O2\\_UC49\\_2\\\\\n",
       "\\end{tabular}\n"
      ],
      "text/markdown": [
       "\n",
       "A data.frame: 2023 × 2\n",
       "\n",
       "| <!--/--> | Case &lt;chr&gt; | Control &lt;chr&gt; |\n",
       "|---|---|---|\n",
       "| 0 | SKST006_6_G102964 | SKST007_6_G102995  |\n",
       "| 1 | SKST006_6_G102964 | SKST010_1_G102968  |\n",
       "| 2 | SKST006_6_G102964 | SKST041_3_G103028  |\n",
       "| 3 | SKST006_7_G102965 | SKST037_2_G103023  |\n",
       "| 4 | SKST006_7_G102965 | p9223_mo6          |\n",
       "| 5 | SKST006_7_G102965 | p9281_mo5          |\n",
       "| 6 | SKST006_4_G102962 | SKST012_6_G102997  |\n",
       "| 7 | SKST006_4_G102962 | SKST036_3_G103025  |\n",
       "| 8 | SKST006_4_G102962 | SKST010_8_G102998  |\n",
       "| 9 | SKST006_5_G102963 | SKST010_6_G103004  |\n",
       "| 10 | SKST006_5_G102963 | SKST024_7_G103022  |\n",
       "| 11 | SKST006_5_G102963 | SKST012_4_G102954  |\n",
       "| 12 | SKST006_2_G102960 | SKST006_10_G102994 |\n",
       "| 13 | SKST006_2_G102960 | SKST037_3_G103026  |\n",
       "| 14 | SKST006_2_G102960 | p9281_mo1          |\n",
       "| 15 | SKST006_3_G102961 | SKST006_10_G102994 |\n",
       "| 16 | SKST006_3_G102961 | SKST037_3_G103026  |\n",
       "| 17 | SKST006_3_G102961 | p9281_mo1          |\n",
       "| 18 | SKST006_1_G102959 | SKST012_3_G102950  |\n",
       "| 19 | SKST006_1_G102959 | SKST007_8_G102999  |\n",
       "| 20 | SKST006_1_G102959 | SKST012_5_G102992  |\n",
       "| 21 | SKST006_9_G103014 | SKST011_5_G102993  |\n",
       "| 22 | SKST006_9_G103014 | SKST011_4_G102952  |\n",
       "| 23 | SKST006_9_G103014 | SKST011_3_G102973  |\n",
       "| 24 | SKST027_3_G102945 | SKST012_4_G102954  |\n",
       "| 25 | SKST027_3_G102945 | SKST024_7_G103022  |\n",
       "| 26 | SKST027_3_G102945 | SKST010_6_G103004  |\n",
       "| 27 | SKST027_4_G102958 | SKST010_8_G102998  |\n",
       "| 28 | SKST027_4_G102958 | SKST012_4_G102954  |\n",
       "| 29 | SKST027_4_G102958 | SKST012_6_G102997  |\n",
       "| ⋮ | ⋮ | ⋮ |\n",
       "| 11811 | V1_UC26_4 | V1_UC62_0 |\n",
       "| 11910 | V1_UC3_0  | O2_UC57_2 |\n",
       "| 1205 | V1_UC3_2  | V1_CD42_0 |\n",
       "| 1213 | V1_UC31_0 | V1_UC33_0 |\n",
       "| 1223 | V1_UC31_4 | V1_UC34_0 |\n",
       "| 1232 | V1_UC35_0 | V1_UC61_0 |\n",
       "| 1242 | V1_UC35_4 | MH0073    |\n",
       "| 1251 | V1_UC38_0 | V1_UC61_0 |\n",
       "| 1262 | V1_UC39_0 | O2_UC50_2 |\n",
       "| 1272 | V1_UC4_0  | MH0184    |\n",
       "| 1283 | V1_UC4_5  | V1_UC32_0 |\n",
       "| 1293 | V1_UC40_0 | MH0067    |\n",
       "| 1302 | V1_UC45_0 | MH0003    |\n",
       "| 1312 | V1_UC47_0 | MH0073    |\n",
       "| 1323 | V1_UC49_0 | O2_UC54_0 |\n",
       "| 1332 | V1_UC49_1 | MH0140    |\n",
       "| 1343 | V1_UC5_0  | MH0093    |\n",
       "| 1353 | V1_UC5_3  | V1_UC32_0 |\n",
       "| 1362 | V1_UC50_1 | V1_UC24_0 |\n",
       "| 1372 | V1_UC51_0 | V1_UC61_0 |\n",
       "| 1383 | V1_UC51_4 | MH0137    |\n",
       "| 1392 | V1_UC52_0 | O2_UC57_2 |\n",
       "| 1402 | V1_UC52_1 | MH0186    |\n",
       "| 1414 | V1_UC53_0 | MH0170    |\n",
       "| 1423 | V1_UC53_4 | MH0110    |\n",
       "| 1432 | V1_UC54_0 | MH0093    |\n",
       "| 1442 | V1_UC55_0 | V1_UC61_0 |\n",
       "| 1452 | V1_UC55_4 | MH0122    |\n",
       "| 1463 | V1_UC56_0 | O2_UC56_0 |\n",
       "| 1471 | V1_UC58_0 | O2_UC49_2 |\n",
       "\n"
      ],
      "text/plain": [
       "      Case              Control           \n",
       "0     SKST006_6_G102964 SKST007_6_G102995 \n",
       "1     SKST006_6_G102964 SKST010_1_G102968 \n",
       "2     SKST006_6_G102964 SKST041_3_G103028 \n",
       "3     SKST006_7_G102965 SKST037_2_G103023 \n",
       "4     SKST006_7_G102965 p9223_mo6         \n",
       "5     SKST006_7_G102965 p9281_mo5         \n",
       "6     SKST006_4_G102962 SKST012_6_G102997 \n",
       "7     SKST006_4_G102962 SKST036_3_G103025 \n",
       "8     SKST006_4_G102962 SKST010_8_G102998 \n",
       "9     SKST006_5_G102963 SKST010_6_G103004 \n",
       "10    SKST006_5_G102963 SKST024_7_G103022 \n",
       "11    SKST006_5_G102963 SKST012_4_G102954 \n",
       "12    SKST006_2_G102960 SKST006_10_G102994\n",
       "13    SKST006_2_G102960 SKST037_3_G103026 \n",
       "14    SKST006_2_G102960 p9281_mo1         \n",
       "15    SKST006_3_G102961 SKST006_10_G102994\n",
       "16    SKST006_3_G102961 SKST037_3_G103026 \n",
       "17    SKST006_3_G102961 p9281_mo1         \n",
       "18    SKST006_1_G102959 SKST012_3_G102950 \n",
       "19    SKST006_1_G102959 SKST007_8_G102999 \n",
       "20    SKST006_1_G102959 SKST012_5_G102992 \n",
       "21    SKST006_9_G103014 SKST011_5_G102993 \n",
       "22    SKST006_9_G103014 SKST011_4_G102952 \n",
       "23    SKST006_9_G103014 SKST011_3_G102973 \n",
       "24    SKST027_3_G102945 SKST012_4_G102954 \n",
       "25    SKST027_3_G102945 SKST024_7_G103022 \n",
       "26    SKST027_3_G102945 SKST010_6_G103004 \n",
       "27    SKST027_4_G102958 SKST010_8_G102998 \n",
       "28    SKST027_4_G102958 SKST012_4_G102954 \n",
       "29    SKST027_4_G102958 SKST012_6_G102997 \n",
       "⋮     ⋮                 ⋮                 \n",
       "11811 V1_UC26_4         V1_UC62_0         \n",
       "11910 V1_UC3_0          O2_UC57_2         \n",
       "1205  V1_UC3_2          V1_CD42_0         \n",
       "1213  V1_UC31_0         V1_UC33_0         \n",
       "1223  V1_UC31_4         V1_UC34_0         \n",
       "1232  V1_UC35_0         V1_UC61_0         \n",
       "1242  V1_UC35_4         MH0073            \n",
       "1251  V1_UC38_0         V1_UC61_0         \n",
       "1262  V1_UC39_0         O2_UC50_2         \n",
       "1272  V1_UC4_0          MH0184            \n",
       "1283  V1_UC4_5          V1_UC32_0         \n",
       "1293  V1_UC40_0         MH0067            \n",
       "1302  V1_UC45_0         MH0003            \n",
       "1312  V1_UC47_0         MH0073            \n",
       "1323  V1_UC49_0         O2_UC54_0         \n",
       "1332  V1_UC49_1         MH0140            \n",
       "1343  V1_UC5_0          MH0093            \n",
       "1353  V1_UC5_3          V1_UC32_0         \n",
       "1362  V1_UC50_1         V1_UC24_0         \n",
       "1372  V1_UC51_0         V1_UC61_0         \n",
       "1383  V1_UC51_4         MH0137            \n",
       "1392  V1_UC52_0         O2_UC57_2         \n",
       "1402  V1_UC52_1         MH0186            \n",
       "1414  V1_UC53_0         MH0170            \n",
       "1423  V1_UC53_4         MH0110            \n",
       "1432  V1_UC54_0         MH0093            \n",
       "1442  V1_UC55_0         V1_UC61_0         \n",
       "1452  V1_UC55_4         MH0122            \n",
       "1463  V1_UC56_0         O2_UC56_0         \n",
       "1471  V1_UC58_0         O2_UC49_2         "
      ]
     },
     "metadata": {},
     "output_type": "display_data"
    }
   ],
   "source": [
    "filePath <- sapply(fileName, function(x){ \n",
    "  paste(path,x,\"PSMLabel.csv\",sep=\"/\")})   \n",
    "data <- lapply(filePath, function(x){\n",
    "  read.csv(x,stringsAsFactors = F,row.names = 1)}) \n",
    "PSMlabel=data[[1]]\n",
    "for (i in 2:length(data)) {\n",
    "  PSMlabel<-rbind(PSMlabel,data[[i]],by=\"micro\")\n",
    "}\n",
    "PSMlabel<-PSMlabel[-which(PSMlabel$Case==\"micro\"),]\n",
    "PSMlabel\n",
    "#write.csv(PSMlabel,\"Temp/IBDMatchedLabel.csv\",row.names = F)"
   ]
  },
  {
   "cell_type": "markdown",
   "id": "ffb6f059",
   "metadata": {},
   "source": [
    "# unmatched cohort ----  matched cohort"
   ]
  },
  {
   "cell_type": "markdown",
   "id": "e812a6ac",
   "metadata": {},
   "source": [
    "## unmatched cohorts: cases vs. controls"
   ]
  },
  {
   "cell_type": "code",
   "execution_count": 5,
   "id": "6eab6ce5",
   "metadata": {},
   "outputs": [
    {
     "data": {
      "text/html": [
       "<table class=\"dataframe\">\n",
       "<caption>A data.frame: 4 × 3</caption>\n",
       "<thead>\n",
       "\t<tr><th scope=col>Group.1</th><th scope=col>Group.2</th><th scope=col>x</th></tr>\n",
       "\t<tr><th scope=col>&lt;chr&gt;</th><th scope=col>&lt;chr&gt;</th><th scope=col>&lt;list[,3]&gt;</th></tr>\n",
       "</thead>\n",
       "<tbody>\n",
       "\t<tr><td>control</td><td>age</td><td>36.91408, 16.53358, 57.29459</td></tr>\n",
       "\t<tr><td>IBD    </td><td>age</td><td>28.38182, 11.26313, 45.5005</td></tr>\n",
       "\t<tr><td>control</td><td>BMI</td><td>25.31239, 18.42916, 32.19563</td></tr>\n",
       "\t<tr><td>IBD    </td><td>BMI</td><td>23.24461, 16.61452, 29.8747</td></tr>\n",
       "</tbody>\n",
       "</table>\n"
      ],
      "text/latex": [
       "A data.frame: 4 × 3\n",
       "\\begin{tabular}{lll}\n",
       " Group.1 & Group.2 & x\\\\\n",
       " <chr> & <chr> & <list{[},3{]}>\\\\\n",
       "\\hline\n",
       "\t control & age & 36.91408, 16.53358, 57.29459\\\\\n",
       "\t IBD     & age & 28.38182, 11.26313, 45.5005\\\\\n",
       "\t control & BMI & 25.31239, 18.42916, 32.19563\\\\\n",
       "\t IBD     & BMI & 23.24461, 16.61452, 29.8747\\\\\n",
       "\\end{tabular}\n"
      ],
      "text/markdown": [
       "\n",
       "A data.frame: 4 × 3\n",
       "\n",
       "| Group.1 &lt;chr&gt; | Group.2 &lt;chr&gt; | x &lt;list[,3]&gt; |\n",
       "|---|---|---|\n",
       "| control | age | 36.91408, 16.53358, 57.29459 |\n",
       "| IBD     | age | 28.38182, 11.26313, 45.5005 |\n",
       "| control | BMI | 25.31239, 18.42916, 32.19563 |\n",
       "| IBD     | BMI | 23.24461, 16.61452, 29.8747 |\n",
       "\n"
      ],
      "text/plain": [
       "  Group.1 Group.2 x                           \n",
       "1 control age     36.91408, 16.53358, 57.29459\n",
       "2 IBD     age     28.38182, 11.26313, 45.5005 \n",
       "3 control BMI     25.31239, 18.42916, 32.19563\n",
       "4 IBD     BMI     23.24461, 16.61452, 29.8747 "
      ]
     },
     "metadata": {},
     "output_type": "display_data"
    }
   ],
   "source": [
    "metadata<-read.csv(\"Temp/IBDmetadata.csv\",stringsAsFactors = F)\n",
    "unmatched_metaplot<-data.frame(study_name=rep(metadata$sample_id,2),\n",
    "                     study_condition=rep(metadata$study_condition,2),\n",
    "                     Group=rep(c(\"age\",\"BMI\"),each=nrow(metadata)),\n",
    "                     index=c(metadata$age,metadata$BMI))\n",
    "msd<-na.omit(unmatched_metaplot)\n",
    "aggregate(msd$index,\n",
    "          by=list(msd$study_condition,msd$Group),\n",
    "          mean_sd)# list[,3]: mean mean-sd mean+sd"
   ]
  },
  {
   "cell_type": "code",
   "execution_count": 6,
   "id": "05ee687b",
   "metadata": {
    "scrolled": true
   },
   "outputs": [
    {
     "name": "stderr",
     "output_type": "stream",
     "text": [
      "Warning message:\n",
      "\"\u001b[1m\u001b[22mThe dot-dot notation (`..p.format..`) was deprecated in ggplot2 3.4.0.\n",
      "\u001b[36mℹ\u001b[39m Please use `after_stat(p.format)` instead.\"\n",
      "Warning message:\n",
      "\"\u001b[1m\u001b[22mRemoved 1200 rows containing non-finite values (`stat_compare_means()`).\"\n",
      "Warning message:\n",
      "\"\u001b[1m\u001b[22mRemoved 1200 rows containing non-finite values (`stat_boxplot()`).\"\n"
     ]
    },
    {
     "data": {
      "image/png": "[encoded data removed]",
      "text/plain": [
       "plot without title"
      ]
     },
     "metadata": {
      "image/png": {
       "height": 420,
       "width": 420
      }
     },
     "output_type": "display_data"
    }
   ],
   "source": [
    "unmatched_metaplot$study_condition<-factor(unmatched_metaplot$study_condition,levels=c(\"control\",\"IBD\"))\n",
    "ggplot(unmatched_metaplot, aes(x=Group, y=index, fill=study_condition)) + \n",
    "  stat_compare_means(label = \"p.format\",method = \"wilcox.test\")+\n",
    "  geom_boxplot(outlier.shape = NA) +\n",
    "  scale_fill_manual(values = c(\"#5175A4\",\"#D94E48\"))+\n",
    "  xlab(\"\")+ylab(\"\")+\n",
    "  facet_wrap(~Group, scale=\"free\",nrow=1)+\n",
    "  theme_bw() + theme(panel.grid=element_blank())"
   ]
  },
  {
   "cell_type": "code",
   "execution_count": 7,
   "id": "887596e5",
   "metadata": {},
   "outputs": [
    {
     "data": {
      "text/plain": [
       "     \n",
       "      control  IBD\n",
       "  CHN       7    0\n",
       "  DNK     180    0\n",
       "  ESP      71  288\n",
       "  GBR      38   56\n",
       "  USA     500 1386"
      ]
     },
     "metadata": {},
     "output_type": "display_data"
    },
    {
     "data": {
      "image/png": "[encoded data removed]",
      "text/plain": [
       "plot without title"
      ]
     },
     "metadata": {
      "image/png": {
       "height": 420,
       "width": 420
      }
     },
     "output_type": "display_data"
    }
   ],
   "source": [
    "# Country-unmatched\n",
    "table(metadata$country,metadata$study_condition)\n",
    "unCountry<-data.frame(study_condition=rep(c(\"control\",\"IBD\"),each=5),\n",
    "                      Group=rep(c(\"CHN\",\"DNK\",\"ESP\",\"GBR\",\"USA\"),2),\n",
    "                      index=c(0.01,0.22,0.09,0.05,0.63,0,0,0.17,0.03,0.8))\n",
    "\n",
    "ggplot(unCountry,aes(study_condition,index,fill=Group))+\n",
    "  geom_bar(stat=\"identity\",position=\"stack\")+\n",
    "  ggtitle(\"Unmatched Country\")+\n",
    "  theme_bw()+\n",
    "  theme(axis.ticks.length=unit(0.5,'cm'))+\n",
    "  xlab(\"\")+ylab(\"Percentage\")+\n",
    "  scale_fill_manual(values = c(\"#D24317\",\"#E9972F\",\"#E9B374\",\"#94D1C6\",\"#2F8DAE\"))+\n",
    "  theme_bw() + theme(panel.grid=element_blank())"
   ]
  },
  {
   "cell_type": "markdown",
   "id": "caa73b01",
   "metadata": {},
   "source": [
    "## matched cohorts: cases vs. controls"
   ]
  },
  {
   "cell_type": "code",
   "execution_count": 9,
   "id": "7633459c",
   "metadata": {},
   "outputs": [
    {
     "name": "stderr",
     "output_type": "stream",
     "text": [
      "Joining by: sample_id\n",
      "\n",
      "Joining by: sample_id\n",
      "\n"
     ]
    }
   ],
   "source": [
    "PSMlabel<-read.csv(\"Temp/IBDMatchedLabel.csv\")\n",
    "IBDmeta<-data.frame(sample_id=PSMlabel$Case)\n",
    "IBDmeta<-join(IBDmeta,metadata,match=\"first\")\n",
    "controlmeta<-data.frame(sample_id=PSMlabel$Control)\n",
    "controlmeta<-join(controlmeta,metadata,match=\"first\")\n",
    "\n",
    "f_metaplot<-data.frame(cID=controlmeta$sample_id,\n",
    "                       IBDid=IBDmeta$sample_id,\n",
    "                       study_condition1=rep(\"control\",2023),\n",
    "                       study_condition2=rep(\"IBD\",2023),\n",
    "                       Age1=controlmeta$age,\n",
    "                       Age2=IBDmeta$age,\n",
    "                       BMI1=controlmeta$BMI,\n",
    "                       BMI2=IBDmeta$BMI,\n",
    "                       Country1=controlmeta$country,\n",
    "                       Country2=IBDmeta$country,\n",
    "                       Gender1=controlmeta$gender,\n",
    "                       Gender2=IBDmeta$gender)"
   ]
  },
  {
   "cell_type": "code",
   "execution_count": 10,
   "id": "a6e8f6c3",
   "metadata": {},
   "outputs": [],
   "source": [
    "matchedData<-data.frame(ID=rep(1:2023,2),\n",
    "                     sample_id=c(f_metaplot$cID,f_metaplot$IBDid),\n",
    "                     study_condition=rep(c(\"control\",\"IBD\"),each=2023),\n",
    "                     Age=c(f_metaplot$Age1,f_metaplot$Age2),\n",
    "                     BMI=c(f_metaplot$BMI1,f_metaplot$BMI2),\n",
    "                     Gender=c(f_metaplot$Gender1,f_metaplot$Gender2),\n",
    "                     Country=c(f_metaplot$Country1,f_metaplot$Country2))\n",
    "#write.csv(matchedData,\"Temp/IBDMatchedMetadata.csv\",row.names = F)"
   ]
  },
  {
   "cell_type": "code",
   "execution_count": 12,
   "id": "62e39610",
   "metadata": {},
   "outputs": [
    {
     "data": {
      "text/html": [
       "<table class=\"dataframe\">\n",
       "<caption>A data.frame: 2 × 2</caption>\n",
       "<thead>\n",
       "\t<tr><th scope=col>Group.1</th><th scope=col>x</th></tr>\n",
       "\t<tr><th scope=col>&lt;chr&gt;</th><th scope=col>&lt;list[,3]&gt;</th></tr>\n",
       "</thead>\n",
       "<tbody>\n",
       "\t<tr><td>control</td><td>30.93103, 10.54472, 51.31735</td></tr>\n",
       "\t<tr><td>IBD    </td><td>28.03678, 11.13454, 44.93902</td></tr>\n",
       "</tbody>\n",
       "</table>\n"
      ],
      "text/latex": [
       "A data.frame: 2 × 2\n",
       "\\begin{tabular}{ll}\n",
       " Group.1 & x\\\\\n",
       " <chr> & <list{[},3{]}>\\\\\n",
       "\\hline\n",
       "\t control & 30.93103, 10.54472, 51.31735\\\\\n",
       "\t IBD     & 28.03678, 11.13454, 44.93902\\\\\n",
       "\\end{tabular}\n"
      ],
      "text/markdown": [
       "\n",
       "A data.frame: 2 × 2\n",
       "\n",
       "| Group.1 &lt;chr&gt; | x &lt;list[,3]&gt; |\n",
       "|---|---|\n",
       "| control | 30.93103, 10.54472, 51.31735 |\n",
       "| IBD     | 28.03678, 11.13454, 44.93902 |\n",
       "\n"
      ],
      "text/plain": [
       "  Group.1 x                           \n",
       "1 control 30.93103, 10.54472, 51.31735\n",
       "2 IBD     28.03678, 11.13454, 44.93902"
      ]
     },
     "metadata": {},
     "output_type": "display_data"
    },
    {
     "data": {
      "text/html": [
       "<table class=\"dataframe\">\n",
       "<caption>A data.frame: 2 × 2</caption>\n",
       "<thead>\n",
       "\t<tr><th scope=col>Group.1</th><th scope=col>x</th></tr>\n",
       "\t<tr><th scope=col>&lt;chr&gt;</th><th scope=col>&lt;list[,3]&gt;</th></tr>\n",
       "</thead>\n",
       "<tbody>\n",
       "\t<tr><td>control</td><td>23.48782, 16.05632, 30.91931</td></tr>\n",
       "\t<tr><td>IBD    </td><td>23.25115, 16.54933, 29.95297</td></tr>\n",
       "</tbody>\n",
       "</table>\n"
      ],
      "text/latex": [
       "A data.frame: 2 × 2\n",
       "\\begin{tabular}{ll}\n",
       " Group.1 & x\\\\\n",
       " <chr> & <list{[},3{]}>\\\\\n",
       "\\hline\n",
       "\t control & 23.48782, 16.05632, 30.91931\\\\\n",
       "\t IBD     & 23.25115, 16.54933, 29.95297\\\\\n",
       "\\end{tabular}\n"
      ],
      "text/markdown": [
       "\n",
       "A data.frame: 2 × 2\n",
       "\n",
       "| Group.1 &lt;chr&gt; | x &lt;list[,3]&gt; |\n",
       "|---|---|\n",
       "| control | 23.48782, 16.05632, 30.91931 |\n",
       "| IBD     | 23.25115, 16.54933, 29.95297 |\n",
       "\n"
      ],
      "text/plain": [
       "  Group.1 x                           \n",
       "1 control 23.48782, 16.05632, 30.91931\n",
       "2 IBD     23.25115, 16.54933, 29.95297"
      ]
     },
     "metadata": {},
     "output_type": "display_data"
    }
   ],
   "source": [
    "f_metaplot<-na.omit(f_metaplot)\n",
    "matched_metaplot<-data.frame(ID=rep(1:870,2),\n",
    "                             sample_id=c(f_metaplot$cID,f_metaplot$IBDid),\n",
    "                             study_condition=rep(c(\"control\",\"IBD\"),each=870),\n",
    "                             Age=c(f_metaplot$Age1,f_metaplot$Age2),\n",
    "                             BMI=c(f_metaplot$BMI1,f_metaplot$BMI2))\n",
    "#write.csv(matched_metaplot,\"Temp/IBDMatched_delNA_Metadata.csv\",row.names = F)\n",
    "aggregate(matched_metaplot$Age,\n",
    "          by=list(matched_metaplot$study_condition),\n",
    "          mean_sd)\n",
    "aggregate(matched_metaplot$BMI,\n",
    "          by=list(matched_metaplot$study_condition),\n",
    "          mean_sd)"
   ]
  },
  {
   "cell_type": "code",
   "execution_count": 13,
   "id": "eaeb266b",
   "metadata": {},
   "outputs": [
    {
     "name": "stderr",
     "output_type": "stream",
     "text": [
      "\u001b[1m\u001b[22mScale for \u001b[32mfill\u001b[39m is already present.\n",
      "Adding another scale for \u001b[32mfill\u001b[39m, which will replace the existing scale.\n",
      "\u001b[1m\u001b[22mScale for \u001b[32mfill\u001b[39m is already present.\n",
      "Adding another scale for \u001b[32mfill\u001b[39m, which will replace the existing scale.\n"
     ]
    },
    {
     "data": {
      "image/png": "[encoded data removed]",
      "text/plain": [
       "plot without title"
      ]
     },
     "metadata": {
      "image/png": {
       "height": 420,
       "width": 420
      }
     },
     "output_type": "display_data"
    }
   ],
   "source": [
    "p1=ggpaired(matched_metaplot, x = 'study_condition', y = 'Age',id='ID',\n",
    "            fill = 'study_condition', palette = \"jco\", \n",
    "            line.color = \"gray\", line.size = 0.1,\n",
    "            short.panel.labs = FALSE)+\n",
    "  scale_fill_manual(values = c(\"#5175A4\",\"#D94E48\"))+\n",
    "  labs(x=\"\",y = \"Age\")+\n",
    "  stat_compare_means(label = \"p.format\",method = \"wilcox.test\",paired = T)+\n",
    "  theme_bw() + theme(panel.grid=element_blank(),legend.position=\"none\")\n",
    "\n",
    "p2=ggpaired(matched_metaplot, x = 'study_condition', y = 'BMI',id='ID',\n",
    "            fill = 'study_condition', palette = \"jco\", \n",
    "            line.color = \"gray\", line.size = 0.1,\n",
    "            short.panel.labs = FALSE)+\n",
    "  scale_fill_manual(values = c(\"#5175A4\",\"#D94E48\"))+\n",
    "  labs(x=\"\",y = \"BMI\")+\n",
    "  stat_compare_means(label = \"p.format\",method = \"wilcox.test\",paired = T)+\n",
    "  theme_bw() + theme(panel.grid=element_blank(),legend.position=\"none\")\n",
    "\n",
    "plot_grid(p1,p2, nrow = 1, align = \"v\")"
   ]
  },
  {
   "cell_type": "code",
   "execution_count": 14,
   "id": "1f570529",
   "metadata": {},
   "outputs": [
    {
     "data": {
      "image/png": "[encoded data removed]",
      "text/plain": [
       "plot without title"
      ]
     },
     "metadata": {
      "image/png": {
       "height": 420,
       "width": 420
      }
     },
     "output_type": "display_data"
    }
   ],
   "source": [
    "Country<-data.frame(study_condition=rep(c(\"control\",\"IBD\"),each=5),\n",
    "                    Group=rep(c(\"CHN\",\"DNK\",\"ESP\",\"GBR\",\"USA\"),2),\n",
    "                    index=c(0.048,0.043,0.037,0.027,0.846,0,0,0.127,0.027,0.846))\n",
    "\n",
    "ggplot(Country,aes(study_condition,index,fill=Group))+\n",
    "  geom_bar(stat=\"identity\",position=\"stack\")+\n",
    "  ggtitle(\"Matched Country\")+\n",
    "  theme_bw()+\n",
    "  theme(axis.ticks.length=unit(0.5,'cm'))+\n",
    "  xlab(\"\")+ylab(\"Percentage\")+\n",
    "  scale_fill_manual(values = c(\"#D24317\",\"#E9972F\",\"#E9B374\",\"#94D1C6\",\"#2F8DAE\"))+\n",
    "  theme_bw() + theme(panel.grid=element_blank())"
   ]
  },
  {
   "cell_type": "code",
   "execution_count": null,
   "id": "f425c777",
   "metadata": {},
   "outputs": [],
   "source": []
  },
  {
   "cell_type": "code",
   "execution_count": null,
   "id": "05feab60",
   "metadata": {},
   "outputs": [],
   "source": []
  }
 ],
 "metadata": {
  "kernelspec": {
   "display_name": "R",
   "language": "R",
   "name": "ir"
  },
  "language_info": {
   "codemirror_mode": "r",
   "file_extension": ".r",
   "mimetype": "text/x-r-source",
   "name": "R",
   "pygments_lexer": "r",
   "version": "4.2.1"
  }
 },
 "nbformat": 4,
 "nbformat_minor": 5
}
