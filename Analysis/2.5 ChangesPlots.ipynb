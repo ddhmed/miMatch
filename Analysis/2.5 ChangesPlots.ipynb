{
 "cells": [
  {
   "cell_type": "code",
   "execution_count": 1,
   "id": "de57b6cc",
   "metadata": {
    "collapsed": true,
    "jupyter": {
     "outputs_hidden": true
    }
   },
   "outputs": [
    {
     "name": "stderr",
     "output_type": "stream",
     "text": [
      "Warning message:\n",
      "\"package 'plyr' was built under R version 4.2.2\"\n",
      "\n",
      "Attaching package: 'dplyr'\n",
      "\n",
      "\n",
      "The following objects are masked from 'package:plyr':\n",
      "\n",
      "    arrange, count, desc, failwith, id, mutate, rename, summarise,\n",
      "    summarize\n",
      "\n",
      "\n",
      "The following objects are masked from 'package:stats':\n",
      "\n",
      "    filter, lag\n",
      "\n",
      "\n",
      "The following objects are masked from 'package:base':\n",
      "\n",
      "    intersect, setdiff, setequal, union\n",
      "\n",
      "\n",
      "Warning message:\n",
      "\"package 'ggplot2' was built under R version 4.2.2\"\n",
      "Warning message:\n",
      "\"package 'hrbrthemes' was built under R version 4.2.2\"\n",
      "NOTE: Either Arial Narrow or Roboto Condensed fonts are required to use these themes.\n",
      "\n",
      "      Please use hrbrthemes::import_roboto_condensed() to install Roboto Condensed and\n",
      "\n",
      "      if Arial Narrow is not on your system, please see https://bit.ly/arialnarrow\n",
      "\n"
     ]
    }
   ],
   "source": [
    "setwd('E:/notebook/miMatch')\n",
    "library(plyr)\n",
    "library(dplyr)\n",
    "library(ggplot2)\n",
    "#install.packages(\"hrbrthemes\")\n",
    "library(hrbrthemes)"
   ]
  },
  {
   "cell_type": "code",
   "execution_count": 2,
   "id": "dfd5d3ae",
   "metadata": {},
   "outputs": [],
   "source": [
    "pair<-read.csv(\"./Label/fenzu.csv\")\n",
    "colnames(pair)<-c(\"Project\",\"study_name\",\"body_site\",\"condition1\",\"condition2\")"
   ]
  },
  {
   "cell_type": "markdown",
   "id": "e3f69e11",
   "metadata": {},
   "source": [
    "# Alpha-diversity difference between matched and unmatched studies"
   ]
  },
  {
   "cell_type": "code",
   "execution_count": 3,
   "id": "4b17055f",
   "metadata": {},
   "outputs": [
    {
     "data": {
      "text/html": [
       "<table class=\"dataframe\">\n",
       "<caption>A data.frame: 6 × 5</caption>\n",
       "<thead>\n",
       "\t<tr><th></th><th scope=col>Project</th><th scope=col>Delta_PS_Unmatched</th><th scope=col>Delta_PS_Matched</th><th scope=col>Unmatched</th><th scope=col>Matched</th></tr>\n",
       "\t<tr><th></th><th scope=col>&lt;chr&gt;</th><th scope=col>&lt;dbl&gt;</th><th scope=col>&lt;dbl&gt;</th><th scope=col>&lt;dbl&gt;</th><th scope=col>&lt;dbl&gt;</th></tr>\n",
       "</thead>\n",
       "<tbody>\n",
       "\t<tr><th scope=row>0</th><td>08 </td><td>2.895914</td><td>8.8484643</td><td>0.007345935</td><td>19.2696374</td></tr>\n",
       "\t<tr><th scope=row>1</th><td>09 </td><td>2.617320</td><td>0.2682587</td><td>0.536000063</td><td> 1.6661265</td></tr>\n",
       "\t<tr><th scope=row>2</th><td>100</td><td>1.722361</td><td>0.1008739</td><td>1.436501965</td><td> 0.7498675</td></tr>\n",
       "\t<tr><th scope=row>3</th><td>101</td><td>2.532701</td><td>0.2262202</td><td>1.030975077</td><td> 2.7971068</td></tr>\n",
       "\t<tr><th scope=row>4</th><td>11 </td><td>4.223416</td><td>0.3986592</td><td>1.027554247</td><td> 0.4543826</td></tr>\n",
       "\t<tr><th scope=row>5</th><td>15 </td><td>4.029124</td><td>0.3708135</td><td>2.708845128</td><td> 1.4082400</td></tr>\n",
       "</tbody>\n",
       "</table>\n"
      ],
      "text/latex": [
       "A data.frame: 6 × 5\n",
       "\\begin{tabular}{r|lllll}\n",
       "  & Project & Delta\\_PS\\_Unmatched & Delta\\_PS\\_Matched & Unmatched & Matched\\\\\n",
       "  & <chr> & <dbl> & <dbl> & <dbl> & <dbl>\\\\\n",
       "\\hline\n",
       "\t0 & 08  & 2.895914 & 8.8484643 & 0.007345935 & 19.2696374\\\\\n",
       "\t1 & 09  & 2.617320 & 0.2682587 & 0.536000063 &  1.6661265\\\\\n",
       "\t2 & 100 & 1.722361 & 0.1008739 & 1.436501965 &  0.7498675\\\\\n",
       "\t3 & 101 & 2.532701 & 0.2262202 & 1.030975077 &  2.7971068\\\\\n",
       "\t4 & 11  & 4.223416 & 0.3986592 & 1.027554247 &  0.4543826\\\\\n",
       "\t5 & 15  & 4.029124 & 0.3708135 & 2.708845128 &  1.4082400\\\\\n",
       "\\end{tabular}\n"
      ],
      "text/markdown": [
       "\n",
       "A data.frame: 6 × 5\n",
       "\n",
       "| <!--/--> | Project &lt;chr&gt; | Delta_PS_Unmatched &lt;dbl&gt; | Delta_PS_Matched &lt;dbl&gt; | Unmatched &lt;dbl&gt; | Matched &lt;dbl&gt; |\n",
       "|---|---|---|---|---|---|\n",
       "| 0 | 08  | 2.895914 | 8.8484643 | 0.007345935 | 19.2696374 |\n",
       "| 1 | 09  | 2.617320 | 0.2682587 | 0.536000063 |  1.6661265 |\n",
       "| 2 | 100 | 1.722361 | 0.1008739 | 1.436501965 |  0.7498675 |\n",
       "| 3 | 101 | 2.532701 | 0.2262202 | 1.030975077 |  2.7971068 |\n",
       "| 4 | 11  | 4.223416 | 0.3986592 | 1.027554247 |  0.4543826 |\n",
       "| 5 | 15  | 4.029124 | 0.3708135 | 2.708845128 |  1.4082400 |\n",
       "\n"
      ],
      "text/plain": [
       "  Project Delta_PS_Unmatched Delta_PS_Matched Unmatched   Matched   \n",
       "0 08      2.895914           8.8484643        0.007345935 19.2696374\n",
       "1 09      2.617320           0.2682587        0.536000063  1.6661265\n",
       "2 100     1.722361           0.1008739        1.436501965  0.7498675\n",
       "3 101     2.532701           0.2262202        1.030975077  2.7971068\n",
       "4 11      4.223416           0.3986592        1.027554247  0.4543826\n",
       "5 15      4.029124           0.3708135        2.708845128  1.4082400"
      ]
     },
     "metadata": {},
     "output_type": "display_data"
    }
   ],
   "source": [
    "alpha<-read.csv(\"./Results/Results2/3. Alpha_diversity_braycurtis.csv\",row.names = 1)\n",
    "head(alpha)"
   ]
  },
  {
   "cell_type": "code",
   "execution_count": 4,
   "id": "c21b820f",
   "metadata": {},
   "outputs": [
    {
     "name": "stderr",
     "output_type": "stream",
     "text": [
      "Joining by: Project\n",
      "\n"
     ]
    }
   ],
   "source": [
    "ldata<-join(alpha,pair,match=\"first\")\n",
    "ldata$id<-paste(ldata$study_name,ldata$Project,sep=\"_\")\n",
    "alpha$id=ldata$id\n",
    "alpha$cha=abs(alpha$Matched-alpha$Unmatched)"
   ]
  },
  {
   "cell_type": "code",
   "execution_count": 5,
   "id": "6b3cd3e2",
   "metadata": {},
   "outputs": [
    {
     "name": "stderr",
     "output_type": "stream",
     "text": [
      "Warning message:\n",
      "\"\u001b[1m\u001b[22mUsing `size` aesthetic for lines was deprecated in ggplot2 3.4.0.\n",
      "\u001b[36mℹ\u001b[39m Please use `linewidth` instead.\"\n"
     ]
    },
    {
     "data": {
      "text/html": [
       "<strong>png:</strong> 2"
      ],
      "text/latex": [
       "\\textbf{png:} 2"
      ],
      "text/markdown": [
       "**png:** 2"
      ],
      "text/plain": [
       "png \n",
       "  2 "
      ]
     },
     "metadata": {},
     "output_type": "display_data"
    },
    {
     "data": {
      "image/png": "[encoded data removed]",
      "text/plain": [
       "plot without title"
      ]
     },
     "metadata": {
      "image/png": {
       "height": 420,
       "width": 420
      }
     },
     "output_type": "display_data"
    }
   ],
   "source": [
    "pa<-ggplot(alpha) +\n",
    "  geom_segment(aes(x=reorder(id,cha), xend=reorder(id,cha),y=Unmatched,yend=Matched),\n",
    "               color=\"grey\",size=1.5) +\n",
    "  geom_point(aes(x=id, y=Unmatched),color=\"#E71F19\",size=3) +\n",
    "  geom_point(aes(x=id, y=Matched),color=\"#106AB2\",size=3) +\n",
    "  theme_light()+theme(panel.grid.major.x=element_blank(),\n",
    "                      axis.ticks.x=element_blank())+\n",
    "  xlab(\"\")+\n",
    "  ylab(\"Alpha-diversity difference between matched and unmatched studies\")+\n",
    "  coord_flip()\n",
    "pa\n",
    "#pdf(\"./Results/Results2/5.1 AlphaChanges_study.pdf\",width =8,height =10)\n",
    "#pa\n",
    "#dev.off()"
   ]
  },
  {
   "cell_type": "code",
   "execution_count": 6,
   "id": "17ce8130",
   "metadata": {},
   "outputs": [
    {
     "name": "stderr",
     "output_type": "stream",
     "text": [
      "Joining by: case\n",
      "\n"
     ]
    },
    {
     "data": {
      "text/html": [
       "<strong>png:</strong> 2"
      ],
      "text/latex": [
       "\\textbf{png:} 2"
      ],
      "text/markdown": [
       "**png:** 2"
      ],
      "text/plain": [
       "png \n",
       "  2 "
      ]
     },
     "metadata": {},
     "output_type": "display_data"
    },
    {
     "data": {
      "image/png": "[encoded data removed]",
      "text/plain": [
       "plot without title"
      ]
     },
     "metadata": {
      "image/png": {
       "height": 420,
       "width": 420
      }
     },
     "output_type": "display_data"
    }
   ],
   "source": [
    "data<-ldata[which(ldata$condition1==\"control\"),]\n",
    "#table(data$condition2)\n",
    "data1<-aggregate(data$Unmatched,\n",
    "                 by=list(data$condition2),\n",
    "                 mean)\n",
    "colnames(data1)<-c(\"case\",\"Unmatched\")\n",
    "data2<-aggregate(data$Matched,\n",
    "                 by=list(data$condition2),\n",
    "                 mean)\n",
    "colnames(data2)<-c(\"case\",\"Matched\")\n",
    "data3<-join(data1,data2,match=\"first\")\n",
    "data3$cha<-data3$Unmatched-data3$Matched\n",
    "#data3<-data3[order(data3$PERMANOVA_Unmatched,decreasing = T),]\n",
    "pac<-ggplot(data3) +\n",
    "      geom_segment(aes(x=reorder(case,abs(cha)), xend=reorder(case,abs(cha)),y=Unmatched,yend=Matched),\n",
    "                   color=\"grey\",size=1.5) +\n",
    "      geom_point(aes(x=case, y=Unmatched),color=\"#E71F19\",size=3) +\n",
    "      geom_point(aes(x=case, y=Matched),color=\"#106AB2\",size=3) +\n",
    "      theme_light()+theme(panel.grid.major.x=element_blank(),\n",
    "                          axis.ticks.x=element_blank())+\n",
    "      xlab(\"\")+\n",
    "      ylab(\"Magnitude of microbiota difference (Alpha)\")+\n",
    "      coord_flip()\n",
    "pac\n",
    "#pdf(\"./Results/Results2/5.1 AlphaChanges_case.pdf\",width =6,height =6)\n",
    "#pac\n",
    "#dev.off()"
   ]
  },
  {
   "cell_type": "markdown",
   "id": "f84c5344",
   "metadata": {},
   "source": [
    "# Beta-diversity difference between matched and unmatched studies"
   ]
  },
  {
   "cell_type": "code",
   "execution_count": 14,
   "id": "8c6b56aa",
   "metadata": {},
   "outputs": [
    {
     "name": "stderr",
     "output_type": "stream",
     "text": [
      "Joining by: Project\n",
      "\n"
     ]
    },
    {
     "data": {
      "text/html": [
       "<table class=\"dataframe\">\n",
       "<caption>A data.frame: 6 × 9</caption>\n",
       "<thead>\n",
       "\t<tr><th></th><th scope=col>Project</th><th scope=col>Delta_PS_Unmatched</th><th scope=col>Delta_PS_Matched</th><th scope=col>ANOSIM_Unmatched</th><th scope=col>PERMANOVA_Unmatched</th><th scope=col>ANOSIM_Matched</th><th scope=col>PERMANOVA_Matched</th><th scope=col>id</th><th scope=col>cha</th></tr>\n",
       "\t<tr><th></th><th scope=col>&lt;chr&gt;</th><th scope=col>&lt;dbl&gt;</th><th scope=col>&lt;dbl&gt;</th><th scope=col>&lt;dbl&gt;</th><th scope=col>&lt;dbl&gt;</th><th scope=col>&lt;dbl&gt;</th><th scope=col>&lt;dbl&gt;</th><th scope=col>&lt;chr&gt;</th><th scope=col>&lt;dbl&gt;</th></tr>\n",
       "</thead>\n",
       "<tbody>\n",
       "\t<tr><th scope=row>0</th><td>08 </td><td>2.895914</td><td>8.8484643</td><td>1.698970</td><td>3.000000</td><td>1.39794001</td><td>2.5228787</td><td>BrooksB_2017_08       </td><td>0.4771213</td></tr>\n",
       "\t<tr><th scope=row>1</th><td>09 </td><td>2.617320</td><td>0.2682587</td><td>2.698970</td><td>3.000000</td><td>1.46852108</td><td>1.3279021</td><td>Castro-NallarE_2015_09</td><td>1.6720979</td></tr>\n",
       "\t<tr><th scope=row>2</th><td>100</td><td>1.722361</td><td>0.1008739</td><td>2.301030</td><td>1.677781</td><td>1.56863624</td><td>1.3665315</td><td>ZhuF_2020_100         </td><td>0.3112492</td></tr>\n",
       "\t<tr><th scope=row>3</th><td>101</td><td>2.532701</td><td>0.2262202</td><td>3.000000</td><td>2.698970</td><td>2.04575749</td><td>2.6989700</td><td>NagySzakalD_2017_101  </td><td>0.0000000</td></tr>\n",
       "\t<tr><th scope=row>4</th><td>11 </td><td>4.223416</td><td>0.3986592</td><td>2.698970</td><td>2.397940</td><td>2.09691001</td><td>2.5228787</td><td>ChngKR_2016_11        </td><td>0.1249387</td></tr>\n",
       "\t<tr><th scope=row>5</th><td>15 </td><td>4.029124</td><td>0.3708135</td><td>1.387216</td><td>3.000000</td><td>0.04048162</td><td>0.8013429</td><td>DavidLA_2015_15       </td><td>2.1986571</td></tr>\n",
       "</tbody>\n",
       "</table>\n"
      ],
      "text/latex": [
       "A data.frame: 6 × 9\n",
       "\\begin{tabular}{r|lllllllll}\n",
       "  & Project & Delta\\_PS\\_Unmatched & Delta\\_PS\\_Matched & ANOSIM\\_Unmatched & PERMANOVA\\_Unmatched & ANOSIM\\_Matched & PERMANOVA\\_Matched & id & cha\\\\\n",
       "  & <chr> & <dbl> & <dbl> & <dbl> & <dbl> & <dbl> & <dbl> & <chr> & <dbl>\\\\\n",
       "\\hline\n",
       "\t0 & 08  & 2.895914 & 8.8484643 & 1.698970 & 3.000000 & 1.39794001 & 2.5228787 & BrooksB\\_2017\\_08        & 0.4771213\\\\\n",
       "\t1 & 09  & 2.617320 & 0.2682587 & 2.698970 & 3.000000 & 1.46852108 & 1.3279021 & Castro-NallarE\\_2015\\_09 & 1.6720979\\\\\n",
       "\t2 & 100 & 1.722361 & 0.1008739 & 2.301030 & 1.677781 & 1.56863624 & 1.3665315 & ZhuF\\_2020\\_100          & 0.3112492\\\\\n",
       "\t3 & 101 & 2.532701 & 0.2262202 & 3.000000 & 2.698970 & 2.04575749 & 2.6989700 & NagySzakalD\\_2017\\_101   & 0.0000000\\\\\n",
       "\t4 & 11  & 4.223416 & 0.3986592 & 2.698970 & 2.397940 & 2.09691001 & 2.5228787 & ChngKR\\_2016\\_11         & 0.1249387\\\\\n",
       "\t5 & 15  & 4.029124 & 0.3708135 & 1.387216 & 3.000000 & 0.04048162 & 0.8013429 & DavidLA\\_2015\\_15        & 2.1986571\\\\\n",
       "\\end{tabular}\n"
      ],
      "text/markdown": [
       "\n",
       "A data.frame: 6 × 9\n",
       "\n",
       "| <!--/--> | Project &lt;chr&gt; | Delta_PS_Unmatched &lt;dbl&gt; | Delta_PS_Matched &lt;dbl&gt; | ANOSIM_Unmatched &lt;dbl&gt; | PERMANOVA_Unmatched &lt;dbl&gt; | ANOSIM_Matched &lt;dbl&gt; | PERMANOVA_Matched &lt;dbl&gt; | id &lt;chr&gt; | cha &lt;dbl&gt; |\n",
       "|---|---|---|---|---|---|---|---|---|---|\n",
       "| 0 | 08  | 2.895914 | 8.8484643 | 1.698970 | 3.000000 | 1.39794001 | 2.5228787 | BrooksB_2017_08        | 0.4771213 |\n",
       "| 1 | 09  | 2.617320 | 0.2682587 | 2.698970 | 3.000000 | 1.46852108 | 1.3279021 | Castro-NallarE_2015_09 | 1.6720979 |\n",
       "| 2 | 100 | 1.722361 | 0.1008739 | 2.301030 | 1.677781 | 1.56863624 | 1.3665315 | ZhuF_2020_100          | 0.3112492 |\n",
       "| 3 | 101 | 2.532701 | 0.2262202 | 3.000000 | 2.698970 | 2.04575749 | 2.6989700 | NagySzakalD_2017_101   | 0.0000000 |\n",
       "| 4 | 11  | 4.223416 | 0.3986592 | 2.698970 | 2.397940 | 2.09691001 | 2.5228787 | ChngKR_2016_11         | 0.1249387 |\n",
       "| 5 | 15  | 4.029124 | 0.3708135 | 1.387216 | 3.000000 | 0.04048162 | 0.8013429 | DavidLA_2015_15        | 2.1986571 |\n",
       "\n"
      ],
      "text/plain": [
       "  Project Delta_PS_Unmatched Delta_PS_Matched ANOSIM_Unmatched\n",
       "0 08      2.895914           8.8484643        1.698970        \n",
       "1 09      2.617320           0.2682587        2.698970        \n",
       "2 100     1.722361           0.1008739        2.301030        \n",
       "3 101     2.532701           0.2262202        3.000000        \n",
       "4 11      4.223416           0.3986592        2.698970        \n",
       "5 15      4.029124           0.3708135        1.387216        \n",
       "  PERMANOVA_Unmatched ANOSIM_Matched PERMANOVA_Matched id                    \n",
       "0 3.000000            1.39794001     2.5228787         BrooksB_2017_08       \n",
       "1 3.000000            1.46852108     1.3279021         Castro-NallarE_2015_09\n",
       "2 1.677781            1.56863624     1.3665315         ZhuF_2020_100         \n",
       "3 2.698970            2.04575749     2.6989700         NagySzakalD_2017_101  \n",
       "4 2.397940            2.09691001     2.5228787         ChngKR_2016_11        \n",
       "5 3.000000            0.04048162     0.8013429         DavidLA_2015_15       \n",
       "  cha      \n",
       "0 0.4771213\n",
       "1 1.6720979\n",
       "2 0.3112492\n",
       "3 0.0000000\n",
       "4 0.1249387\n",
       "5 2.1986571"
      ]
     },
     "metadata": {},
     "output_type": "display_data"
    }
   ],
   "source": [
    "beta<-read.csv(\"./Results/Results2/3. Beta_diversity_braycurtis.csv\",row.names = 1)\n",
    "ldata<-join(beta,pair,match=\"first\")\n",
    "ldata$id<-paste(ldata$study_name,ldata$Project,sep=\"_\")\n",
    "beta$id=ldata$id\n",
    "beta$cha=abs(beta$PERMANOVA_Matched-beta$PERMANOVA_Unmatched)\n",
    "head(beta)\n"
   ]
  },
  {
   "cell_type": "code",
   "execution_count": 15,
   "id": "06c67648",
   "metadata": {},
   "outputs": [
    {
     "data": {
      "text/html": [
       "<strong>png:</strong> 2"
      ],
      "text/latex": [
       "\\textbf{png:} 2"
      ],
      "text/markdown": [
       "**png:** 2"
      ],
      "text/plain": [
       "png \n",
       "  2 "
      ]
     },
     "metadata": {},
     "output_type": "display_data"
    },
    {
     "data": {
      "image/png": "[encoded data removed]",
      "text/plain": [
       "plot without title"
      ]
     },
     "metadata": {
      "image/png": {
       "height": 420,
       "width": 420
      }
     },
     "output_type": "display_data"
    }
   ],
   "source": [
    "pb<-ggplot(beta) +\n",
    "      geom_segment(aes(x=reorder(id,cha), xend=reorder(id,cha),y=PERMANOVA_Unmatched,yend=PERMANOVA_Matched),\n",
    "                   color=\"grey\",size=1.5) +\n",
    "      geom_point(aes(x=id, y=PERMANOVA_Unmatched),color=\"#E71F19\",size=3) +\n",
    "      geom_point(aes(x=id, y=PERMANOVA_Matched),color=\"#106AB2\",size=3) +\n",
    "      theme_light()+theme(panel.grid.major.x=element_blank(),\n",
    "                          axis.ticks.x=element_blank())+\n",
    "      xlab(\"\")+\n",
    "      ylab(\"Beta-diversity difference between matched and unmatched studies\")+\n",
    "      coord_flip()\n",
    "pb\n",
    "#pdf(\"./Results/Results2/5.2 BetaChanges_study.pdf\",width =8,height =10)\n",
    "#pb\n",
    "#dev.off()"
   ]
  },
  {
   "cell_type": "code",
   "execution_count": 8,
   "id": "3ea73fb9",
   "metadata": {},
   "outputs": [
    {
     "name": "stderr",
     "output_type": "stream",
     "text": [
      "Joining by: case\n",
      "\n"
     ]
    },
    {
     "data": {
      "text/html": [
       "<strong>png:</strong> 2"
      ],
      "text/latex": [
       "\\textbf{png:} 2"
      ],
      "text/markdown": [
       "**png:** 2"
      ],
      "text/plain": [
       "png \n",
       "  2 "
      ]
     },
     "metadata": {},
     "output_type": "display_data"
    },
    {
     "data": {
      "image/png": "[encoded data removed]",
      "text/plain": [
       "plot without title"
      ]
     },
     "metadata": {
      "image/png": {
       "height": 420,
       "width": 420
      }
     },
     "output_type": "display_data"
    }
   ],
   "source": [
    "data<-ldata[which(ldata$condition1==\"control\"),]\n",
    "data1<-aggregate(data$PERMANOVA_Unmatched,\n",
    "                 by=list(data$condition2),\n",
    "                 mean)\n",
    "colnames(data1)<-c(\"case\",\"PERMANOVA_Unmatched\")\n",
    "data2<-aggregate(data$PERMANOVA_Matched,\n",
    "                 by=list(data$condition2),\n",
    "                 mean)\n",
    "colnames(data2)<-c(\"case\",\"PERMANOVA_Matched\")\n",
    "data3<-join(data1,data2,match=\"first\")\n",
    "data3$cha<-data3$PERMANOVA_Unmatched-data3$PERMANOVA_Matched\n",
    "data3<-data3[order(data3$PERMANOVA_Unmatched,decreasing = T),]\n",
    "pbc<-ggplot(data3) +\n",
    "      geom_segment(aes(x=reorder(case,cha), xend=reorder(case,cha),y=PERMANOVA_Unmatched,yend=PERMANOVA_Matched),\n",
    "                   color=\"grey\",size=1.5) +\n",
    "      geom_point(aes(x=case, y=PERMANOVA_Unmatched),color=\"#E71F19\",size=3) +\n",
    "      geom_point(aes(x=case, y=PERMANOVA_Matched),color=\"#106AB2\",size=3) +\n",
    "      theme_light()+theme(panel.grid.major.x=element_blank(),\n",
    "                          axis.ticks.x=element_blank())+\n",
    "      xlab(\"\")+\n",
    "      ylab(\"Magnitude of microbiota difference between cases and controls(PERMANOVA F statistic)\")+\n",
    "      coord_flip()\n",
    "pbc\n",
    "#pdf(\"./Results/Results2/5.2 BetaChanges_case.pdf\",width =6,height =6)\n",
    "#pbc\n",
    "#dev.off()"
   ]
  },
  {
   "cell_type": "markdown",
   "id": "ccb7c4e7",
   "metadata": {},
   "source": [
    "# propensity score"
   ]
  },
  {
   "cell_type": "code",
   "execution_count": 10,
   "id": "bf0fcbd6",
   "metadata": {},
   "outputs": [
    {
     "name": "stderr",
     "output_type": "stream",
     "text": [
      "Joining by: Project\n",
      "\n"
     ]
    },
    {
     "data": {
      "text/html": [
       "<table class=\"dataframe\">\n",
       "<caption>A data.frame: 6 × 11</caption>\n",
       "<thead>\n",
       "\t<tr><th></th><th scope=col>Project</th><th scope=col>Control</th><th scope=col>Case</th><th scope=col>Control_matched</th><th scope=col>Case_matched</th><th scope=col>Delta_Unmatched</th><th scope=col>Delta_Matched</th><th scope=col>study_name</th><th scope=col>body_site</th><th scope=col>condition1</th><th scope=col>condition2</th></tr>\n",
       "\t<tr><th></th><th scope=col>&lt;chr&gt;</th><th scope=col>&lt;dbl&gt;</th><th scope=col>&lt;dbl&gt;</th><th scope=col>&lt;dbl&gt;</th><th scope=col>&lt;dbl&gt;</th><th scope=col>&lt;dbl&gt;</th><th scope=col>&lt;dbl&gt;</th><th scope=col>&lt;chr&gt;</th><th scope=col>&lt;chr&gt;</th><th scope=col>&lt;chr&gt;</th><th scope=col>&lt;chr&gt;</th></tr>\n",
       "</thead>\n",
       "<tbody>\n",
       "\t<tr><th scope=row>0</th><td>08 </td><td>0.9383934</td><td>0.9883574</td><td>0.9831757</td><td>0.9837481</td><td>0.04996404</td><td>5.724311e-04</td><td>BrooksB_2017       </td><td>stool     </td><td>control</td><td>premature_born </td></tr>\n",
       "\t<tr><th scope=row>1</th><td>09 </td><td>0.3739333</td><td>0.6260667</td><td>0.6275060</td><td>0.6316325</td><td>0.25213333</td><td>4.126448e-03</td><td>Castro-NallarE_2015</td><td>oralcavity</td><td>control</td><td>schizofrenia   </td></tr>\n",
       "\t<tr><th scope=row>2</th><td>100</td><td>0.5050294</td><td>0.5454735</td><td>0.5319997</td><td>0.5320483</td><td>0.04044416</td><td>4.857716e-05</td><td>ZhuF_2020          </td><td>stool     </td><td>control</td><td>schizofrenia   </td></tr>\n",
       "\t<tr><th scope=row>3</th><td>101</td><td>0.4606407</td><td>0.5393593</td><td>0.5203611</td><td>0.5200119</td><td>0.07871866</td><td>3.491400e-04</td><td>NagySzakalD_2017   </td><td>stool     </td><td>control</td><td>ME/CFS         </td></tr>\n",
       "\t<tr><th scope=row>4</th><td>11 </td><td>0.3845975</td><td>0.5951605</td><td>0.5504041</td><td>0.5528642</td><td>0.21056301</td><td>2.460071e-03</td><td>ChngKR_2016        </td><td>skin      </td><td>control</td><td>AD             </td></tr>\n",
       "\t<tr><th scope=row>5</th><td>15 </td><td>0.4200254</td><td>0.9005203</td><td>0.7807039</td><td>0.7843873</td><td>0.48049494</td><td>3.683422e-03</td><td>DavidLA_2015       </td><td>stool     </td><td>control</td><td>acute_diarrhoea</td></tr>\n",
       "</tbody>\n",
       "</table>\n"
      ],
      "text/latex": [
       "A data.frame: 6 × 11\n",
       "\\begin{tabular}{r|lllllllllll}\n",
       "  & Project & Control & Case & Control\\_matched & Case\\_matched & Delta\\_Unmatched & Delta\\_Matched & study\\_name & body\\_site & condition1 & condition2\\\\\n",
       "  & <chr> & <dbl> & <dbl> & <dbl> & <dbl> & <dbl> & <dbl> & <chr> & <chr> & <chr> & <chr>\\\\\n",
       "\\hline\n",
       "\t0 & 08  & 0.9383934 & 0.9883574 & 0.9831757 & 0.9837481 & 0.04996404 & 5.724311e-04 & BrooksB\\_2017        & stool      & control & premature\\_born \\\\\n",
       "\t1 & 09  & 0.3739333 & 0.6260667 & 0.6275060 & 0.6316325 & 0.25213333 & 4.126448e-03 & Castro-NallarE\\_2015 & oralcavity & control & schizofrenia   \\\\\n",
       "\t2 & 100 & 0.5050294 & 0.5454735 & 0.5319997 & 0.5320483 & 0.04044416 & 4.857716e-05 & ZhuF\\_2020           & stool      & control & schizofrenia   \\\\\n",
       "\t3 & 101 & 0.4606407 & 0.5393593 & 0.5203611 & 0.5200119 & 0.07871866 & 3.491400e-04 & NagySzakalD\\_2017    & stool      & control & ME/CFS         \\\\\n",
       "\t4 & 11  & 0.3845975 & 0.5951605 & 0.5504041 & 0.5528642 & 0.21056301 & 2.460071e-03 & ChngKR\\_2016         & skin       & control & AD             \\\\\n",
       "\t5 & 15  & 0.4200254 & 0.9005203 & 0.7807039 & 0.7843873 & 0.48049494 & 3.683422e-03 & DavidLA\\_2015        & stool      & control & acute\\_diarrhoea\\\\\n",
       "\\end{tabular}\n"
      ],
      "text/markdown": [
       "\n",
       "A data.frame: 6 × 11\n",
       "\n",
       "| <!--/--> | Project &lt;chr&gt; | Control &lt;dbl&gt; | Case &lt;dbl&gt; | Control_matched &lt;dbl&gt; | Case_matched &lt;dbl&gt; | Delta_Unmatched &lt;dbl&gt; | Delta_Matched &lt;dbl&gt; | study_name &lt;chr&gt; | body_site &lt;chr&gt; | condition1 &lt;chr&gt; | condition2 &lt;chr&gt; |\n",
       "|---|---|---|---|---|---|---|---|---|---|---|---|\n",
       "| 0 | 08  | 0.9383934 | 0.9883574 | 0.9831757 | 0.9837481 | 0.04996404 | 5.724311e-04 | BrooksB_2017        | stool      | control | premature_born  |\n",
       "| 1 | 09  | 0.3739333 | 0.6260667 | 0.6275060 | 0.6316325 | 0.25213333 | 4.126448e-03 | Castro-NallarE_2015 | oralcavity | control | schizofrenia    |\n",
       "| 2 | 100 | 0.5050294 | 0.5454735 | 0.5319997 | 0.5320483 | 0.04044416 | 4.857716e-05 | ZhuF_2020           | stool      | control | schizofrenia    |\n",
       "| 3 | 101 | 0.4606407 | 0.5393593 | 0.5203611 | 0.5200119 | 0.07871866 | 3.491400e-04 | NagySzakalD_2017    | stool      | control | ME/CFS          |\n",
       "| 4 | 11  | 0.3845975 | 0.5951605 | 0.5504041 | 0.5528642 | 0.21056301 | 2.460071e-03 | ChngKR_2016         | skin       | control | AD              |\n",
       "| 5 | 15  | 0.4200254 | 0.9005203 | 0.7807039 | 0.7843873 | 0.48049494 | 3.683422e-03 | DavidLA_2015        | stool      | control | acute_diarrhoea |\n",
       "\n"
      ],
      "text/plain": [
       "  Project Control   Case      Control_matched Case_matched Delta_Unmatched\n",
       "0 08      0.9383934 0.9883574 0.9831757       0.9837481    0.04996404     \n",
       "1 09      0.3739333 0.6260667 0.6275060       0.6316325    0.25213333     \n",
       "2 100     0.5050294 0.5454735 0.5319997       0.5320483    0.04044416     \n",
       "3 101     0.4606407 0.5393593 0.5203611       0.5200119    0.07871866     \n",
       "4 11      0.3845975 0.5951605 0.5504041       0.5528642    0.21056301     \n",
       "5 15      0.4200254 0.9005203 0.7807039       0.7843873    0.48049494     \n",
       "  Delta_Matched study_name          body_site  condition1 condition2     \n",
       "0 5.724311e-04  BrooksB_2017        stool      control    premature_born \n",
       "1 4.126448e-03  Castro-NallarE_2015 oralcavity control    schizofrenia   \n",
       "2 4.857716e-05  ZhuF_2020           stool      control    schizofrenia   \n",
       "3 3.491400e-04  NagySzakalD_2017    stool      control    ME/CFS         \n",
       "4 2.460071e-03  ChngKR_2016         skin       control    AD             \n",
       "5 3.683422e-03  DavidLA_2015        stool      control    acute_diarrhoea"
      ]
     },
     "metadata": {},
     "output_type": "display_data"
    }
   ],
   "source": [
    "psm<-read.csv(\"./Results/Results2/2.PSMdata.csv\",row.names = 1)\n",
    "pair<-read.csv(\"./Label/fenzu.csv\")\n",
    "colnames(pair)<-c(\"Project\",\"study_name\",\"body_site\",\"condition1\",\"condition2\")\n",
    "\n",
    "data<-join(psm,pair,match=\"first\")\n",
    "data<-data[which(data$condition1==\"control\"),]\n",
    "head(data)"
   ]
  },
  {
   "cell_type": "code",
   "execution_count": 11,
   "id": "caa2bc0b",
   "metadata": {},
   "outputs": [
    {
     "name": "stderr",
     "output_type": "stream",
     "text": [
      "Joining by: case\n",
      "\n"
     ]
    },
    {
     "data": {
      "text/html": [
       "<strong>png:</strong> 2"
      ],
      "text/latex": [
       "\\textbf{png:} 2"
      ],
      "text/markdown": [
       "**png:** 2"
      ],
      "text/plain": [
       "png \n",
       "  2 "
      ]
     },
     "metadata": {},
     "output_type": "display_data"
    },
    {
     "data": {
      "image/png": "[encoded data removed]",
      "text/plain": [
       "plot without title"
      ]
     },
     "metadata": {
      "image/png": {
       "height": 420,
       "width": 420
      }
     },
     "output_type": "display_data"
    }
   ],
   "source": [
    "data1<-aggregate(data$Delta_Unmatched,\n",
    "                 by=list(data$condition2),\n",
    "                 mean)\n",
    "colnames(data1)<-c(\"case\",\"Delta_Unmatched\")\n",
    "data2<-aggregate(data$Delta_Matched,\n",
    "                 by=list(data$condition2),\n",
    "                 mean)\n",
    "colnames(data2)<-c(\"case\",\"Delta_Matched\")\n",
    "data3<-join(data1,data2,match=\"first\")\n",
    "data3$cha<-data3$Delta_Unmatched-data3$Delta_Matched\n",
    "\n",
    "ppsm<-ggplot(data3) +\n",
    "      geom_segment(aes(x=reorder(case,cha), xend=reorder(case,cha),\n",
    "                       y=Delta_Unmatched,yend=Delta_Matched),color=\"grey\",size=1.5) +\n",
    "      geom_point(aes(x=case, y=Delta_Unmatched),color=\"#E71F19\",size=3) +\n",
    "      geom_point(aes(x=case, y=Delta_Matched),color=\"#106AB2\",size=3) +\n",
    "      theme_light()+theme(axis.ticks.x=element_blank())+\n",
    "      xlab(\"\")+\n",
    "      ylab(\"Propensity score matching\")+coord_flip()\n",
    "ppsm\n",
    "pdf(\"./Results/Results2/5.3 PSMChanges_case.pdf\",width =6,height =6)\n",
    "ppsm\n",
    "dev.off()"
   ]
  },
  {
   "cell_type": "code",
   "execution_count": null,
   "id": "0d439f31",
   "metadata": {},
   "outputs": [],
   "source": []
  },
  {
   "cell_type": "code",
   "execution_count": null,
   "id": "9a5427b1",
   "metadata": {},
   "outputs": [],
   "source": []
  },
  {
   "cell_type": "code",
   "execution_count": null,
   "id": "82f196fb",
   "metadata": {},
   "outputs": [],
   "source": []
  }
 ],
 "metadata": {
  "kernelspec": {
   "display_name": "R",
   "language": "R",
   "name": "ir"
  },
  "language_info": {
   "codemirror_mode": "r",
   "file_extension": ".r",
   "mimetype": "text/x-r-source",
   "name": "R",
   "pygments_lexer": "r",
   "version": "4.1.3"
  }
 },
 "nbformat": 4,
 "nbformat_minor": 5
}
