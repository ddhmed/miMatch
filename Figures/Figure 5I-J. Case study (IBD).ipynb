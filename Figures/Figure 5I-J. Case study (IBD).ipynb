{
 "cells": [
  {
   "cell_type": "code",
   "execution_count": 1,
   "id": "d73c056b",
   "metadata": {
    "collapsed": true
   },
   "outputs": [
    {
     "name": "stderr",
     "output_type": "stream",
     "text": [
      "\n",
      "Attaching package: 'ggpubr'\n",
      "\n",
      "\n",
      "The following object is masked from 'package:plyr':\n",
      "\n",
      "    mutate\n",
      "\n",
      "\n",
      "Warning message:\n",
      "\"package 'dplyr' was built under R version 4.3.2\"\n",
      "Warning message:\n",
      "\"package 'stringr' was built under R version 4.3.2\"\n",
      "── \u001b[1mAttaching core tidyverse packages\u001b[22m ──────────────────────── tidyverse 2.0.0 ──\n",
      "\u001b[32m✔\u001b[39m \u001b[34mdplyr    \u001b[39m 1.1.4     \u001b[32m✔\u001b[39m \u001b[34mreadr    \u001b[39m 2.1.4\n",
      "\u001b[32m✔\u001b[39m \u001b[34mforcats  \u001b[39m 1.0.0     \u001b[32m✔\u001b[39m \u001b[34mstringr  \u001b[39m 1.5.1\n",
      "\u001b[32m✔\u001b[39m \u001b[34mlubridate\u001b[39m 1.9.3     \u001b[32m✔\u001b[39m \u001b[34mtibble   \u001b[39m 3.2.1\n",
      "\u001b[32m✔\u001b[39m \u001b[34mpurrr    \u001b[39m 1.0.2     \u001b[32m✔\u001b[39m \u001b[34mtidyr    \u001b[39m 1.3.0\n",
      "── \u001b[1mConflicts\u001b[22m ────────────────────────────────────────── tidyverse_conflicts() ──\n",
      "\u001b[31m✖\u001b[39m \u001b[34mdplyr\u001b[39m::\u001b[32marrange()\u001b[39m   masks \u001b[34mplyr\u001b[39m::arrange()\n",
      "\u001b[31m✖\u001b[39m \u001b[34mpurrr\u001b[39m::\u001b[32mcompact()\u001b[39m   masks \u001b[34mplyr\u001b[39m::compact()\n",
      "\u001b[31m✖\u001b[39m \u001b[34mdplyr\u001b[39m::\u001b[32mcount()\u001b[39m     masks \u001b[34mplyr\u001b[39m::count()\n",
      "\u001b[31m✖\u001b[39m \u001b[34mdplyr\u001b[39m::\u001b[32mdesc()\u001b[39m      masks \u001b[34mplyr\u001b[39m::desc()\n",
      "\u001b[31m✖\u001b[39m \u001b[34mdplyr\u001b[39m::\u001b[32mfailwith()\u001b[39m  masks \u001b[34mplyr\u001b[39m::failwith()\n",
      "\u001b[31m✖\u001b[39m \u001b[34mdplyr\u001b[39m::\u001b[32mfilter()\u001b[39m    masks \u001b[34mstats\u001b[39m::filter()\n",
      "\u001b[31m✖\u001b[39m \u001b[34mdplyr\u001b[39m::\u001b[32mid()\u001b[39m        masks \u001b[34mplyr\u001b[39m::id()\n",
      "\u001b[31m✖\u001b[39m \u001b[34mdplyr\u001b[39m::\u001b[32mlag()\u001b[39m       masks \u001b[34mstats\u001b[39m::lag()\n",
      "\u001b[31m✖\u001b[39m \u001b[34mdplyr\u001b[39m::\u001b[32mmutate()\u001b[39m    masks \u001b[34mggpubr\u001b[39m::mutate(), \u001b[34mplyr\u001b[39m::mutate()\n",
      "\u001b[31m✖\u001b[39m \u001b[34mdplyr\u001b[39m::\u001b[32mrename()\u001b[39m    masks \u001b[34mplyr\u001b[39m::rename()\n",
      "\u001b[31m✖\u001b[39m \u001b[34mdplyr\u001b[39m::\u001b[32msummarise()\u001b[39m masks \u001b[34mplyr\u001b[39m::summarise()\n",
      "\u001b[31m✖\u001b[39m \u001b[34mdplyr\u001b[39m::\u001b[32msummarize()\u001b[39m masks \u001b[34mplyr\u001b[39m::summarize()\n",
      "\u001b[36mℹ\u001b[39m Use the conflicted package (\u001b[3m\u001b[34m<http://conflicted.r-lib.org/>\u001b[39m\u001b[23m) to force all conflicts to become errors\n",
      "\n",
      "Attaching package: 'reshape2'\n",
      "\n",
      "\n",
      "The following object is masked from 'package:tidyr':\n",
      "\n",
      "    smiths\n",
      "\n",
      "\n",
      "Loading required package: grid\n",
      "\n",
      "Loading required package: futile.logger\n",
      "\n",
      "\n",
      "Attaching package: 'VennDiagram'\n",
      "\n",
      "\n",
      "The following object is masked from 'package:ggpubr':\n",
      "\n",
      "    rotate\n",
      "\n",
      "\n"
     ]
    }
   ],
   "source": [
    "setwd('E:/notebook/miMatch')\n",
    "library(plyr) \n",
    "library(ggplot2)\n",
    "library(ggpubr)\n",
    "library(tidyverse)\n",
    "library(dplyr)\n",
    "library(reshape2)\n",
    "library(VennDiagram)\n",
    "library(RColorBrewer)\n",
    "library(pheatmap)\n",
    "library(repr)\n",
    "library(readxl)\n",
    "library(xlsx)"
   ]
  },
  {
   "cell_type": "markdown",
   "id": "00de6098",
   "metadata": {},
   "source": [
    "## Figure 5I Venn"
   ]
  },
  {
   "cell_type": "code",
   "execution_count": 2,
   "id": "136311f2",
   "metadata": {
    "scrolled": true
   },
   "outputs": [
    {
     "data": {
      "text/html": [
       "<table class=\"dataframe\">\n",
       "<caption>A data.frame: 6 × 842</caption>\n",
       "<thead>\n",
       "\t<tr><th></th><th scope=col>k__Bacteria.p__Firmicutes.c__Clostridia.o__Clostridiales.f__Ruminococcaceae.g__Faecalibacterium.s__Faecalibacterium_prausnitzii</th><th scope=col>k__Bacteria.p__Bacteroidetes.c__Bacteroidia.o__Bacteroidales.f__Bacteroidaceae.g__Bacteroides.s__Bacteroides_uniformis</th><th scope=col>k__Bacteria.p__Firmicutes.c__Clostridia.o__Clostridiales.f__Lachnospiraceae.g__Roseburia.s__Roseburia_hominis</th><th scope=col>k__Bacteria.p__Bacteroidetes.c__Bacteroidia.o__Bacteroidales.f__Rikenellaceae.g__Alistipes.s__Alistipes_putredinis</th><th scope=col>k__Bacteria.p__Firmicutes.c__Clostridia.o__Clostridiales.f__Lachnospiraceae.g__Lachnospiraceae_unclassified.s__Eubacterium_rectale</th><th scope=col>k__Bacteria.p__Bacteroidetes.c__Bacteroidia.o__Bacteroidales.f__Bacteroidaceae.g__Bacteroides.s__Bacteroides_dorei</th><th scope=col>k__Bacteria.p__Firmicutes.c__Clostridia.o__Clostridiales.f__Lachnospiraceae.g__Fusicatenibacter.s__Fusicatenibacter_saccharivorans</th><th scope=col>k__Bacteria.p__Firmicutes.c__Clostridia.o__Clostridiales.f__Lachnospiraceae.g__Blautia.s__Ruminococcus_gnavus</th><th scope=col>k__Bacteria.p__Firmicutes.c__Clostridia.o__Clostridiales.f__Ruminococcaceae.g__Agathobaculum.s__Agathobaculum_butyriciproducens</th><th scope=col>k__Bacteria.p__Firmicutes.c__Clostridia.o__Clostridiales.f__Lachnospiraceae.g__Dorea.s__Dorea_longicatena</th><th scope=col>⋯</th><th scope=col>k__Bacteria.p__Firmicutes.c__Clostridia.o__Clostridiales.f__Peptostreptococcaceae.g__Paraclostridium.s__Paraclostridium_bifermentans</th><th scope=col>k__Bacteria.p__Firmicutes.c__Bacilli.o__Lactobacillales.f__Enterococcaceae.g__Vagococcus.s__Vagococcus_lutrae</th><th scope=col>k__Bacteria.p__Firmicutes.c__Bacilli.o__Lactobacillales.f__Enterococcaceae.g__Enterococcus.s__Enterococcus_cecorum</th><th scope=col>k__Bacteria.p__Proteobacteria.c__Gammaproteobacteria.o__Enterobacterales.f__Enterobacteriaceae.g__Citrobacter.s__Citrobacter_sp_MGH106</th><th scope=col>k__Bacteria.p__Firmicutes.c__Tissierellia.o__Tissierellales.f__Peptoniphilaceae.g__Peptoniphilus.s__Peptoniphilus_grossensis</th><th scope=col>k__Bacteria.p__Tenericutes.c__Mollicutes.o__Mycoplasmatales.f__Mycoplasmataceae.g__Mycoplasma.s__Mycoplasma_hominis</th><th scope=col>k__Bacteria.p__Fusobacteria.c__Fusobacteriia.o__Fusobacteriales.f__Fusobacteriaceae.g__Fusobacterium.s__Fusobacterium_hwasookii</th><th scope=col>k__Bacteria.p__Firmicutes.c__Tissierellia.o__Tissierellales.f__Peptoniphilaceae.g__Peptoniphilus.s__Peptoniphilus_sp_DNF00840</th><th scope=col>k__Bacteria.p__Firmicutes.c__Bacilli.o__Lactobacillales.f__Streptococcaceae.g__Streptococcus.s__Streptococcus_sp_HMSC034E03</th><th scope=col>k__Bacteria.p__Proteobacteria.c__Gammaproteobacteria.o__Enterobacterales.f__Enterobacteriaceae.g__Citrobacter.s__Citrobacter_gillenii</th></tr>\n",
       "\t<tr><th></th><th scope=col>&lt;dbl&gt;</th><th scope=col>&lt;dbl&gt;</th><th scope=col>&lt;dbl&gt;</th><th scope=col>&lt;dbl&gt;</th><th scope=col>&lt;dbl&gt;</th><th scope=col>&lt;dbl&gt;</th><th scope=col>&lt;dbl&gt;</th><th scope=col>&lt;dbl&gt;</th><th scope=col>&lt;dbl&gt;</th><th scope=col>&lt;dbl&gt;</th><th scope=col>⋯</th><th scope=col>&lt;dbl&gt;</th><th scope=col>&lt;dbl&gt;</th><th scope=col>&lt;dbl&gt;</th><th scope=col>&lt;dbl&gt;</th><th scope=col>&lt;dbl&gt;</th><th scope=col>&lt;dbl&gt;</th><th scope=col>&lt;dbl&gt;</th><th scope=col>&lt;dbl&gt;</th><th scope=col>&lt;dbl&gt;</th><th scope=col>&lt;dbl&gt;</th></tr>\n",
       "</thead>\n",
       "<tbody>\n",
       "\t<tr><th scope=row>SKST006_6_G102964</th><td>0</td><td>0</td><td>0</td><td>0</td><td>0</td><td>0</td><td>0</td><td>0</td><td>0</td><td>0</td><td>⋯</td><td>NA</td><td>NA</td><td>NA</td><td>NA</td><td>NA</td><td>NA</td><td>NA</td><td>NA</td><td>NA</td><td>NA</td></tr>\n",
       "\t<tr><th scope=row>SKST006_7_G102965</th><td>0</td><td>0</td><td>0</td><td>0</td><td>0</td><td>0</td><td>0</td><td>0</td><td>0</td><td>0</td><td>⋯</td><td>NA</td><td>NA</td><td>NA</td><td>NA</td><td>NA</td><td>NA</td><td>NA</td><td>NA</td><td>NA</td><td>NA</td></tr>\n",
       "\t<tr><th scope=row>SKST006_4_G102962</th><td>0</td><td>0</td><td>0</td><td>0</td><td>0</td><td>0</td><td>0</td><td>0</td><td>0</td><td>0</td><td>⋯</td><td>NA</td><td>NA</td><td>NA</td><td>NA</td><td>NA</td><td>NA</td><td>NA</td><td>NA</td><td>NA</td><td>NA</td></tr>\n",
       "\t<tr><th scope=row>SKST006_5_G102963</th><td>0</td><td>0</td><td>0</td><td>0</td><td>0</td><td>0</td><td>0</td><td>0</td><td>0</td><td>0</td><td>⋯</td><td>NA</td><td>NA</td><td>NA</td><td>NA</td><td>NA</td><td>NA</td><td>NA</td><td>NA</td><td>NA</td><td>NA</td></tr>\n",
       "\t<tr><th scope=row>SKST006_2_G102960</th><td>0</td><td>0</td><td>0</td><td>0</td><td>0</td><td>0</td><td>0</td><td>0</td><td>0</td><td>0</td><td>⋯</td><td>NA</td><td>NA</td><td>NA</td><td>NA</td><td>NA</td><td>NA</td><td>NA</td><td>NA</td><td>NA</td><td>NA</td></tr>\n",
       "\t<tr><th scope=row>SKST006_3_G102961</th><td>0</td><td>0</td><td>0</td><td>0</td><td>0</td><td>0</td><td>0</td><td>0</td><td>0</td><td>0</td><td>⋯</td><td>NA</td><td>NA</td><td>NA</td><td>NA</td><td>NA</td><td>NA</td><td>NA</td><td>NA</td><td>NA</td><td>NA</td></tr>\n",
       "</tbody>\n",
       "</table>\n"
      ],
      "text/latex": [
       "A data.frame: 6 × 842\n",
       "\\begin{tabular}{r|lllllllllllllllllllll}\n",
       "  & k\\_\\_Bacteria.p\\_\\_Firmicutes.c\\_\\_Clostridia.o\\_\\_Clostridiales.f\\_\\_Ruminococcaceae.g\\_\\_Faecalibacterium.s\\_\\_Faecalibacterium\\_prausnitzii & k\\_\\_Bacteria.p\\_\\_Bacteroidetes.c\\_\\_Bacteroidia.o\\_\\_Bacteroidales.f\\_\\_Bacteroidaceae.g\\_\\_Bacteroides.s\\_\\_Bacteroides\\_uniformis & k\\_\\_Bacteria.p\\_\\_Firmicutes.c\\_\\_Clostridia.o\\_\\_Clostridiales.f\\_\\_Lachnospiraceae.g\\_\\_Roseburia.s\\_\\_Roseburia\\_hominis & k\\_\\_Bacteria.p\\_\\_Bacteroidetes.c\\_\\_Bacteroidia.o\\_\\_Bacteroidales.f\\_\\_Rikenellaceae.g\\_\\_Alistipes.s\\_\\_Alistipes\\_putredinis & k\\_\\_Bacteria.p\\_\\_Firmicutes.c\\_\\_Clostridia.o\\_\\_Clostridiales.f\\_\\_Lachnospiraceae.g\\_\\_Lachnospiraceae\\_unclassified.s\\_\\_Eubacterium\\_rectale & k\\_\\_Bacteria.p\\_\\_Bacteroidetes.c\\_\\_Bacteroidia.o\\_\\_Bacteroidales.f\\_\\_Bacteroidaceae.g\\_\\_Bacteroides.s\\_\\_Bacteroides\\_dorei & k\\_\\_Bacteria.p\\_\\_Firmicutes.c\\_\\_Clostridia.o\\_\\_Clostridiales.f\\_\\_Lachnospiraceae.g\\_\\_Fusicatenibacter.s\\_\\_Fusicatenibacter\\_saccharivorans & k\\_\\_Bacteria.p\\_\\_Firmicutes.c\\_\\_Clostridia.o\\_\\_Clostridiales.f\\_\\_Lachnospiraceae.g\\_\\_Blautia.s\\_\\_Ruminococcus\\_gnavus & k\\_\\_Bacteria.p\\_\\_Firmicutes.c\\_\\_Clostridia.o\\_\\_Clostridiales.f\\_\\_Ruminococcaceae.g\\_\\_Agathobaculum.s\\_\\_Agathobaculum\\_butyriciproducens & k\\_\\_Bacteria.p\\_\\_Firmicutes.c\\_\\_Clostridia.o\\_\\_Clostridiales.f\\_\\_Lachnospiraceae.g\\_\\_Dorea.s\\_\\_Dorea\\_longicatena & ⋯ & k\\_\\_Bacteria.p\\_\\_Firmicutes.c\\_\\_Clostridia.o\\_\\_Clostridiales.f\\_\\_Peptostreptococcaceae.g\\_\\_Paraclostridium.s\\_\\_Paraclostridium\\_bifermentans & k\\_\\_Bacteria.p\\_\\_Firmicutes.c\\_\\_Bacilli.o\\_\\_Lactobacillales.f\\_\\_Enterococcaceae.g\\_\\_Vagococcus.s\\_\\_Vagococcus\\_lutrae & k\\_\\_Bacteria.p\\_\\_Firmicutes.c\\_\\_Bacilli.o\\_\\_Lactobacillales.f\\_\\_Enterococcaceae.g\\_\\_Enterococcus.s\\_\\_Enterococcus\\_cecorum & k\\_\\_Bacteria.p\\_\\_Proteobacteria.c\\_\\_Gammaproteobacteria.o\\_\\_Enterobacterales.f\\_\\_Enterobacteriaceae.g\\_\\_Citrobacter.s\\_\\_Citrobacter\\_sp\\_MGH106 & k\\_\\_Bacteria.p\\_\\_Firmicutes.c\\_\\_Tissierellia.o\\_\\_Tissierellales.f\\_\\_Peptoniphilaceae.g\\_\\_Peptoniphilus.s\\_\\_Peptoniphilus\\_grossensis & k\\_\\_Bacteria.p\\_\\_Tenericutes.c\\_\\_Mollicutes.o\\_\\_Mycoplasmatales.f\\_\\_Mycoplasmataceae.g\\_\\_Mycoplasma.s\\_\\_Mycoplasma\\_hominis & k\\_\\_Bacteria.p\\_\\_Fusobacteria.c\\_\\_Fusobacteriia.o\\_\\_Fusobacteriales.f\\_\\_Fusobacteriaceae.g\\_\\_Fusobacterium.s\\_\\_Fusobacterium\\_hwasookii & k\\_\\_Bacteria.p\\_\\_Firmicutes.c\\_\\_Tissierellia.o\\_\\_Tissierellales.f\\_\\_Peptoniphilaceae.g\\_\\_Peptoniphilus.s\\_\\_Peptoniphilus\\_sp\\_DNF00840 & k\\_\\_Bacteria.p\\_\\_Firmicutes.c\\_\\_Bacilli.o\\_\\_Lactobacillales.f\\_\\_Streptococcaceae.g\\_\\_Streptococcus.s\\_\\_Streptococcus\\_sp\\_HMSC034E03 & k\\_\\_Bacteria.p\\_\\_Proteobacteria.c\\_\\_Gammaproteobacteria.o\\_\\_Enterobacterales.f\\_\\_Enterobacteriaceae.g\\_\\_Citrobacter.s\\_\\_Citrobacter\\_gillenii\\\\\n",
       "  & <dbl> & <dbl> & <dbl> & <dbl> & <dbl> & <dbl> & <dbl> & <dbl> & <dbl> & <dbl> & ⋯ & <dbl> & <dbl> & <dbl> & <dbl> & <dbl> & <dbl> & <dbl> & <dbl> & <dbl> & <dbl>\\\\\n",
       "\\hline\n",
       "\tSKST006\\_6\\_G102964 & 0 & 0 & 0 & 0 & 0 & 0 & 0 & 0 & 0 & 0 & ⋯ & NA & NA & NA & NA & NA & NA & NA & NA & NA & NA\\\\\n",
       "\tSKST006\\_7\\_G102965 & 0 & 0 & 0 & 0 & 0 & 0 & 0 & 0 & 0 & 0 & ⋯ & NA & NA & NA & NA & NA & NA & NA & NA & NA & NA\\\\\n",
       "\tSKST006\\_4\\_G102962 & 0 & 0 & 0 & 0 & 0 & 0 & 0 & 0 & 0 & 0 & ⋯ & NA & NA & NA & NA & NA & NA & NA & NA & NA & NA\\\\\n",
       "\tSKST006\\_5\\_G102963 & 0 & 0 & 0 & 0 & 0 & 0 & 0 & 0 & 0 & 0 & ⋯ & NA & NA & NA & NA & NA & NA & NA & NA & NA & NA\\\\\n",
       "\tSKST006\\_2\\_G102960 & 0 & 0 & 0 & 0 & 0 & 0 & 0 & 0 & 0 & 0 & ⋯ & NA & NA & NA & NA & NA & NA & NA & NA & NA & NA\\\\\n",
       "\tSKST006\\_3\\_G102961 & 0 & 0 & 0 & 0 & 0 & 0 & 0 & 0 & 0 & 0 & ⋯ & NA & NA & NA & NA & NA & NA & NA & NA & NA & NA\\\\\n",
       "\\end{tabular}\n"
      ],
      "text/markdown": [
       "\n",
       "A data.frame: 6 × 842\n",
       "\n",
       "| <!--/--> | k__Bacteria.p__Firmicutes.c__Clostridia.o__Clostridiales.f__Ruminococcaceae.g__Faecalibacterium.s__Faecalibacterium_prausnitzii &lt;dbl&gt; | k__Bacteria.p__Bacteroidetes.c__Bacteroidia.o__Bacteroidales.f__Bacteroidaceae.g__Bacteroides.s__Bacteroides_uniformis &lt;dbl&gt; | k__Bacteria.p__Firmicutes.c__Clostridia.o__Clostridiales.f__Lachnospiraceae.g__Roseburia.s__Roseburia_hominis &lt;dbl&gt; | k__Bacteria.p__Bacteroidetes.c__Bacteroidia.o__Bacteroidales.f__Rikenellaceae.g__Alistipes.s__Alistipes_putredinis &lt;dbl&gt; | k__Bacteria.p__Firmicutes.c__Clostridia.o__Clostridiales.f__Lachnospiraceae.g__Lachnospiraceae_unclassified.s__Eubacterium_rectale &lt;dbl&gt; | k__Bacteria.p__Bacteroidetes.c__Bacteroidia.o__Bacteroidales.f__Bacteroidaceae.g__Bacteroides.s__Bacteroides_dorei &lt;dbl&gt; | k__Bacteria.p__Firmicutes.c__Clostridia.o__Clostridiales.f__Lachnospiraceae.g__Fusicatenibacter.s__Fusicatenibacter_saccharivorans &lt;dbl&gt; | k__Bacteria.p__Firmicutes.c__Clostridia.o__Clostridiales.f__Lachnospiraceae.g__Blautia.s__Ruminococcus_gnavus &lt;dbl&gt; | k__Bacteria.p__Firmicutes.c__Clostridia.o__Clostridiales.f__Ruminococcaceae.g__Agathobaculum.s__Agathobaculum_butyriciproducens &lt;dbl&gt; | k__Bacteria.p__Firmicutes.c__Clostridia.o__Clostridiales.f__Lachnospiraceae.g__Dorea.s__Dorea_longicatena &lt;dbl&gt; | ⋯ ⋯ | k__Bacteria.p__Firmicutes.c__Clostridia.o__Clostridiales.f__Peptostreptococcaceae.g__Paraclostridium.s__Paraclostridium_bifermentans &lt;dbl&gt; | k__Bacteria.p__Firmicutes.c__Bacilli.o__Lactobacillales.f__Enterococcaceae.g__Vagococcus.s__Vagococcus_lutrae &lt;dbl&gt; | k__Bacteria.p__Firmicutes.c__Bacilli.o__Lactobacillales.f__Enterococcaceae.g__Enterococcus.s__Enterococcus_cecorum &lt;dbl&gt; | k__Bacteria.p__Proteobacteria.c__Gammaproteobacteria.o__Enterobacterales.f__Enterobacteriaceae.g__Citrobacter.s__Citrobacter_sp_MGH106 &lt;dbl&gt; | k__Bacteria.p__Firmicutes.c__Tissierellia.o__Tissierellales.f__Peptoniphilaceae.g__Peptoniphilus.s__Peptoniphilus_grossensis &lt;dbl&gt; | k__Bacteria.p__Tenericutes.c__Mollicutes.o__Mycoplasmatales.f__Mycoplasmataceae.g__Mycoplasma.s__Mycoplasma_hominis &lt;dbl&gt; | k__Bacteria.p__Fusobacteria.c__Fusobacteriia.o__Fusobacteriales.f__Fusobacteriaceae.g__Fusobacterium.s__Fusobacterium_hwasookii &lt;dbl&gt; | k__Bacteria.p__Firmicutes.c__Tissierellia.o__Tissierellales.f__Peptoniphilaceae.g__Peptoniphilus.s__Peptoniphilus_sp_DNF00840 &lt;dbl&gt; | k__Bacteria.p__Firmicutes.c__Bacilli.o__Lactobacillales.f__Streptococcaceae.g__Streptococcus.s__Streptococcus_sp_HMSC034E03 &lt;dbl&gt; | k__Bacteria.p__Proteobacteria.c__Gammaproteobacteria.o__Enterobacterales.f__Enterobacteriaceae.g__Citrobacter.s__Citrobacter_gillenii &lt;dbl&gt; |\n",
       "|---|---|---|---|---|---|---|---|---|---|---|---|---|---|---|---|---|---|---|---|---|---|\n",
       "| SKST006_6_G102964 | 0 | 0 | 0 | 0 | 0 | 0 | 0 | 0 | 0 | 0 | ⋯ | NA | NA | NA | NA | NA | NA | NA | NA | NA | NA |\n",
       "| SKST006_7_G102965 | 0 | 0 | 0 | 0 | 0 | 0 | 0 | 0 | 0 | 0 | ⋯ | NA | NA | NA | NA | NA | NA | NA | NA | NA | NA |\n",
       "| SKST006_4_G102962 | 0 | 0 | 0 | 0 | 0 | 0 | 0 | 0 | 0 | 0 | ⋯ | NA | NA | NA | NA | NA | NA | NA | NA | NA | NA |\n",
       "| SKST006_5_G102963 | 0 | 0 | 0 | 0 | 0 | 0 | 0 | 0 | 0 | 0 | ⋯ | NA | NA | NA | NA | NA | NA | NA | NA | NA | NA |\n",
       "| SKST006_2_G102960 | 0 | 0 | 0 | 0 | 0 | 0 | 0 | 0 | 0 | 0 | ⋯ | NA | NA | NA | NA | NA | NA | NA | NA | NA | NA |\n",
       "| SKST006_3_G102961 | 0 | 0 | 0 | 0 | 0 | 0 | 0 | 0 | 0 | 0 | ⋯ | NA | NA | NA | NA | NA | NA | NA | NA | NA | NA |\n",
       "\n"
      ],
      "text/plain": [
       "                  k__Bacteria.p__Firmicutes.c__Clostridia.o__Clostridiales.f__Ruminococcaceae.g__Faecalibacterium.s__Faecalibacterium_prausnitzii\n",
       "SKST006_6_G102964 0                                                                                                                              \n",
       "SKST006_7_G102965 0                                                                                                                              \n",
       "SKST006_4_G102962 0                                                                                                                              \n",
       "SKST006_5_G102963 0                                                                                                                              \n",
       "SKST006_2_G102960 0                                                                                                                              \n",
       "SKST006_3_G102961 0                                                                                                                              \n",
       "                  k__Bacteria.p__Bacteroidetes.c__Bacteroidia.o__Bacteroidales.f__Bacteroidaceae.g__Bacteroides.s__Bacteroides_uniformis\n",
       "SKST006_6_G102964 0                                                                                                                     \n",
       "SKST006_7_G102965 0                                                                                                                     \n",
       "SKST006_4_G102962 0                                                                                                                     \n",
       "SKST006_5_G102963 0                                                                                                                     \n",
       "SKST006_2_G102960 0                                                                                                                     \n",
       "SKST006_3_G102961 0                                                                                                                     \n",
       "                  k__Bacteria.p__Firmicutes.c__Clostridia.o__Clostridiales.f__Lachnospiraceae.g__Roseburia.s__Roseburia_hominis\n",
       "SKST006_6_G102964 0                                                                                                            \n",
       "SKST006_7_G102965 0                                                                                                            \n",
       "SKST006_4_G102962 0                                                                                                            \n",
       "SKST006_5_G102963 0                                                                                                            \n",
       "SKST006_2_G102960 0                                                                                                            \n",
       "SKST006_3_G102961 0                                                                                                            \n",
       "                  k__Bacteria.p__Bacteroidetes.c__Bacteroidia.o__Bacteroidales.f__Rikenellaceae.g__Alistipes.s__Alistipes_putredinis\n",
       "SKST006_6_G102964 0                                                                                                                 \n",
       "SKST006_7_G102965 0                                                                                                                 \n",
       "SKST006_4_G102962 0                                                                                                                 \n",
       "SKST006_5_G102963 0                                                                                                                 \n",
       "SKST006_2_G102960 0                                                                                                                 \n",
       "SKST006_3_G102961 0                                                                                                                 \n",
       "                  k__Bacteria.p__Firmicutes.c__Clostridia.o__Clostridiales.f__Lachnospiraceae.g__Lachnospiraceae_unclassified.s__Eubacterium_rectale\n",
       "SKST006_6_G102964 0                                                                                                                                 \n",
       "SKST006_7_G102965 0                                                                                                                                 \n",
       "SKST006_4_G102962 0                                                                                                                                 \n",
       "SKST006_5_G102963 0                                                                                                                                 \n",
       "SKST006_2_G102960 0                                                                                                                                 \n",
       "SKST006_3_G102961 0                                                                                                                                 \n",
       "                  k__Bacteria.p__Bacteroidetes.c__Bacteroidia.o__Bacteroidales.f__Bacteroidaceae.g__Bacteroides.s__Bacteroides_dorei\n",
       "SKST006_6_G102964 0                                                                                                                 \n",
       "SKST006_7_G102965 0                                                                                                                 \n",
       "SKST006_4_G102962 0                                                                                                                 \n",
       "SKST006_5_G102963 0                                                                                                                 \n",
       "SKST006_2_G102960 0                                                                                                                 \n",
       "SKST006_3_G102961 0                                                                                                                 \n",
       "                  k__Bacteria.p__Firmicutes.c__Clostridia.o__Clostridiales.f__Lachnospiraceae.g__Fusicatenibacter.s__Fusicatenibacter_saccharivorans\n",
       "SKST006_6_G102964 0                                                                                                                                 \n",
       "SKST006_7_G102965 0                                                                                                                                 \n",
       "SKST006_4_G102962 0                                                                                                                                 \n",
       "SKST006_5_G102963 0                                                                                                                                 \n",
       "SKST006_2_G102960 0                                                                                                                                 \n",
       "SKST006_3_G102961 0                                                                                                                                 \n",
       "                  k__Bacteria.p__Firmicutes.c__Clostridia.o__Clostridiales.f__Lachnospiraceae.g__Blautia.s__Ruminococcus_gnavus\n",
       "SKST006_6_G102964 0                                                                                                            \n",
       "SKST006_7_G102965 0                                                                                                            \n",
       "SKST006_4_G102962 0                                                                                                            \n",
       "SKST006_5_G102963 0                                                                                                            \n",
       "SKST006_2_G102960 0                                                                                                            \n",
       "SKST006_3_G102961 0                                                                                                            \n",
       "                  k__Bacteria.p__Firmicutes.c__Clostridia.o__Clostridiales.f__Ruminococcaceae.g__Agathobaculum.s__Agathobaculum_butyriciproducens\n",
       "SKST006_6_G102964 0                                                                                                                              \n",
       "SKST006_7_G102965 0                                                                                                                              \n",
       "SKST006_4_G102962 0                                                                                                                              \n",
       "SKST006_5_G102963 0                                                                                                                              \n",
       "SKST006_2_G102960 0                                                                                                                              \n",
       "SKST006_3_G102961 0                                                                                                                              \n",
       "                  k__Bacteria.p__Firmicutes.c__Clostridia.o__Clostridiales.f__Lachnospiraceae.g__Dorea.s__Dorea_longicatena\n",
       "SKST006_6_G102964 0                                                                                                        \n",
       "SKST006_7_G102965 0                                                                                                        \n",
       "SKST006_4_G102962 0                                                                                                        \n",
       "SKST006_5_G102963 0                                                                                                        \n",
       "SKST006_2_G102960 0                                                                                                        \n",
       "SKST006_3_G102961 0                                                                                                        \n",
       "                  ⋯\n",
       "SKST006_6_G102964 ⋯\n",
       "SKST006_7_G102965 ⋯\n",
       "SKST006_4_G102962 ⋯\n",
       "SKST006_5_G102963 ⋯\n",
       "SKST006_2_G102960 ⋯\n",
       "SKST006_3_G102961 ⋯\n",
       "                  k__Bacteria.p__Firmicutes.c__Clostridia.o__Clostridiales.f__Peptostreptococcaceae.g__Paraclostridium.s__Paraclostridium_bifermentans\n",
       "SKST006_6_G102964 NA                                                                                                                                  \n",
       "SKST006_7_G102965 NA                                                                                                                                  \n",
       "SKST006_4_G102962 NA                                                                                                                                  \n",
       "SKST006_5_G102963 NA                                                                                                                                  \n",
       "SKST006_2_G102960 NA                                                                                                                                  \n",
       "SKST006_3_G102961 NA                                                                                                                                  \n",
       "                  k__Bacteria.p__Firmicutes.c__Bacilli.o__Lactobacillales.f__Enterococcaceae.g__Vagococcus.s__Vagococcus_lutrae\n",
       "SKST006_6_G102964 NA                                                                                                           \n",
       "SKST006_7_G102965 NA                                                                                                           \n",
       "SKST006_4_G102962 NA                                                                                                           \n",
       "SKST006_5_G102963 NA                                                                                                           \n",
       "SKST006_2_G102960 NA                                                                                                           \n",
       "SKST006_3_G102961 NA                                                                                                           \n",
       "                  k__Bacteria.p__Firmicutes.c__Bacilli.o__Lactobacillales.f__Enterococcaceae.g__Enterococcus.s__Enterococcus_cecorum\n",
       "SKST006_6_G102964 NA                                                                                                                \n",
       "SKST006_7_G102965 NA                                                                                                                \n",
       "SKST006_4_G102962 NA                                                                                                                \n",
       "SKST006_5_G102963 NA                                                                                                                \n",
       "SKST006_2_G102960 NA                                                                                                                \n",
       "SKST006_3_G102961 NA                                                                                                                \n",
       "                  k__Bacteria.p__Proteobacteria.c__Gammaproteobacteria.o__Enterobacterales.f__Enterobacteriaceae.g__Citrobacter.s__Citrobacter_sp_MGH106\n",
       "SKST006_6_G102964 NA                                                                                                                                    \n",
       "SKST006_7_G102965 NA                                                                                                                                    \n",
       "SKST006_4_G102962 NA                                                                                                                                    \n",
       "SKST006_5_G102963 NA                                                                                                                                    \n",
       "SKST006_2_G102960 NA                                                                                                                                    \n",
       "SKST006_3_G102961 NA                                                                                                                                    \n",
       "                  k__Bacteria.p__Firmicutes.c__Tissierellia.o__Tissierellales.f__Peptoniphilaceae.g__Peptoniphilus.s__Peptoniphilus_grossensis\n",
       "SKST006_6_G102964 NA                                                                                                                          \n",
       "SKST006_7_G102965 NA                                                                                                                          \n",
       "SKST006_4_G102962 NA                                                                                                                          \n",
       "SKST006_5_G102963 NA                                                                                                                          \n",
       "SKST006_2_G102960 NA                                                                                                                          \n",
       "SKST006_3_G102961 NA                                                                                                                          \n",
       "                  k__Bacteria.p__Tenericutes.c__Mollicutes.o__Mycoplasmatales.f__Mycoplasmataceae.g__Mycoplasma.s__Mycoplasma_hominis\n",
       "SKST006_6_G102964 NA                                                                                                                 \n",
       "SKST006_7_G102965 NA                                                                                                                 \n",
       "SKST006_4_G102962 NA                                                                                                                 \n",
       "SKST006_5_G102963 NA                                                                                                                 \n",
       "SKST006_2_G102960 NA                                                                                                                 \n",
       "SKST006_3_G102961 NA                                                                                                                 \n",
       "                  k__Bacteria.p__Fusobacteria.c__Fusobacteriia.o__Fusobacteriales.f__Fusobacteriaceae.g__Fusobacterium.s__Fusobacterium_hwasookii\n",
       "SKST006_6_G102964 NA                                                                                                                             \n",
       "SKST006_7_G102965 NA                                                                                                                             \n",
       "SKST006_4_G102962 NA                                                                                                                             \n",
       "SKST006_5_G102963 NA                                                                                                                             \n",
       "SKST006_2_G102960 NA                                                                                                                             \n",
       "SKST006_3_G102961 NA                                                                                                                             \n",
       "                  k__Bacteria.p__Firmicutes.c__Tissierellia.o__Tissierellales.f__Peptoniphilaceae.g__Peptoniphilus.s__Peptoniphilus_sp_DNF00840\n",
       "SKST006_6_G102964 NA                                                                                                                           \n",
       "SKST006_7_G102965 NA                                                                                                                           \n",
       "SKST006_4_G102962 NA                                                                                                                           \n",
       "SKST006_5_G102963 NA                                                                                                                           \n",
       "SKST006_2_G102960 NA                                                                                                                           \n",
       "SKST006_3_G102961 NA                                                                                                                           \n",
       "                  k__Bacteria.p__Firmicutes.c__Bacilli.o__Lactobacillales.f__Streptococcaceae.g__Streptococcus.s__Streptococcus_sp_HMSC034E03\n",
       "SKST006_6_G102964 NA                                                                                                                         \n",
       "SKST006_7_G102965 NA                                                                                                                         \n",
       "SKST006_4_G102962 NA                                                                                                                         \n",
       "SKST006_5_G102963 NA                                                                                                                         \n",
       "SKST006_2_G102960 NA                                                                                                                         \n",
       "SKST006_3_G102961 NA                                                                                                                         \n",
       "                  k__Bacteria.p__Proteobacteria.c__Gammaproteobacteria.o__Enterobacterales.f__Enterobacteriaceae.g__Citrobacter.s__Citrobacter_gillenii\n",
       "SKST006_6_G102964 NA                                                                                                                                   \n",
       "SKST006_7_G102965 NA                                                                                                                                   \n",
       "SKST006_4_G102962 NA                                                                                                                                   \n",
       "SKST006_5_G102963 NA                                                                                                                                   \n",
       "SKST006_2_G102960 NA                                                                                                                                   \n",
       "SKST006_3_G102961 NA                                                                                                                                   "
      ]
     },
     "metadata": {},
     "output_type": "display_data"
    },
    {
     "data": {
      "text/html": [
       "<table class=\"dataframe\">\n",
       "<caption>A data.frame: 6 × 2</caption>\n",
       "<thead>\n",
       "\t<tr><th></th><th scope=col>Case</th><th scope=col>Control</th></tr>\n",
       "\t<tr><th></th><th scope=col>&lt;chr&gt;</th><th scope=col>&lt;chr&gt;</th></tr>\n",
       "</thead>\n",
       "<tbody>\n",
       "\t<tr><th scope=row>1</th><td>SKST006_6_G102964</td><td>SKST007_6_G102995</td></tr>\n",
       "\t<tr><th scope=row>2</th><td>SKST006_6_G102964</td><td>SKST010_1_G102968</td></tr>\n",
       "\t<tr><th scope=row>3</th><td>SKST006_6_G102964</td><td>SKST041_3_G103028</td></tr>\n",
       "\t<tr><th scope=row>4</th><td>SKST006_7_G102965</td><td>SKST037_2_G103023</td></tr>\n",
       "\t<tr><th scope=row>5</th><td>SKST006_7_G102965</td><td>p9223_mo6        </td></tr>\n",
       "\t<tr><th scope=row>6</th><td>SKST006_7_G102965</td><td>p9281_mo5        </td></tr>\n",
       "</tbody>\n",
       "</table>\n"
      ],
      "text/latex": [
       "A data.frame: 6 × 2\n",
       "\\begin{tabular}{r|ll}\n",
       "  & Case & Control\\\\\n",
       "  & <chr> & <chr>\\\\\n",
       "\\hline\n",
       "\t1 & SKST006\\_6\\_G102964 & SKST007\\_6\\_G102995\\\\\n",
       "\t2 & SKST006\\_6\\_G102964 & SKST010\\_1\\_G102968\\\\\n",
       "\t3 & SKST006\\_6\\_G102964 & SKST041\\_3\\_G103028\\\\\n",
       "\t4 & SKST006\\_7\\_G102965 & SKST037\\_2\\_G103023\\\\\n",
       "\t5 & SKST006\\_7\\_G102965 & p9223\\_mo6        \\\\\n",
       "\t6 & SKST006\\_7\\_G102965 & p9281\\_mo5        \\\\\n",
       "\\end{tabular}\n"
      ],
      "text/markdown": [
       "\n",
       "A data.frame: 6 × 2\n",
       "\n",
       "| <!--/--> | Case &lt;chr&gt; | Control &lt;chr&gt; |\n",
       "|---|---|---|\n",
       "| 1 | SKST006_6_G102964 | SKST007_6_G102995 |\n",
       "| 2 | SKST006_6_G102964 | SKST010_1_G102968 |\n",
       "| 3 | SKST006_6_G102964 | SKST041_3_G103028 |\n",
       "| 4 | SKST006_7_G102965 | SKST037_2_G103023 |\n",
       "| 5 | SKST006_7_G102965 | p9223_mo6         |\n",
       "| 6 | SKST006_7_G102965 | p9281_mo5         |\n",
       "\n"
      ],
      "text/plain": [
       "  Case              Control          \n",
       "1 SKST006_6_G102964 SKST007_6_G102995\n",
       "2 SKST006_6_G102964 SKST010_1_G102968\n",
       "3 SKST006_6_G102964 SKST041_3_G103028\n",
       "4 SKST006_7_G102965 SKST037_2_G103023\n",
       "5 SKST006_7_G102965 p9223_mo6        \n",
       "6 SKST006_7_G102965 p9281_mo5        "
      ]
     },
     "metadata": {},
     "output_type": "display_data"
    }
   ],
   "source": [
    "label<-read.csv(\"Label/project.csv\")\n",
    "path = \"E:/notebook/miMatch/Temp\"\n",
    "microdata<-read.csv(\"Label/IBD/IBDmicrodata.csv\",row.names = 1,stringsAsFactors = F)\n",
    "PSMlabel<-read.csv(\"Label/IBD/IBDMatchedLabel.csv\",stringsAsFactors = F)  \n",
    "head(microdata)\n",
    "head(PSMlabel)"
   ]
  },
  {
   "cell_type": "code",
   "execution_count": 3,
   "id": "c68a7f89",
   "metadata": {},
   "outputs": [
    {
     "name": "stderr",
     "output_type": "stream",
     "text": [
      "Using Group as id variables\n",
      "\n"
     ]
    }
   ],
   "source": [
    "#-----unmatched diff taxa p<0.05---------#\n",
    "microdata$Group<-factor(microdata$Group)\n",
    "Allum<-ddply(melt(microdata),\"variable\",\n",
    "             function(x) {\n",
    "               w <- wilcox.test(value~Group,data=x)\n",
    "               with(w,data.frame(statistic,p.value))\n",
    "             })\n",
    "colnames(Allum)<-c(\"variable\", \"unmatched_statistic\", \"unmatched_p.value\" )"
   ]
  },
  {
   "cell_type": "code",
   "execution_count": 6,
   "id": "f840c2bb",
   "metadata": {},
   "outputs": [
    {
     "name": "stderr",
     "output_type": "stream",
     "text": [
      "Joining by: sample_id\n",
      "\n",
      "Using Group as id variables\n",
      "\n"
     ]
    }
   ],
   "source": [
    "#-----matched diff taxa p<0.05---------#\n",
    "microdata$sample_id<-rownames(microdata)\n",
    "matched<-data.frame(sample_id=c(PSMlabel$Case,PSMlabel$Control)) \n",
    "\n",
    "matched<-join(matched,microdata,match=\"first\")\n",
    "matched$Group<-factor(matched$Group)\n",
    "Allm<-ddply(melt(matched[,-1]),\"variable\",\n",
    "            function(x) {\n",
    "              w <- wilcox.test(value~Group,data=x,paired=T)\n",
    "              with(w,data.frame(statistic,p.value))\n",
    "            })\n",
    "colnames(Allm)<-c(\"variable\", \"matched_statistic\", \"matched_p.value\" )"
   ]
  },
  {
   "cell_type": "code",
   "execution_count": 7,
   "id": "e1a5d84e",
   "metadata": {},
   "outputs": [
    {
     "name": "stderr",
     "output_type": "stream",
     "text": [
      "Joining by: variable\n",
      "\n"
     ]
    },
    {
     "data": {
      "text/html": [
       "<table class=\"dataframe\">\n",
       "<caption>A data.frame: 6 × 8</caption>\n",
       "<thead>\n",
       "\t<tr><th></th><th scope=col>variable</th><th scope=col>unmatched_statistic</th><th scope=col>unmatched_p.value</th><th scope=col>matched_statistic</th><th scope=col>matched_p.value</th><th scope=col>Pchange</th><th scope=col>Class</th><th scope=col>Species</th></tr>\n",
       "\t<tr><th></th><th scope=col>&lt;fct&gt;</th><th scope=col>&lt;dbl&gt;</th><th scope=col>&lt;dbl&gt;</th><th scope=col>&lt;dbl&gt;</th><th scope=col>&lt;dbl&gt;</th><th scope=col>&lt;dbl&gt;</th><th scope=col>&lt;chr&gt;</th><th scope=col>&lt;chr&gt;</th></tr>\n",
       "</thead>\n",
       "<tbody>\n",
       "\t<tr><th scope=row>18</th><td>k__Bacteria.p__Bacteroidetes.c__Bacteroidia.o__Bacteroidales.f__Bacteroidaceae.g__Bacteroides.s__Bacteroides_ovatus                   </td><td>619637.0</td><td>4.627414e-05</td><td>1579355.0</td><td>9.917778e-01</td><td> 0.9917315</td><td>Bacteroidia        </td><td>Bacteroides_ovatus         </td></tr>\n",
       "\t<tr><th scope=row>101</th><td>k__Bacteria.p__Bacteroidetes.c__Bacteroidia.o__Bacteroidales.f__Bacteroidaceae.g__Bacteroides.s__Bacteroides_stercoris                </td><td>688287.5</td><td>9.874443e-01</td><td>1736303.5</td><td>1.006753e-07</td><td>-0.9874442</td><td>Bacteroidia        </td><td>Bacteroides_stercoris      </td></tr>\n",
       "\t<tr><th scope=row>568</th><td>k__Bacteria.p__Firmicutes.c__Bacilli.o__Lactobacillales.f__Lactobacillaceae.g__Lactobacillus.s__Lactobacillus_algidus                 </td><td>433437.5</td><td>9.742784e-01</td><td> 988462.5</td><td>1.938222e-04</td><td>-0.9740845</td><td>Bacilli            </td><td>Lactobacillus_algidus      </td></tr>\n",
       "\t<tr><th scope=row>385</th><td>k__Bacteria.p__Proteobacteria.c__Gammaproteobacteria.o__Enterobacterales.f__Enterobacteriaceae.g__Citrobacter.s__Citrobacter_werkmanii</td><td>634535.0</td><td>9.711372e-01</td><td>1389352.0</td><td>3.935613e-03</td><td>-0.9672016</td><td>Gammaproteobacteria</td><td>Citrobacter_werkmanii      </td></tr>\n",
       "\t<tr><th scope=row>229</th><td>k__Bacteria.p__Bacteroidetes.c__Bacteroidia.o__Bacteroidales.f__Prevotellaceae.g__Prevotella.s__Prevotella_bivia                      </td><td>688680.5</td><td>9.809464e-01</td><td>1551837.0</td><td>1.993960e-02</td><td>-0.9610068</td><td>Bacteroidia        </td><td>Prevotella_bivia           </td></tr>\n",
       "\t<tr><th scope=row>341</th><td>k__Bacteria.p__Firmicutes.c__Negativicutes.o__Veillonellales.f__Veillonellaceae.g__Megasphaera.s__Megasphaera_micronuciformis         </td><td>625422.0</td><td>3.478133e-02</td><td>1406523.0</td><td>9.639497e-01</td><td> 0.9291684</td><td>Negativicutes      </td><td>Megasphaera_micronuciformis</td></tr>\n",
       "</tbody>\n",
       "</table>\n"
      ],
      "text/latex": [
       "A data.frame: 6 × 8\n",
       "\\begin{tabular}{r|llllllll}\n",
       "  & variable & unmatched\\_statistic & unmatched\\_p.value & matched\\_statistic & matched\\_p.value & Pchange & Class & Species\\\\\n",
       "  & <fct> & <dbl> & <dbl> & <dbl> & <dbl> & <dbl> & <chr> & <chr>\\\\\n",
       "\\hline\n",
       "\t18 & k\\_\\_Bacteria.p\\_\\_Bacteroidetes.c\\_\\_Bacteroidia.o\\_\\_Bacteroidales.f\\_\\_Bacteroidaceae.g\\_\\_Bacteroides.s\\_\\_Bacteroides\\_ovatus                    & 619637.0 & 4.627414e-05 & 1579355.0 & 9.917778e-01 &  0.9917315 & Bacteroidia         & Bacteroides\\_ovatus         \\\\\n",
       "\t101 & k\\_\\_Bacteria.p\\_\\_Bacteroidetes.c\\_\\_Bacteroidia.o\\_\\_Bacteroidales.f\\_\\_Bacteroidaceae.g\\_\\_Bacteroides.s\\_\\_Bacteroides\\_stercoris                 & 688287.5 & 9.874443e-01 & 1736303.5 & 1.006753e-07 & -0.9874442 & Bacteroidia         & Bacteroides\\_stercoris      \\\\\n",
       "\t568 & k\\_\\_Bacteria.p\\_\\_Firmicutes.c\\_\\_Bacilli.o\\_\\_Lactobacillales.f\\_\\_Lactobacillaceae.g\\_\\_Lactobacillus.s\\_\\_Lactobacillus\\_algidus                  & 433437.5 & 9.742784e-01 &  988462.5 & 1.938222e-04 & -0.9740845 & Bacilli             & Lactobacillus\\_algidus      \\\\\n",
       "\t385 & k\\_\\_Bacteria.p\\_\\_Proteobacteria.c\\_\\_Gammaproteobacteria.o\\_\\_Enterobacterales.f\\_\\_Enterobacteriaceae.g\\_\\_Citrobacter.s\\_\\_Citrobacter\\_werkmanii & 634535.0 & 9.711372e-01 & 1389352.0 & 3.935613e-03 & -0.9672016 & Gammaproteobacteria & Citrobacter\\_werkmanii      \\\\\n",
       "\t229 & k\\_\\_Bacteria.p\\_\\_Bacteroidetes.c\\_\\_Bacteroidia.o\\_\\_Bacteroidales.f\\_\\_Prevotellaceae.g\\_\\_Prevotella.s\\_\\_Prevotella\\_bivia                       & 688680.5 & 9.809464e-01 & 1551837.0 & 1.993960e-02 & -0.9610068 & Bacteroidia         & Prevotella\\_bivia           \\\\\n",
       "\t341 & k\\_\\_Bacteria.p\\_\\_Firmicutes.c\\_\\_Negativicutes.o\\_\\_Veillonellales.f\\_\\_Veillonellaceae.g\\_\\_Megasphaera.s\\_\\_Megasphaera\\_micronuciformis          & 625422.0 & 3.478133e-02 & 1406523.0 & 9.639497e-01 &  0.9291684 & Negativicutes       & Megasphaera\\_micronuciformis\\\\\n",
       "\\end{tabular}\n"
      ],
      "text/markdown": [
       "\n",
       "A data.frame: 6 × 8\n",
       "\n",
       "| <!--/--> | variable &lt;fct&gt; | unmatched_statistic &lt;dbl&gt; | unmatched_p.value &lt;dbl&gt; | matched_statistic &lt;dbl&gt; | matched_p.value &lt;dbl&gt; | Pchange &lt;dbl&gt; | Class &lt;chr&gt; | Species &lt;chr&gt; |\n",
       "|---|---|---|---|---|---|---|---|---|\n",
       "| 18 | k__Bacteria.p__Bacteroidetes.c__Bacteroidia.o__Bacteroidales.f__Bacteroidaceae.g__Bacteroides.s__Bacteroides_ovatus                    | 619637.0 | 4.627414e-05 | 1579355.0 | 9.917778e-01 |  0.9917315 | Bacteroidia         | Bacteroides_ovatus          |\n",
       "| 101 | k__Bacteria.p__Bacteroidetes.c__Bacteroidia.o__Bacteroidales.f__Bacteroidaceae.g__Bacteroides.s__Bacteroides_stercoris                 | 688287.5 | 9.874443e-01 | 1736303.5 | 1.006753e-07 | -0.9874442 | Bacteroidia         | Bacteroides_stercoris       |\n",
       "| 568 | k__Bacteria.p__Firmicutes.c__Bacilli.o__Lactobacillales.f__Lactobacillaceae.g__Lactobacillus.s__Lactobacillus_algidus                  | 433437.5 | 9.742784e-01 |  988462.5 | 1.938222e-04 | -0.9740845 | Bacilli             | Lactobacillus_algidus       |\n",
       "| 385 | k__Bacteria.p__Proteobacteria.c__Gammaproteobacteria.o__Enterobacterales.f__Enterobacteriaceae.g__Citrobacter.s__Citrobacter_werkmanii | 634535.0 | 9.711372e-01 | 1389352.0 | 3.935613e-03 | -0.9672016 | Gammaproteobacteria | Citrobacter_werkmanii       |\n",
       "| 229 | k__Bacteria.p__Bacteroidetes.c__Bacteroidia.o__Bacteroidales.f__Prevotellaceae.g__Prevotella.s__Prevotella_bivia                       | 688680.5 | 9.809464e-01 | 1551837.0 | 1.993960e-02 | -0.9610068 | Bacteroidia         | Prevotella_bivia            |\n",
       "| 341 | k__Bacteria.p__Firmicutes.c__Negativicutes.o__Veillonellales.f__Veillonellaceae.g__Megasphaera.s__Megasphaera_micronuciformis          | 625422.0 | 3.478133e-02 | 1406523.0 | 9.639497e-01 |  0.9291684 | Negativicutes       | Megasphaera_micronuciformis |\n",
       "\n"
      ],
      "text/plain": [
       "    variable                                                                                                                              \n",
       "18  k__Bacteria.p__Bacteroidetes.c__Bacteroidia.o__Bacteroidales.f__Bacteroidaceae.g__Bacteroides.s__Bacteroides_ovatus                   \n",
       "101 k__Bacteria.p__Bacteroidetes.c__Bacteroidia.o__Bacteroidales.f__Bacteroidaceae.g__Bacteroides.s__Bacteroides_stercoris                \n",
       "568 k__Bacteria.p__Firmicutes.c__Bacilli.o__Lactobacillales.f__Lactobacillaceae.g__Lactobacillus.s__Lactobacillus_algidus                 \n",
       "385 k__Bacteria.p__Proteobacteria.c__Gammaproteobacteria.o__Enterobacterales.f__Enterobacteriaceae.g__Citrobacter.s__Citrobacter_werkmanii\n",
       "229 k__Bacteria.p__Bacteroidetes.c__Bacteroidia.o__Bacteroidales.f__Prevotellaceae.g__Prevotella.s__Prevotella_bivia                      \n",
       "341 k__Bacteria.p__Firmicutes.c__Negativicutes.o__Veillonellales.f__Veillonellaceae.g__Megasphaera.s__Megasphaera_micronuciformis         \n",
       "    unmatched_statistic unmatched_p.value matched_statistic matched_p.value\n",
       "18  619637.0            4.627414e-05      1579355.0         9.917778e-01   \n",
       "101 688287.5            9.874443e-01      1736303.5         1.006753e-07   \n",
       "568 433437.5            9.742784e-01       988462.5         1.938222e-04   \n",
       "385 634535.0            9.711372e-01      1389352.0         3.935613e-03   \n",
       "229 688680.5            9.809464e-01      1551837.0         1.993960e-02   \n",
       "341 625422.0            3.478133e-02      1406523.0         9.639497e-01   \n",
       "    Pchange    Class               Species                    \n",
       "18   0.9917315 Bacteroidia         Bacteroides_ovatus         \n",
       "101 -0.9874442 Bacteroidia         Bacteroides_stercoris      \n",
       "568 -0.9740845 Bacilli             Lactobacillus_algidus      \n",
       "385 -0.9672016 Gammaproteobacteria Citrobacter_werkmanii      \n",
       "229 -0.9610068 Bacteroidia         Prevotella_bivia           \n",
       "341  0.9291684 Negativicutes       Megasphaera_micronuciformis"
      ]
     },
     "metadata": {},
     "output_type": "display_data"
    }
   ],
   "source": [
    "#-----results-----#\n",
    "microPResult<-join(Allum,Allm,match=\"first\")\n",
    "\n",
    "microPResult$Pchange<-microPResult$matched_p.value-microPResult$unmatched_p.value\n",
    "microPResult<-microPResult[order(abs(microPResult$Pchange),decreasing = T),]\n",
    "\n",
    "c<-str_split_fixed(microPResult$variable,\"c__\",2)[,2]\n",
    "class<-str_split_fixed(c,\"[.]\",2)[,1]\n",
    "microPResult$Class=class\n",
    "\n",
    "s<-str_split_fixed(microPResult$variable,\"s__\",2)[,2]\n",
    "species<-str_split_fixed(s,\"[.]\",2)[,1]\n",
    "microPResult$Species=species\n",
    "head(microPResult)\n",
    "\n",
    "write.csv(microPResult,\"./ShowFigures_Results/IBD_wilcox.csv\",row.names = F)"
   ]
  },
  {
   "cell_type": "code",
   "execution_count": 9,
   "id": "200f6b4e",
   "metadata": {},
   "outputs": [
    {
     "data": {
      "text/html": [
       "350"
      ],
      "text/latex": [
       "350"
      ],
      "text/markdown": [
       "350"
      ],
      "text/plain": [
       "[1] 350"
      ]
     },
     "metadata": {},
     "output_type": "display_data"
    },
    {
     "data": {
      "text/html": [
       "436"
      ],
      "text/latex": [
       "436"
      ],
      "text/markdown": [
       "436"
      ],
      "text/plain": [
       "[1] 436"
      ]
     },
     "metadata": {},
     "output_type": "display_data"
    },
    {
     "data": {
      "text/html": [
       "319"
      ],
      "text/latex": [
       "319"
      ],
      "text/markdown": [
       "319"
      ],
      "text/plain": [
       "[1] 319"
      ]
     },
     "metadata": {},
     "output_type": "display_data"
    }
   ],
   "source": [
    "nrow(microPResult[which(microPResult$unmatched_p.value<0.05),])\n",
    "nrow(microPResult[which(microPResult$matched_p.value<0.05),])\n",
    "nrow(microPResult[which(microPResult$matched_p.value<0.05 & microPResult$unmatched_p.value<0.05),])"
   ]
  },
  {
   "cell_type": "code",
   "execution_count": 10,
   "id": "4788b1a0",
   "metadata": {},
   "outputs": [
    {
     "data": {
      "text/plain": [
       "(polygon[GRID.polygon.1], polygon[GRID.polygon.2], polygon[GRID.polygon.3], polygon[GRID.polygon.4], text[GRID.text.5], text[GRID.text.6], text[GRID.text.7], text[GRID.text.8], text[GRID.text.9]) "
      ]
     },
     "metadata": {},
     "output_type": "display_data"
    },
    {
     "data": {
      "image/png": "[encoded data removed]",
      "text/plain": [
       "plot without title"
      ]
     },
     "metadata": {
      "image/png": {
       "height": 180,
       "width": 300
      }
     },
     "output_type": "display_data"
    }
   ],
   "source": [
    "options(repr.plot.width=5,repr.plot.height=3)\n",
    "draw.pairwise.venn(\n",
    "  area1 = 350,\n",
    "  area2 = 436,\n",
    "  cross.area = 319,\n",
    "  category = c(\"unmatched\", \"matched\"),\n",
    "  fill = brewer.pal(7, \"Set1\")[1:2],\n",
    "  cat.pos = c(0, 0)\n",
    ")"
   ]
  },
  {
   "cell_type": "markdown",
   "id": "e1358635",
   "metadata": {},
   "source": [
    "## Figure 5J. heatmap"
   ]
  },
  {
   "cell_type": "code",
   "execution_count": 15,
   "id": "99a6736e",
   "metadata": {},
   "outputs": [
    {
     "data": {
      "text/html": [
       "<table class=\"dataframe\">\n",
       "<caption>A data.frame: 6 × 9</caption>\n",
       "<thead>\n",
       "\t<tr><th></th><th scope=col>Species</th><th scope=col>variable</th><th scope=col>unmatched_statistic</th><th scope=col>unmatched_p.value</th><th scope=col>matched_statistic</th><th scope=col>matched_p.value</th><th scope=col>Pchange</th><th scope=col>Class</th><th scope=col>PMID</th></tr>\n",
       "\t<tr><th></th><th scope=col>&lt;chr&gt;</th><th scope=col>&lt;chr&gt;</th><th scope=col>&lt;dbl&gt;</th><th scope=col>&lt;dbl&gt;</th><th scope=col>&lt;dbl&gt;</th><th scope=col>&lt;dbl&gt;</th><th scope=col>&lt;dbl&gt;</th><th scope=col>&lt;chr&gt;</th><th scope=col>&lt;int&gt;</th></tr>\n",
       "</thead>\n",
       "<tbody>\n",
       "\t<tr><th scope=row>1</th><td>Bacteroides ovatus         </td><td>k__Bacteria.p__Bacteroidetes.c__Bacteroidia.o__Bacteroidales.f__Bacteroidaceae.g__Bacteroides.s__Bacteroides_ovatus                   </td><td>619637.0</td><td>0.00004630</td><td>1579355.0</td><td>0.991777807</td><td> 0.9917315</td><td>Bacteroidia        </td><td>17897884</td></tr>\n",
       "\t<tr><th scope=row>2</th><td>Bacteroides stercoris      </td><td>k__Bacteria.p__Bacteroidetes.c__Bacteroidia.o__Bacteroidales.f__Bacteroidaceae.g__Bacteroides.s__Bacteroides_stercoris                </td><td>688287.5</td><td>0.98744431</td><td>1736303.5</td><td>0.000000101</td><td>-0.9874442</td><td>Bacteroidia        </td><td>      NA</td></tr>\n",
       "\t<tr><th scope=row>3</th><td>Lactobacillus algidus      </td><td>k__Bacteria.p__Firmicutes.c__Bacilli.o__Lactobacillales.f__Lactobacillaceae.g__Lactobacillus.s__Lactobacillus_algidus                 </td><td>433437.5</td><td>0.97427837</td><td> 988462.5</td><td>0.000193822</td><td>-0.9740845</td><td>Bacilli            </td><td>      NA</td></tr>\n",
       "\t<tr><th scope=row>4</th><td>Citrobacter werkmanii      </td><td>k__Bacteria.p__Proteobacteria.c__Gammaproteobacteria.o__Enterobacterales.f__Enterobacteriaceae.g__Citrobacter.s__Citrobacter_werkmanii</td><td>634535.0</td><td>0.97113718</td><td>1389352.0</td><td>0.003935613</td><td>-0.9672016</td><td>Gammaproteobacteria</td><td>      NA</td></tr>\n",
       "\t<tr><th scope=row>5</th><td>Prevotella bivia           </td><td>k__Bacteria.p__Bacteroidetes.c__Bacteroidia.o__Bacteroidales.f__Prevotellaceae.g__Prevotella.s__Prevotella_bivia                      </td><td>688680.5</td><td>0.98094643</td><td>1551837.0</td><td>0.019939596</td><td>-0.9610068</td><td>Bacteroidia        </td><td>      NA</td></tr>\n",
       "\t<tr><th scope=row>6</th><td>Megasphaera micronuciformis</td><td>k__Bacteria.p__Firmicutes.c__Negativicutes.o__Veillonellales.f__Veillonellaceae.g__Megasphaera.s__Megasphaera_micronuciformis         </td><td>625422.0</td><td>0.03478133</td><td>1406523.0</td><td>0.963949695</td><td> 0.9291684</td><td>Negativicutes      </td><td>31796936</td></tr>\n",
       "</tbody>\n",
       "</table>\n"
      ],
      "text/latex": [
       "A data.frame: 6 × 9\n",
       "\\begin{tabular}{r|lllllllll}\n",
       "  & Species & variable & unmatched\\_statistic & unmatched\\_p.value & matched\\_statistic & matched\\_p.value & Pchange & Class & PMID\\\\\n",
       "  & <chr> & <chr> & <dbl> & <dbl> & <dbl> & <dbl> & <dbl> & <chr> & <int>\\\\\n",
       "\\hline\n",
       "\t1 & Bacteroides ovatus          & k\\_\\_Bacteria.p\\_\\_Bacteroidetes.c\\_\\_Bacteroidia.o\\_\\_Bacteroidales.f\\_\\_Bacteroidaceae.g\\_\\_Bacteroides.s\\_\\_Bacteroides\\_ovatus                    & 619637.0 & 0.00004630 & 1579355.0 & 0.991777807 &  0.9917315 & Bacteroidia         & 17897884\\\\\n",
       "\t2 & Bacteroides stercoris       & k\\_\\_Bacteria.p\\_\\_Bacteroidetes.c\\_\\_Bacteroidia.o\\_\\_Bacteroidales.f\\_\\_Bacteroidaceae.g\\_\\_Bacteroides.s\\_\\_Bacteroides\\_stercoris                 & 688287.5 & 0.98744431 & 1736303.5 & 0.000000101 & -0.9874442 & Bacteroidia         &       NA\\\\\n",
       "\t3 & Lactobacillus algidus       & k\\_\\_Bacteria.p\\_\\_Firmicutes.c\\_\\_Bacilli.o\\_\\_Lactobacillales.f\\_\\_Lactobacillaceae.g\\_\\_Lactobacillus.s\\_\\_Lactobacillus\\_algidus                  & 433437.5 & 0.97427837 &  988462.5 & 0.000193822 & -0.9740845 & Bacilli             &       NA\\\\\n",
       "\t4 & Citrobacter werkmanii       & k\\_\\_Bacteria.p\\_\\_Proteobacteria.c\\_\\_Gammaproteobacteria.o\\_\\_Enterobacterales.f\\_\\_Enterobacteriaceae.g\\_\\_Citrobacter.s\\_\\_Citrobacter\\_werkmanii & 634535.0 & 0.97113718 & 1389352.0 & 0.003935613 & -0.9672016 & Gammaproteobacteria &       NA\\\\\n",
       "\t5 & Prevotella bivia            & k\\_\\_Bacteria.p\\_\\_Bacteroidetes.c\\_\\_Bacteroidia.o\\_\\_Bacteroidales.f\\_\\_Prevotellaceae.g\\_\\_Prevotella.s\\_\\_Prevotella\\_bivia                       & 688680.5 & 0.98094643 & 1551837.0 & 0.019939596 & -0.9610068 & Bacteroidia         &       NA\\\\\n",
       "\t6 & Megasphaera micronuciformis & k\\_\\_Bacteria.p\\_\\_Firmicutes.c\\_\\_Negativicutes.o\\_\\_Veillonellales.f\\_\\_Veillonellaceae.g\\_\\_Megasphaera.s\\_\\_Megasphaera\\_micronuciformis          & 625422.0 & 0.03478133 & 1406523.0 & 0.963949695 &  0.9291684 & Negativicutes       & 31796936\\\\\n",
       "\\end{tabular}\n"
      ],
      "text/markdown": [
       "\n",
       "A data.frame: 6 × 9\n",
       "\n",
       "| <!--/--> | Species &lt;chr&gt; | variable &lt;chr&gt; | unmatched_statistic &lt;dbl&gt; | unmatched_p.value &lt;dbl&gt; | matched_statistic &lt;dbl&gt; | matched_p.value &lt;dbl&gt; | Pchange &lt;dbl&gt; | Class &lt;chr&gt; | PMID &lt;int&gt; |\n",
       "|---|---|---|---|---|---|---|---|---|---|\n",
       "| 1 | Bacteroides ovatus          | k__Bacteria.p__Bacteroidetes.c__Bacteroidia.o__Bacteroidales.f__Bacteroidaceae.g__Bacteroides.s__Bacteroides_ovatus                    | 619637.0 | 0.00004630 | 1579355.0 | 0.991777807 |  0.9917315 | Bacteroidia         | 17897884 |\n",
       "| 2 | Bacteroides stercoris       | k__Bacteria.p__Bacteroidetes.c__Bacteroidia.o__Bacteroidales.f__Bacteroidaceae.g__Bacteroides.s__Bacteroides_stercoris                 | 688287.5 | 0.98744431 | 1736303.5 | 0.000000101 | -0.9874442 | Bacteroidia         |       NA |\n",
       "| 3 | Lactobacillus algidus       | k__Bacteria.p__Firmicutes.c__Bacilli.o__Lactobacillales.f__Lactobacillaceae.g__Lactobacillus.s__Lactobacillus_algidus                  | 433437.5 | 0.97427837 |  988462.5 | 0.000193822 | -0.9740845 | Bacilli             |       NA |\n",
       "| 4 | Citrobacter werkmanii       | k__Bacteria.p__Proteobacteria.c__Gammaproteobacteria.o__Enterobacterales.f__Enterobacteriaceae.g__Citrobacter.s__Citrobacter_werkmanii | 634535.0 | 0.97113718 | 1389352.0 | 0.003935613 | -0.9672016 | Gammaproteobacteria |       NA |\n",
       "| 5 | Prevotella bivia            | k__Bacteria.p__Bacteroidetes.c__Bacteroidia.o__Bacteroidales.f__Prevotellaceae.g__Prevotella.s__Prevotella_bivia                       | 688680.5 | 0.98094643 | 1551837.0 | 0.019939596 | -0.9610068 | Bacteroidia         |       NA |\n",
       "| 6 | Megasphaera micronuciformis | k__Bacteria.p__Firmicutes.c__Negativicutes.o__Veillonellales.f__Veillonellaceae.g__Megasphaera.s__Megasphaera_micronuciformis          | 625422.0 | 0.03478133 | 1406523.0 | 0.963949695 |  0.9291684 | Negativicutes       | 31796936 |\n",
       "\n"
      ],
      "text/plain": [
       "  Species                    \n",
       "1 Bacteroides ovatus         \n",
       "2 Bacteroides stercoris      \n",
       "3 Lactobacillus algidus      \n",
       "4 Citrobacter werkmanii      \n",
       "5 Prevotella bivia           \n",
       "6 Megasphaera micronuciformis\n",
       "  variable                                                                                                                              \n",
       "1 k__Bacteria.p__Bacteroidetes.c__Bacteroidia.o__Bacteroidales.f__Bacteroidaceae.g__Bacteroides.s__Bacteroides_ovatus                   \n",
       "2 k__Bacteria.p__Bacteroidetes.c__Bacteroidia.o__Bacteroidales.f__Bacteroidaceae.g__Bacteroides.s__Bacteroides_stercoris                \n",
       "3 k__Bacteria.p__Firmicutes.c__Bacilli.o__Lactobacillales.f__Lactobacillaceae.g__Lactobacillus.s__Lactobacillus_algidus                 \n",
       "4 k__Bacteria.p__Proteobacteria.c__Gammaproteobacteria.o__Enterobacterales.f__Enterobacteriaceae.g__Citrobacter.s__Citrobacter_werkmanii\n",
       "5 k__Bacteria.p__Bacteroidetes.c__Bacteroidia.o__Bacteroidales.f__Prevotellaceae.g__Prevotella.s__Prevotella_bivia                      \n",
       "6 k__Bacteria.p__Firmicutes.c__Negativicutes.o__Veillonellales.f__Veillonellaceae.g__Megasphaera.s__Megasphaera_micronuciformis         \n",
       "  unmatched_statistic unmatched_p.value matched_statistic matched_p.value\n",
       "1 619637.0            0.00004630        1579355.0         0.991777807    \n",
       "2 688287.5            0.98744431        1736303.5         0.000000101    \n",
       "3 433437.5            0.97427837         988462.5         0.000193822    \n",
       "4 634535.0            0.97113718        1389352.0         0.003935613    \n",
       "5 688680.5            0.98094643        1551837.0         0.019939596    \n",
       "6 625422.0            0.03478133        1406523.0         0.963949695    \n",
       "  Pchange    Class               PMID    \n",
       "1  0.9917315 Bacteroidia         17897884\n",
       "2 -0.9874442 Bacteroidia               NA\n",
       "3 -0.9740845 Bacilli                   NA\n",
       "4 -0.9672016 Gammaproteobacteria       NA\n",
       "5 -0.9610068 Bacteroidia               NA\n",
       "6  0.9291684 Negativicutes       31796936"
      ]
     },
     "metadata": {},
     "output_type": "display_data"
    },
    {
     "data": {
      "text/html": [
       "<table class=\"dataframe\">\n",
       "<caption>A data.frame: 6 × 4</caption>\n",
       "<thead>\n",
       "\t<tr><th></th><th scope=col>microbe_scientific_name</th><th scope=col>tax_rank_name</th><th scope=col>disease_mesh_heading</th><th scope=col>publication_PMID</th></tr>\n",
       "\t<tr><th></th><th scope=col>&lt;chr&gt;</th><th scope=col>&lt;chr&gt;</th><th scope=col>&lt;chr&gt;</th><th scope=col>&lt;chr&gt;</th></tr>\n",
       "</thead>\n",
       "<tbody>\n",
       "\t<tr><th scope=row>1</th><td>Clostridioides difficile  </td><td>Species</td><td>Crohn Disease</td><td>20848492; 22529960</td></tr>\n",
       "\t<tr><th scope=row>2</th><td>Roseburia intestinalis    </td><td>Species</td><td>Crohn Disease</td><td>22529960          </td></tr>\n",
       "\t<tr><th scope=row>3</th><td>Campylobacter gracilis    </td><td>Species</td><td>Crohn Disease</td><td>23060013          </td></tr>\n",
       "\t<tr><th scope=row>4</th><td>Gemella morbillorum       </td><td>Species</td><td>Crohn Disease</td><td>24013298          </td></tr>\n",
       "\t<tr><th scope=row>5</th><td>Roseburia intestinalis    </td><td>Species</td><td>Crohn Disease</td><td>26789999          </td></tr>\n",
       "\t<tr><th scope=row>6</th><td>Intestinibacter bartlettii</td><td>Species</td><td>Crohn Disease</td><td>30519287          </td></tr>\n",
       "</tbody>\n",
       "</table>\n"
      ],
      "text/latex": [
       "A data.frame: 6 × 4\n",
       "\\begin{tabular}{r|llll}\n",
       "  & microbe\\_scientific\\_name & tax\\_rank\\_name & disease\\_mesh\\_heading & publication\\_PMID\\\\\n",
       "  & <chr> & <chr> & <chr> & <chr>\\\\\n",
       "\\hline\n",
       "\t1 & Clostridioides difficile   & Species & Crohn Disease & 20848492; 22529960\\\\\n",
       "\t2 & Roseburia intestinalis     & Species & Crohn Disease & 22529960          \\\\\n",
       "\t3 & Campylobacter gracilis     & Species & Crohn Disease & 23060013          \\\\\n",
       "\t4 & Gemella morbillorum        & Species & Crohn Disease & 24013298          \\\\\n",
       "\t5 & Roseburia intestinalis     & Species & Crohn Disease & 26789999          \\\\\n",
       "\t6 & Intestinibacter bartlettii & Species & Crohn Disease & 30519287          \\\\\n",
       "\\end{tabular}\n"
      ],
      "text/markdown": [
       "\n",
       "A data.frame: 6 × 4\n",
       "\n",
       "| <!--/--> | microbe_scientific_name &lt;chr&gt; | tax_rank_name &lt;chr&gt; | disease_mesh_heading &lt;chr&gt; | publication_PMID &lt;chr&gt; |\n",
       "|---|---|---|---|---|\n",
       "| 1 | Clostridioides difficile   | Species | Crohn Disease | 20848492; 22529960 |\n",
       "| 2 | Roseburia intestinalis     | Species | Crohn Disease | 22529960           |\n",
       "| 3 | Campylobacter gracilis     | Species | Crohn Disease | 23060013           |\n",
       "| 4 | Gemella morbillorum        | Species | Crohn Disease | 24013298           |\n",
       "| 5 | Roseburia intestinalis     | Species | Crohn Disease | 26789999           |\n",
       "| 6 | Intestinibacter bartlettii | Species | Crohn Disease | 30519287           |\n",
       "\n"
      ],
      "text/plain": [
       "  microbe_scientific_name    tax_rank_name disease_mesh_heading\n",
       "1 Clostridioides difficile   Species       Crohn Disease       \n",
       "2 Roseburia intestinalis     Species       Crohn Disease       \n",
       "3 Campylobacter gracilis     Species       Crohn Disease       \n",
       "4 Gemella morbillorum        Species       Crohn Disease       \n",
       "5 Roseburia intestinalis     Species       Crohn Disease       \n",
       "6 Intestinibacter bartlettii Species       Crohn Disease       \n",
       "  publication_PMID  \n",
       "1 20848492; 22529960\n",
       "2 22529960          \n",
       "3 23060013          \n",
       "4 24013298          \n",
       "5 26789999          \n",
       "6 30519287          "
      ]
     },
     "metadata": {},
     "output_type": "display_data"
    }
   ],
   "source": [
    "microPResult=read.csv(\"./ShowFigures_Results/IBD_wilcox.csv\")\n",
    "PMIDResults=read.csv(\"./Label/PMIDResults.csv\")\n",
    "head(microPResult)\n",
    "head(PMIDResults)"
   ]
  },
  {
   "cell_type": "code",
   "execution_count": 16,
   "id": "e54946e4",
   "metadata": {},
   "outputs": [
    {
     "data": {
      "text/html": [
       "<table class=\"dataframe\">\n",
       "<caption>A data.frame: 6 × 9</caption>\n",
       "<thead>\n",
       "\t<tr><th></th><th scope=col>Species</th><th scope=col>variable</th><th scope=col>unmatched_statistic</th><th scope=col>unmatched_p.value</th><th scope=col>matched_statistic</th><th scope=col>matched_p.value</th><th scope=col>Pchange</th><th scope=col>Class</th><th scope=col>PMID</th></tr>\n",
       "\t<tr><th></th><th scope=col>&lt;chr&gt;</th><th scope=col>&lt;chr&gt;</th><th scope=col>&lt;dbl&gt;</th><th scope=col>&lt;dbl&gt;</th><th scope=col>&lt;dbl&gt;</th><th scope=col>&lt;dbl&gt;</th><th scope=col>&lt;dbl&gt;</th><th scope=col>&lt;chr&gt;</th><th scope=col>&lt;int&gt;</th></tr>\n",
       "</thead>\n",
       "<tbody>\n",
       "\t<tr><th scope=row>23</th><td>Megamonas hypermegale            </td><td>k__Bacteria.p__Firmicutes.c__Negativicutes.o__Selenomonadales.f__Selenomonadaceae.g__Megamonas.s__Megamonas_hypermegale                           </td><td>635839.0</td><td>0.80782334</td><td>1435804</td><td>0.01551742</td><td>-0.7923059</td><td>Negativicutes </td><td>31796936</td></tr>\n",
       "\t<tr><th scope=row>28</th><td>Bifidobacterium pseudocatenulatum</td><td>k__Bacteria.p__Actinobacteria.c__Actinobacteria.o__Bifidobacteriales.f__Bifidobacteriaceae.g__Bifidobacterium.s__Bifidobacterium_pseudocatenulatum</td><td>692700.5</td><td>0.73905492</td><td>1627817</td><td>0.03787305</td><td>-0.7011819</td><td>Actinobacteria</td><td>30567928</td></tr>\n",
       "\t<tr><th scope=row>51</th><td>Intestinimonas butyriciproducens </td><td>k__Bacteria.p__Firmicutes.c__Clostridia.o__Clostridiales.f__Clostridiales_unclassified.g__Intestinimonas.s__Intestinimonas_butyriciproducens      </td><td>664529.0</td><td>0.09181799</td><td>1566165</td><td>0.60835057</td><td> 0.5165326</td><td>Clostridia    </td><td>30567928</td></tr>\n",
       "\t<tr><th scope=row>54</th><td>Anaerotruncus colihominis        </td><td>k__Bacteria.p__Firmicutes.c__Clostridia.o__Clostridiales.f__Ruminococcaceae.g__Anaerotruncus.s__Anaerotruncus_colihominis                         </td><td>678534.0</td><td>0.44059423</td><td>1582261</td><td>0.91398861</td><td> 0.4733944</td><td>Clostridia    </td><td>30567928</td></tr>\n",
       "\t<tr><th scope=row>102</th><td>Christensenella minuta           </td><td>k__Bacteria.p__Firmicutes.c__Clostridia.o__Clostridiales.f__Christensenellaceae.g__Christensenella.s__Christensenella_minuta                      </td><td>694285.0</td><td>0.35623228</td><td>1602671</td><td>0.05353343</td><td>-0.3026988</td><td>Clostridia    </td><td>26789999</td></tr>\n",
       "\t<tr><th scope=row>145</th><td>Intestinibacter bartlettii       </td><td>k__Bacteria.p__Firmicutes.c__Clostridia.o__Clostridiales.f__Peptostreptococcaceae.g__Intestinibacter.s__Intestinibacter_bartlettii                </td><td>702351.0</td><td>0.32473114</td><td>1624069</td><td>0.10227604</td><td>-0.2224551</td><td>Clostridia    </td><td>30519287</td></tr>\n",
       "</tbody>\n",
       "</table>\n"
      ],
      "text/latex": [
       "A data.frame: 6 × 9\n",
       "\\begin{tabular}{r|lllllllll}\n",
       "  & Species & variable & unmatched\\_statistic & unmatched\\_p.value & matched\\_statistic & matched\\_p.value & Pchange & Class & PMID\\\\\n",
       "  & <chr> & <chr> & <dbl> & <dbl> & <dbl> & <dbl> & <dbl> & <chr> & <int>\\\\\n",
       "\\hline\n",
       "\t23 & Megamonas hypermegale             & k\\_\\_Bacteria.p\\_\\_Firmicutes.c\\_\\_Negativicutes.o\\_\\_Selenomonadales.f\\_\\_Selenomonadaceae.g\\_\\_Megamonas.s\\_\\_Megamonas\\_hypermegale                            & 635839.0 & 0.80782334 & 1435804 & 0.01551742 & -0.7923059 & Negativicutes  & 31796936\\\\\n",
       "\t28 & Bifidobacterium pseudocatenulatum & k\\_\\_Bacteria.p\\_\\_Actinobacteria.c\\_\\_Actinobacteria.o\\_\\_Bifidobacteriales.f\\_\\_Bifidobacteriaceae.g\\_\\_Bifidobacterium.s\\_\\_Bifidobacterium\\_pseudocatenulatum & 692700.5 & 0.73905492 & 1627817 & 0.03787305 & -0.7011819 & Actinobacteria & 30567928\\\\\n",
       "\t51 & Intestinimonas butyriciproducens  & k\\_\\_Bacteria.p\\_\\_Firmicutes.c\\_\\_Clostridia.o\\_\\_Clostridiales.f\\_\\_Clostridiales\\_unclassified.g\\_\\_Intestinimonas.s\\_\\_Intestinimonas\\_butyriciproducens       & 664529.0 & 0.09181799 & 1566165 & 0.60835057 &  0.5165326 & Clostridia     & 30567928\\\\\n",
       "\t54 & Anaerotruncus colihominis         & k\\_\\_Bacteria.p\\_\\_Firmicutes.c\\_\\_Clostridia.o\\_\\_Clostridiales.f\\_\\_Ruminococcaceae.g\\_\\_Anaerotruncus.s\\_\\_Anaerotruncus\\_colihominis                          & 678534.0 & 0.44059423 & 1582261 & 0.91398861 &  0.4733944 & Clostridia     & 30567928\\\\\n",
       "\t102 & Christensenella minuta            & k\\_\\_Bacteria.p\\_\\_Firmicutes.c\\_\\_Clostridia.o\\_\\_Clostridiales.f\\_\\_Christensenellaceae.g\\_\\_Christensenella.s\\_\\_Christensenella\\_minuta                       & 694285.0 & 0.35623228 & 1602671 & 0.05353343 & -0.3026988 & Clostridia     & 26789999\\\\\n",
       "\t145 & Intestinibacter bartlettii        & k\\_\\_Bacteria.p\\_\\_Firmicutes.c\\_\\_Clostridia.o\\_\\_Clostridiales.f\\_\\_Peptostreptococcaceae.g\\_\\_Intestinibacter.s\\_\\_Intestinibacter\\_bartlettii                 & 702351.0 & 0.32473114 & 1624069 & 0.10227604 & -0.2224551 & Clostridia     & 30519287\\\\\n",
       "\\end{tabular}\n"
      ],
      "text/markdown": [
       "\n",
       "A data.frame: 6 × 9\n",
       "\n",
       "| <!--/--> | Species &lt;chr&gt; | variable &lt;chr&gt; | unmatched_statistic &lt;dbl&gt; | unmatched_p.value &lt;dbl&gt; | matched_statistic &lt;dbl&gt; | matched_p.value &lt;dbl&gt; | Pchange &lt;dbl&gt; | Class &lt;chr&gt; | PMID &lt;int&gt; |\n",
       "|---|---|---|---|---|---|---|---|---|---|\n",
       "| 23 | Megamonas hypermegale             | k__Bacteria.p__Firmicutes.c__Negativicutes.o__Selenomonadales.f__Selenomonadaceae.g__Megamonas.s__Megamonas_hypermegale                            | 635839.0 | 0.80782334 | 1435804 | 0.01551742 | -0.7923059 | Negativicutes  | 31796936 |\n",
       "| 28 | Bifidobacterium pseudocatenulatum | k__Bacteria.p__Actinobacteria.c__Actinobacteria.o__Bifidobacteriales.f__Bifidobacteriaceae.g__Bifidobacterium.s__Bifidobacterium_pseudocatenulatum | 692700.5 | 0.73905492 | 1627817 | 0.03787305 | -0.7011819 | Actinobacteria | 30567928 |\n",
       "| 51 | Intestinimonas butyriciproducens  | k__Bacteria.p__Firmicutes.c__Clostridia.o__Clostridiales.f__Clostridiales_unclassified.g__Intestinimonas.s__Intestinimonas_butyriciproducens       | 664529.0 | 0.09181799 | 1566165 | 0.60835057 |  0.5165326 | Clostridia     | 30567928 |\n",
       "| 54 | Anaerotruncus colihominis         | k__Bacteria.p__Firmicutes.c__Clostridia.o__Clostridiales.f__Ruminococcaceae.g__Anaerotruncus.s__Anaerotruncus_colihominis                          | 678534.0 | 0.44059423 | 1582261 | 0.91398861 |  0.4733944 | Clostridia     | 30567928 |\n",
       "| 102 | Christensenella minuta            | k__Bacteria.p__Firmicutes.c__Clostridia.o__Clostridiales.f__Christensenellaceae.g__Christensenella.s__Christensenella_minuta                       | 694285.0 | 0.35623228 | 1602671 | 0.05353343 | -0.3026988 | Clostridia     | 26789999 |\n",
       "| 145 | Intestinibacter bartlettii        | k__Bacteria.p__Firmicutes.c__Clostridia.o__Clostridiales.f__Peptostreptococcaceae.g__Intestinibacter.s__Intestinibacter_bartlettii                 | 702351.0 | 0.32473114 | 1624069 | 0.10227604 | -0.2224551 | Clostridia     | 30519287 |\n",
       "\n"
      ],
      "text/plain": [
       "    Species                          \n",
       "23  Megamonas hypermegale            \n",
       "28  Bifidobacterium pseudocatenulatum\n",
       "51  Intestinimonas butyriciproducens \n",
       "54  Anaerotruncus colihominis        \n",
       "102 Christensenella minuta           \n",
       "145 Intestinibacter bartlettii       \n",
       "    variable                                                                                                                                          \n",
       "23  k__Bacteria.p__Firmicutes.c__Negativicutes.o__Selenomonadales.f__Selenomonadaceae.g__Megamonas.s__Megamonas_hypermegale                           \n",
       "28  k__Bacteria.p__Actinobacteria.c__Actinobacteria.o__Bifidobacteriales.f__Bifidobacteriaceae.g__Bifidobacterium.s__Bifidobacterium_pseudocatenulatum\n",
       "51  k__Bacteria.p__Firmicutes.c__Clostridia.o__Clostridiales.f__Clostridiales_unclassified.g__Intestinimonas.s__Intestinimonas_butyriciproducens      \n",
       "54  k__Bacteria.p__Firmicutes.c__Clostridia.o__Clostridiales.f__Ruminococcaceae.g__Anaerotruncus.s__Anaerotruncus_colihominis                         \n",
       "102 k__Bacteria.p__Firmicutes.c__Clostridia.o__Clostridiales.f__Christensenellaceae.g__Christensenella.s__Christensenella_minuta                      \n",
       "145 k__Bacteria.p__Firmicutes.c__Clostridia.o__Clostridiales.f__Peptostreptococcaceae.g__Intestinibacter.s__Intestinibacter_bartlettii                \n",
       "    unmatched_statistic unmatched_p.value matched_statistic matched_p.value\n",
       "23  635839.0            0.80782334        1435804           0.01551742     \n",
       "28  692700.5            0.73905492        1627817           0.03787305     \n",
       "51  664529.0            0.09181799        1566165           0.60835057     \n",
       "54  678534.0            0.44059423        1582261           0.91398861     \n",
       "102 694285.0            0.35623228        1602671           0.05353343     \n",
       "145 702351.0            0.32473114        1624069           0.10227604     \n",
       "    Pchange    Class          PMID    \n",
       "23  -0.7923059 Negativicutes  31796936\n",
       "28  -0.7011819 Actinobacteria 30567928\n",
       "51   0.5165326 Clostridia     30567928\n",
       "54   0.4733944 Clostridia     30567928\n",
       "102 -0.3026988 Clostridia     26789999\n",
       "145 -0.2224551 Clostridia     30519287"
      ]
     },
     "metadata": {},
     "output_type": "display_data"
    }
   ],
   "source": [
    "difftaxa=PMIDResults$microbe_scientific_name\n",
    "taxa=microPResult[which(microPResult$Species%in%difftaxa),]\n",
    "head(taxa)"
   ]
  },
  {
   "cell_type": "code",
   "execution_count": 17,
   "id": "87601c10",
   "metadata": {},
   "outputs": [
    {
     "data": {
      "image/png": "[encoded data removed]",
      "text/plain": [
       "plot without title"
      ]
     },
     "metadata": {
      "image/png": {
       "height": 180,
       "width": 300
      }
     },
     "output_type": "display_data"
    }
   ],
   "source": [
    "linshi=t(taxa[,c(4,6)])\n",
    "colnames(linshi)=taxa$Species\n",
    "red <- rgb(255,0,0,maxColorValue = 255)\n",
    "blue <- rgb(0,0,255,maxColorValue = 255)\n",
    "white <- rgb(255,255,255,maxColorValue = 255)\n",
    "pheatmap(linshi,fontsize=6,cutree_col = 6,cellheight = 8,cellwidth = 10 ,\n",
    "         color  = colorRampPalette(c(blue,white,red))(100),\n",
    "         clustering_method = \"ward.D2\",display_numbers=T,\n",
    "         number_format = \"%.3f\",number_color = \"black\",\n",
    "         fontsize_number = 0.6,\n",
    "         border_color = \"grey60\",angle_col = 45,\n",
    "         cluster_cols = F, cluster_rows = F,\n",
    "         show_rownames = T, show_colnames = T\n",
    ")\n"
   ]
  },
  {
   "cell_type": "code",
   "execution_count": null,
   "id": "a9133d4b",
   "metadata": {},
   "outputs": [],
   "source": []
  },
  {
   "cell_type": "code",
   "execution_count": null,
   "id": "ee75d133",
   "metadata": {},
   "outputs": [],
   "source": []
  },
  {
   "cell_type": "code",
   "execution_count": null,
   "id": "dedde1fa",
   "metadata": {},
   "outputs": [],
   "source": []
  }
 ],
 "metadata": {
  "kernelspec": {
   "display_name": "R",
   "language": "R",
   "name": "ir"
  },
  "language_info": {
   "codemirror_mode": "r",
   "file_extension": ".r",
   "mimetype": "text/x-r-source",
   "name": "R",
   "pygments_lexer": "r",
   "version": "4.3.1"
  }
 },
 "nbformat": 4,
 "nbformat_minor": 5
}
